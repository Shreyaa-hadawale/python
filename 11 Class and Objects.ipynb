{
 "cells": [
  {
   "cell_type": "markdown",
   "id": "c5b1444c-cfa6-4220-af08-dfa469832701",
   "metadata": {},
   "source": [
    "##### Simple class\n"
   ]
  },
  {
   "cell_type": "code",
   "execution_count": 9,
   "id": "1e452392-2d02-4a7a-b188-f4246a7e5288",
   "metadata": {},
   "outputs": [],
   "source": [
    "# simple class definition\n",
    "class Test:\n",
    "    # simple method/ function\n",
    "    def show(self):\n",
    "        print('Hello World!')"
   ]
  },
  {
   "cell_type": "code",
   "execution_count": 10,
   "id": "3aeca237-2735-4cd0-be2d-58e74a0971eb",
   "metadata": {},
   "outputs": [],
   "source": [
    "# create the object\n",
    "t1=Test()"
   ]
  },
  {
   "cell_type": "code",
   "execution_count": 11,
   "id": "0b369ef6-fee1-4a05-8882-3a1ee113a39d",
   "metadata": {},
   "outputs": [
    {
     "name": "stdout",
     "output_type": "stream",
     "text": [
      "Hello World!\n"
     ]
    }
   ],
   "source": [
    "t1.show()"
   ]
  },
  {
   "cell_type": "raw",
   "id": "6b8396f6-c34c-40b7-b6ea-5b8187c465b2",
   "metadata": {},
   "source": [
    "In object-oriented programming , a constructor is a special method within a class that is automatically invoked when a new object of that class is \n",
    "created.Its primary purpose is to initialize the objects attribute or members,setting them to their initial states.Constructor ensure that new\n",
    "object are in valid stateand usable state when they are first created."
   ]
  },
  {
   "cell_type": "markdown",
   "id": "f214c8de-7c5a-40a4-8399-0263803cca6b",
   "metadata": {},
   "source": [
    "##### Define properties / Attributes using constructor"
   ]
  },
  {
   "cell_type": "code",
   "execution_count": 14,
   "id": "71e28c03-6ef0-4f8c-9b85-b3fa9f7a80cb",
   "metadata": {},
   "outputs": [],
   "source": [
    "class MyClass:\n",
    "    def __init__(self):   #constructor\n",
    "        print('Hello world')\n",
    "    "
   ]
  },
  {
   "cell_type": "code",
   "execution_count": 15,
   "id": "c2296abe-9528-4087-86c3-b0bb1b2b7b44",
   "metadata": {},
   "outputs": [
    {
     "name": "stdout",
     "output_type": "stream",
     "text": [
      "Hello world\n"
     ]
    }
   ],
   "source": [
    "m=MyClass()"
   ]
  },
  {
   "cell_type": "raw",
   "id": "c7c8a10b-08f3-4d6a-9916-d3c2d37e4001",
   "metadata": {},
   "source": [
    "class methods must have an extra first parameter in method definition.We do not give a value for this parameter when we\n",
    "call the method,python provieds it.\n",
    "if we have a method which takes no arguments,then we still have one argument-the self.see fun() in above simple example.\n",
    "this is similar to this pointer in c++ and this referance in java.\n",
    "when we call method of this object as myobject.method(arg1,arg2), this is automatically converted by python in myclass method (my obj.arg1,arg2)-this \n",
    "is all about special self is about/\n"
   ]
  },
  {
   "cell_type": "code",
   "execution_count": 16,
   "id": "f3722e86-6028-465a-9f76-3e135df1427c",
   "metadata": {},
   "outputs": [],
   "source": [
    "class Myclass:\n",
    "    def __init__(self,x):\n",
    "        print(\"hello\",x)"
   ]
  },
  {
   "cell_type": "code",
   "execution_count": 17,
   "id": "66cb39ab-43d0-4e74-9c88-9e93f7e919f9",
   "metadata": {},
   "outputs": [
    {
     "name": "stdout",
     "output_type": "stream",
     "text": [
      "hello Shreyaa\n"
     ]
    }
   ],
   "source": [
    "m=Myclass('Shreyaa')"
   ]
  },
  {
   "cell_type": "code",
   "execution_count": 18,
   "id": "0aa19c23-d0e1-48c2-8589-adb6e0d3097a",
   "metadata": {},
   "outputs": [],
   "source": [
    "class MyClass:\n",
    "    def __init__(self,x):\n",
    "        self.name=x\n",
    "        print(\"Hello\",self.name)"
   ]
  },
  {
   "cell_type": "code",
   "execution_count": 20,
   "id": "cf69d413-008b-45f8-8903-30eb8fa92930",
   "metadata": {},
   "outputs": [
    {
     "name": "stdout",
     "output_type": "stream",
     "text": [
      "Hello Shreyaa\n"
     ]
    }
   ],
   "source": [
    "m=MyClass(\"Shreyaa\")"
   ]
  },
  {
   "cell_type": "code",
   "execution_count": 21,
   "id": "5c176e06-4550-48fb-a2a9-6aa9188e204a",
   "metadata": {},
   "outputs": [
    {
     "data": {
      "text/plain": [
       "'Shreyaa'"
      ]
     },
     "execution_count": 21,
     "metadata": {},
     "output_type": "execute_result"
    }
   ],
   "source": [
    "m.name"
   ]
  },
  {
   "cell_type": "code",
   "execution_count": 31,
   "id": "1455531d-03c3-4228-be51-0890bcb559a9",
   "metadata": {},
   "outputs": [],
   "source": [
    "class Calc:\n",
    "    def __init__(self,num):\n",
    "        self.num=num\n",
    "    def square(self):\n",
    "            print('Square of',self.num,'is:',self.num * self.num)\n",
    "    def cube(self):\n",
    "            print('Cube of',self.num,'is:',self.num **3)"
   ]
  },
  {
   "cell_type": "code",
   "execution_count": 32,
   "id": "4ee8f138-ce0f-4679-adc4-3f56150ef756",
   "metadata": {},
   "outputs": [],
   "source": [
    "c1=Calc(5)"
   ]
  },
  {
   "cell_type": "code",
   "execution_count": 33,
   "id": "3c408081-985a-4566-a174-f428e7ffe62a",
   "metadata": {},
   "outputs": [],
   "source": [
    "c2=Calc(7)"
   ]
  },
  {
   "cell_type": "code",
   "execution_count": 34,
   "id": "e7118568-59b8-4a98-b5d3-fb04ea3f9402",
   "metadata": {},
   "outputs": [
    {
     "name": "stdout",
     "output_type": "stream",
     "text": [
      "Square of 5 is: 25\n"
     ]
    }
   ],
   "source": [
    "c1.square()"
   ]
  },
  {
   "cell_type": "code",
   "execution_count": 35,
   "id": "b79342e1-0862-4dc8-ae61-191a282caf5e",
   "metadata": {},
   "outputs": [
    {
     "name": "stdout",
     "output_type": "stream",
     "text": [
      "Cube of 7 is: 343\n"
     ]
    }
   ],
   "source": [
    "c2.cube()"
   ]
  },
  {
   "cell_type": "code",
   "execution_count": 36,
   "id": "9aaec2bf-5db0-4f36-9137-eb8c58df2ab0",
   "metadata": {},
   "outputs": [
    {
     "name": "stdout",
     "output_type": "stream",
     "text": [
      "Square of 7 is: 49\n"
     ]
    }
   ],
   "source": [
    "c2.square()"
   ]
  },
  {
   "cell_type": "code",
   "execution_count": 37,
   "id": "a8617dec-fe23-46df-86df-12cebf910d54",
   "metadata": {},
   "outputs": [
    {
     "name": "stdout",
     "output_type": "stream",
     "text": [
      "Cube of 5 is: 125\n"
     ]
    }
   ],
   "source": [
    "c1.cube()"
   ]
  },
  {
   "cell_type": "code",
   "execution_count": 38,
   "id": "fabbd836-968a-43be-8662-803ff2ad55ec",
   "metadata": {},
   "outputs": [
    {
     "data": {
      "text/plain": [
       "(5, 7)"
      ]
     },
     "execution_count": 38,
     "metadata": {},
     "output_type": "execute_result"
    }
   ],
   "source": [
    "c1.num,c2.num"
   ]
  },
  {
   "cell_type": "code",
   "execution_count": 39,
   "id": "a6aa95bc-2e51-459b-9e52-9faa9397a8ae",
   "metadata": {},
   "outputs": [],
   "source": [
    "class Person:\n",
    "    def __init__(self,n,a):\n",
    "        self.name=n\n",
    "        self.age=a\n",
    "    def show(self):\n",
    "        print('Your data')\n",
    "        print(self.name,self.age)"
   ]
  },
  {
   "cell_type": "code",
   "execution_count": 42,
   "id": "e91b8e7e-d542-4668-809d-24f6e7ce0c8e",
   "metadata": {},
   "outputs": [],
   "source": [
    "p1=Person('Shreyaa',18)"
   ]
  },
  {
   "cell_type": "code",
   "execution_count": 44,
   "id": "a94fde77-398a-4fc8-9bfc-f0e97046b05d",
   "metadata": {},
   "outputs": [
    {
     "name": "stdout",
     "output_type": "stream",
     "text": [
      "Your data\n",
      "Shreyaa 18\n"
     ]
    }
   ],
   "source": [
    "p1.show()"
   ]
  },
  {
   "cell_type": "code",
   "execution_count": 45,
   "id": "c7d3209b-5dfa-4c84-84ed-4dcbbb419c43",
   "metadata": {},
   "outputs": [],
   "source": [
    "p2=Person('Sharuu',21)"
   ]
  },
  {
   "cell_type": "code",
   "execution_count": 46,
   "id": "1683705a-1aca-4bb6-bd35-a090891e1e50",
   "metadata": {},
   "outputs": [
    {
     "name": "stdout",
     "output_type": "stream",
     "text": [
      "Your data\n",
      "Sharuu 21\n"
     ]
    }
   ],
   "source": [
    "p2.show()"
   ]
  },
  {
   "cell_type": "code",
   "execution_count": 47,
   "id": "66280882-1f96-4c6b-82a1-3c264101f80c",
   "metadata": {},
   "outputs": [],
   "source": [
    "class Person:\n",
    "    def __init__(self,n,a=25):\n",
    "        self.name=n\n",
    "        self.age=a\n",
    "    def show(self):\n",
    "        print('Your data')\n",
    "        print(self.name,self.age)"
   ]
  },
  {
   "cell_type": "code",
   "execution_count": 48,
   "id": "9de73cf9-6b7e-4b1e-ad81-4081ebc700f8",
   "metadata": {},
   "outputs": [],
   "source": [
    "p3=Person('Pradnya')"
   ]
  },
  {
   "cell_type": "code",
   "execution_count": 49,
   "id": "e980614b-7942-4f2a-933e-8a6869711246",
   "metadata": {},
   "outputs": [
    {
     "name": "stdout",
     "output_type": "stream",
     "text": [
      "Your data\n",
      "Pradnya 25\n"
     ]
    }
   ],
   "source": [
    "p3.show()"
   ]
  },
  {
   "cell_type": "code",
   "execution_count": 50,
   "id": "ff724173-36e6-4a8c-b9ae-113466c0163c",
   "metadata": {},
   "outputs": [],
   "source": [
    "p4=Person('vedika',50)"
   ]
  },
  {
   "cell_type": "code",
   "execution_count": 51,
   "id": "110930cd-c15e-44b8-aac8-aebde3cea798",
   "metadata": {},
   "outputs": [
    {
     "name": "stdout",
     "output_type": "stream",
     "text": [
      "Your data\n",
      "vedika 50\n"
     ]
    }
   ],
   "source": [
    "p4.show()"
   ]
  },
  {
   "cell_type": "code",
   "execution_count": 54,
   "id": "08b73dc1-64ea-4c6e-86a9-ee9f27fa67d9",
   "metadata": {},
   "outputs": [],
   "source": [
    "p5=Person(a=26,n='Rajashri')    #Keyword arguments\n"
   ]
  },
  {
   "cell_type": "code",
   "execution_count": 55,
   "id": "06225cc7-d828-4074-832f-96bb347c90a4",
   "metadata": {},
   "outputs": [
    {
     "name": "stdout",
     "output_type": "stream",
     "text": [
      "Your data\n",
      "Rajashri 26\n"
     ]
    }
   ],
   "source": [
    "p5.show()"
   ]
  },
  {
   "cell_type": "code",
   "execution_count": 58,
   "id": "9cf5677a-899a-4a1c-ac96-a778cae16614",
   "metadata": {},
   "outputs": [],
   "source": [
    "# write method isEligible() , which will print true is the person is eligiblt fpr driving license\n",
    "# and false if not\n",
    "class license:\n",
    "    def __init__(self,a):\n",
    "        self.age=a\n",
    "    def isEligible(self):\n",
    "        if self.age>18:\n",
    "            print('True')\n",
    "        else:\n",
    "            print('False')"
   ]
  },
  {
   "cell_type": "code",
   "execution_count": 59,
   "id": "dbc2410c-65fc-401b-b7ed-e35f5c628e18",
   "metadata": {},
   "outputs": [],
   "source": [
    "l1=license(24)"
   ]
  },
  {
   "cell_type": "code",
   "execution_count": 60,
   "id": "357449f7-d127-4b5c-9710-152a8081365d",
   "metadata": {},
   "outputs": [
    {
     "name": "stdout",
     "output_type": "stream",
     "text": [
      "True\n"
     ]
    }
   ],
   "source": [
    "l1.isEligible()"
   ]
  },
  {
   "cell_type": "markdown",
   "id": "a0a1dbf2-aee8-4822-b644-c8d37b519210",
   "metadata": {},
   "source": [
    "##### class  variable\n"
   ]
  },
  {
   "cell_type": "code",
   "execution_count": 62,
   "id": "cd77f58c-5015-4e7d-91b7-acebd23f6d81",
   "metadata": {},
   "outputs": [],
   "source": [
    "class Person:\n",
    "    city='Pune'\n",
    "    def __init__(self,n,a=25):\n",
    "        self.name=n\n",
    "        self.age=a\n",
    "    def show(self):\n",
    "        print('Your data')\n",
    "        print(self.name,self.age)"
   ]
  },
  {
   "cell_type": "code",
   "execution_count": 63,
   "id": "68424af2-dc13-4bd7-8c5f-8b7054aa7494",
   "metadata": {},
   "outputs": [],
   "source": [
    "p6=Person('Ankita', 16)"
   ]
  },
  {
   "cell_type": "code",
   "execution_count": 64,
   "id": "96ce453d-aee5-4f4c-86bf-c27e02723ae7",
   "metadata": {},
   "outputs": [],
   "source": [
    "p7=Person('Anil',23)"
   ]
  },
  {
   "cell_type": "code",
   "execution_count": 65,
   "id": "a0c0ccba-4729-4250-8ce6-5d285e34ec2c",
   "metadata": {},
   "outputs": [
    {
     "data": {
      "text/plain": [
       "'Pune'"
      ]
     },
     "execution_count": 65,
     "metadata": {},
     "output_type": "execute_result"
    }
   ],
   "source": [
    "p6.city"
   ]
  },
  {
   "cell_type": "code",
   "execution_count": 66,
   "id": "3ace308a-fd73-4600-a919-d2771cf258ee",
   "metadata": {},
   "outputs": [
    {
     "data": {
      "text/plain": [
       "'Pune'"
      ]
     },
     "execution_count": 66,
     "metadata": {},
     "output_type": "execute_result"
    }
   ],
   "source": [
    "p7.city"
   ]
  },
  {
   "cell_type": "code",
   "execution_count": 67,
   "id": "a08135a6-4c06-4948-9a68-80bd0408aecf",
   "metadata": {},
   "outputs": [],
   "source": [
    "p6.city='Mumbai'"
   ]
  },
  {
   "cell_type": "code",
   "execution_count": 68,
   "id": "53c1bf4d-01f5-4e95-8ed0-94bfc3e7cc05",
   "metadata": {},
   "outputs": [
    {
     "data": {
      "text/plain": [
       "'Pune'"
      ]
     },
     "execution_count": 68,
     "metadata": {},
     "output_type": "execute_result"
    }
   ],
   "source": [
    "p7.city"
   ]
  },
  {
   "cell_type": "code",
   "execution_count": 69,
   "id": "7d86e6c3-1bea-4cd3-8763-f58d8b4ca1e0",
   "metadata": {},
   "outputs": [
    {
     "data": {
      "text/plain": [
       "'Mumbai'"
      ]
     },
     "execution_count": 69,
     "metadata": {},
     "output_type": "execute_result"
    }
   ],
   "source": [
    "p6.city"
   ]
  },
  {
   "cell_type": "raw",
   "id": "0c866476-ac9e-484d-af56-f0bf5988bd70",
   "metadata": {},
   "source": [
    "In simple words , data hiding is an object-oriented programming technique of hiding internal object details i.e.data members\n",
    "Data hiding guarantees restricted data access to class members & maintain object integrity.\n",
    "Encapsulation ,abstraction & data hiding is closely related to each other.\n",
    "in python,we use double underscore(or__) before the attributes name those attributes will not be directly visible outside"
   ]
  },
  {
   "cell_type": "markdown",
   "id": "b8b2ee16-6804-495f-91f6-aaf288d62bee",
   "metadata": {},
   "source": [
    "#### Data Hiding"
   ]
  },
  {
   "cell_type": "code",
   "execution_count": 75,
   "id": "49e8b8d0-5f56-4eec-ae3b-75724ea6fdfd",
   "metadata": {},
   "outputs": [],
   "source": [
    "class Player:\n",
    "    def __init__(self , n , m):\n",
    "        self.__name=n\n",
    "        self.matches=m\n",
    "    def display(self):\n",
    "        print(self.__name,'has played',self.matches,'matches')"
   ]
  },
  {
   "cell_type": "code",
   "execution_count": 76,
   "id": "543f1ccf-6ddb-4ea4-bfc6-0c1412dac00d",
   "metadata": {},
   "outputs": [],
   "source": [
    "p1=Player('Shreyaa',122)"
   ]
  },
  {
   "cell_type": "code",
   "execution_count": 77,
   "id": "289bf82a-58b1-4154-8719-3895a8130ff5",
   "metadata": {},
   "outputs": [
    {
     "name": "stdout",
     "output_type": "stream",
     "text": [
      "Shreyaa has played 122 matches\n"
     ]
    }
   ],
   "source": [
    "p1.display()"
   ]
  },
  {
   "cell_type": "code",
   "execution_count": 78,
   "id": "cb9e69f0-74d9-4fb2-a713-21de505112fb",
   "metadata": {},
   "outputs": [
    {
     "name": "stdout",
     "output_type": "stream",
     "text": [
      "Shreyaa has played 122 matches\n"
     ]
    }
   ],
   "source": [
    "p1=Player('Shreyaa',122)\n",
    "p1.display()"
   ]
  },
  {
   "cell_type": "code",
   "execution_count": 79,
   "id": "ebc0f817-6d8e-4e06-a044-0d2befb426b4",
   "metadata": {},
   "outputs": [
    {
     "ename": "AttributeError",
     "evalue": "'Player' object has no attribute '__name'",
     "output_type": "error",
     "traceback": [
      "\u001b[1;31m---------------------------------------------------------------------------\u001b[0m",
      "\u001b[1;31mAttributeError\u001b[0m                            Traceback (most recent call last)",
      "Cell \u001b[1;32mIn[79], line 1\u001b[0m\n\u001b[1;32m----> 1\u001b[0m p1\u001b[38;5;241m.\u001b[39m__name,p1\u001b[38;5;241m.\u001b[39mmatches\n",
      "\u001b[1;31mAttributeError\u001b[0m: 'Player' object has no attribute '__name'"
     ]
    }
   ],
   "source": [
    "p1.__name,p1.matches"
   ]
  },
  {
   "cell_type": "code",
   "execution_count": null,
   "id": "f12e2b0b-ab0b-40cf-873f-bcb0e63b5ba6",
   "metadata": {},
   "outputs": [],
   "source": []
  }
 ],
 "metadata": {
  "kernelspec": {
   "display_name": "Python [conda env:base] *",
   "language": "python",
   "name": "conda-base-py"
  },
  "language_info": {
   "codemirror_mode": {
    "name": "ipython",
    "version": 3
   },
   "file_extension": ".py",
   "mimetype": "text/x-python",
   "name": "python",
   "nbconvert_exporter": "python",
   "pygments_lexer": "ipython3",
   "version": "3.12.7"
  }
 },
 "nbformat": 4,
 "nbformat_minor": 5
}
