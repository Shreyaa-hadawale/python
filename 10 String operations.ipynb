{
 "cells": [
  {
   "cell_type": "markdown",
   "id": "63068e1c-8197-40d3-9fda-82bac186d714",
   "metadata": {},
   "source": [
    "##### Declare the string"
   ]
  },
  {
   "cell_type": "code",
   "execution_count": 2,
   "id": "3a814e8f-5bde-4ae8-ab78-29f8d58713b7",
   "metadata": {},
   "outputs": [],
   "source": [
    "name='Shreya'"
   ]
  },
  {
   "cell_type": "code",
   "execution_count": 3,
   "id": "ab807e91-8cb8-4770-9d3e-ee12e7263a12",
   "metadata": {},
   "outputs": [
    {
     "data": {
      "text/plain": [
       "str"
      ]
     },
     "execution_count": 3,
     "metadata": {},
     "output_type": "execute_result"
    }
   ],
   "source": [
    "type(name)"
   ]
  },
  {
   "cell_type": "code",
   "execution_count": 4,
   "id": "010f57d1-1bfa-49e6-82a8-a54371058f6c",
   "metadata": {},
   "outputs": [],
   "source": [
    "name=\"Shreya\""
   ]
  },
  {
   "cell_type": "code",
   "execution_count": 6,
   "id": "036a07b8-2dd5-4cea-b095-9c2737344fdd",
   "metadata": {},
   "outputs": [
    {
     "data": {
      "text/plain": [
       "str"
      ]
     },
     "execution_count": 6,
     "metadata": {},
     "output_type": "execute_result"
    }
   ],
   "source": [
    "type(name)"
   ]
  },
  {
   "cell_type": "code",
   "execution_count": 9,
   "id": "ba1a7c67-4681-4f65-8793-e51e5a03bdcd",
   "metadata": {},
   "outputs": [],
   "source": [
    "text='I like \"Python\" Programming'"
   ]
  },
  {
   "cell_type": "code",
   "execution_count": 10,
   "id": "26d27524-fff6-4746-ba6c-e6efb8b58a9a",
   "metadata": {},
   "outputs": [
    {
     "name": "stdout",
     "output_type": "stream",
     "text": [
      "I like \"Python\" Programming\n"
     ]
    }
   ],
   "source": [
    "print(text)"
   ]
  },
  {
   "cell_type": "code",
   "execution_count": 11,
   "id": "5b179ca6-70bc-4b0e-bb18-7182de18677f",
   "metadata": {},
   "outputs": [],
   "source": [
    "text=\"I like 'Python' Programming\""
   ]
  },
  {
   "cell_type": "code",
   "execution_count": 12,
   "id": "730bf862-5ece-4b04-87bf-5d67ab88fa2d",
   "metadata": {},
   "outputs": [
    {
     "name": "stdout",
     "output_type": "stream",
     "text": [
      "I like 'Python' Programming\n"
     ]
    }
   ],
   "source": [
    "print(text)"
   ]
  },
  {
   "cell_type": "markdown",
   "id": "b2d8469a-22c3-4bde-b217-f18151ad617c",
   "metadata": {},
   "source": [
    "##### multi line string"
   ]
  },
  {
   "cell_type": "code",
   "execution_count": 14,
   "id": "cf944b92-ac5c-4ec9-a86e-ad7194eab5db",
   "metadata": {},
   "outputs": [
    {
     "ename": "SyntaxError",
     "evalue": "unterminated string literal (detected at line 1) (1465422464.py, line 1)",
     "output_type": "error",
     "traceback": [
      "\u001b[1;36m  Cell \u001b[1;32mIn[14], line 1\u001b[1;36m\u001b[0m\n\u001b[1;33m    text='Hello how are you\u001b[0m\n\u001b[1;37m         ^\u001b[0m\n\u001b[1;31mSyntaxError\u001b[0m\u001b[1;31m:\u001b[0m unterminated string literal (detected at line 1)\n"
     ]
    }
   ],
   "source": [
    "text='Hello how are you\n",
    "welcome!\n",
    "I like Python Programming'"
   ]
  },
  {
   "cell_type": "code",
   "execution_count": 15,
   "id": "e8f1cb76-7fce-4466-b242-aeeab901ce1b",
   "metadata": {},
   "outputs": [],
   "source": [
    "text='''Hello how are you\n",
    "welcome!\n",
    "I like Python Programming'''"
   ]
  },
  {
   "cell_type": "code",
   "execution_count": 16,
   "id": "9dbedc35-921c-458c-b64f-fd6c457cbe32",
   "metadata": {},
   "outputs": [
    {
     "name": "stdout",
     "output_type": "stream",
     "text": [
      "Hello how are you\n",
      "welcome!\n",
      "I like Python Programming\n"
     ]
    }
   ],
   "source": [
    "print(text)"
   ]
  },
  {
   "cell_type": "code",
   "execution_count": 17,
   "id": "2b4b9bf9-a0b6-461c-a7ce-174abfb07a9e",
   "metadata": {},
   "outputs": [],
   "source": [
    "text=\"\"\"Hello how are you\n",
    "welcome!\n",
    "I like Python Programming\"\"\""
   ]
  },
  {
   "cell_type": "markdown",
   "id": "f18c554c-1027-40e2-8d1c-f3e41465baf6",
   "metadata": {},
   "source": [
    "##### Accessing String values"
   ]
  },
  {
   "cell_type": "code",
   "execution_count": 19,
   "id": "7cfa7e68-0ca3-4cbd-9863-338de6d97c8a",
   "metadata": {},
   "outputs": [],
   "source": [
    "name='Shreyaa'"
   ]
  },
  {
   "cell_type": "code",
   "execution_count": 20,
   "id": "39a01830-cc41-4845-bc41-b394b1681e06",
   "metadata": {},
   "outputs": [
    {
     "data": {
      "text/plain": [
       "'S'"
      ]
     },
     "execution_count": 20,
     "metadata": {},
     "output_type": "execute_result"
    }
   ],
   "source": [
    "name[0]"
   ]
  },
  {
   "cell_type": "code",
   "execution_count": 21,
   "id": "21bf51a5-c1f3-460b-8717-523877c00b61",
   "metadata": {},
   "outputs": [
    {
     "data": {
      "text/plain": [
       "'a'"
      ]
     },
     "execution_count": 21,
     "metadata": {},
     "output_type": "execute_result"
    }
   ],
   "source": [
    "name[5]"
   ]
  },
  {
   "cell_type": "code",
   "execution_count": 23,
   "id": "dde37526-742e-4895-a174-8b7be61a7fbb",
   "metadata": {},
   "outputs": [
    {
     "data": {
      "text/plain": [
       "'h'"
      ]
     },
     "execution_count": 23,
     "metadata": {},
     "output_type": "execute_result"
    }
   ],
   "source": [
    "name[1]"
   ]
  },
  {
   "cell_type": "code",
   "execution_count": 24,
   "id": "607da4af-127a-4c70-b6fb-eb7012e50e9e",
   "metadata": {},
   "outputs": [
    {
     "data": {
      "text/plain": [
       "'y'"
      ]
     },
     "execution_count": 24,
     "metadata": {},
     "output_type": "execute_result"
    }
   ],
   "source": [
    "name[-3]"
   ]
  },
  {
   "cell_type": "code",
   "execution_count": 26,
   "id": "796e78f7-909c-4854-a4c3-f4ad07a58ce9",
   "metadata": {},
   "outputs": [
    {
     "name": "stdout",
     "output_type": "stream",
     "text": [
      "S\n",
      "h\n",
      "r\n",
      "e\n",
      "y\n",
      "a\n",
      "a\n"
     ]
    }
   ],
   "source": [
    "for c in name:\n",
    "    print(c)"
   ]
  },
  {
   "cell_type": "code",
   "execution_count": 27,
   "id": "3dd2040e-fa5c-49af-a660-2e7f0c605890",
   "metadata": {},
   "outputs": [
    {
     "name": "stdout",
     "output_type": "stream",
     "text": [
      "SSSSSSSSSSSSSSSSSSSSSSSSSSSSSSSSSSSSSSSSSSSSSSSSSS\n",
      "hhhhhhhhhhhhhhhhhhhhhhhhhhhhhhhhhhhhhhhhhhhhhhhhhh\n",
      "rrrrrrrrrrrrrrrrrrrrrrrrrrrrrrrrrrrrrrrrrrrrrrrrrr\n",
      "eeeeeeeeeeeeeeeeeeeeeeeeeeeeeeeeeeeeeeeeeeeeeeeeee\n",
      "yyyyyyyyyyyyyyyyyyyyyyyyyyyyyyyyyyyyyyyyyyyyyyyyyy\n",
      "aaaaaaaaaaaaaaaaaaaaaaaaaaaaaaaaaaaaaaaaaaaaaaaaaa\n",
      "aaaaaaaaaaaaaaaaaaaaaaaaaaaaaaaaaaaaaaaaaaaaaaaaaa\n"
     ]
    }
   ],
   "source": [
    "for c in name:\n",
    "    print(c*50)"
   ]
  },
  {
   "cell_type": "code",
   "execution_count": 28,
   "id": "19a74e5c-9928-4619-8f95-d4296ee45d09",
   "metadata": {},
   "outputs": [
    {
     "data": {
      "text/plain": [
       "'ShreyaaShreyaaShreyaaShreyaaShreyaa'"
      ]
     },
     "execution_count": 28,
     "metadata": {},
     "output_type": "execute_result"
    }
   ],
   "source": [
    "name * 5"
   ]
  },
  {
   "cell_type": "code",
   "execution_count": 29,
   "id": "dedea62c-d0de-4ac4-bdb8-f7839dd63812",
   "metadata": {},
   "outputs": [],
   "source": [
    "name='abcde'"
   ]
  },
  {
   "cell_type": "code",
   "execution_count": 34,
   "id": "848f3299-d416-4fdd-b100-b732b778e316",
   "metadata": {},
   "outputs": [
    {
     "name": "stdout",
     "output_type": "stream",
     "text": [
      "a\n",
      "b\n",
      "c\n",
      "d\n",
      "e\n"
     ]
    }
   ],
   "source": [
    "\n",
    "for c in name:\n",
    "    print(c)\n"
   ]
  },
  {
   "cell_type": "code",
   "execution_count": 41,
   "id": "cb8b451c-d919-4467-9510-c7ed85de6bee",
   "metadata": {},
   "outputs": [
    {
     "name": "stdout",
     "output_type": "stream",
     "text": [
      "e\n",
      "d\n",
      "c\n",
      "b\n",
      "a\n"
     ]
    }
   ],
   "source": [
    "n=len(name)\n",
    "for c in range ((n) -1,-1,-1):\n",
    "    print(name[c])\n"
   ]
  },
  {
   "cell_type": "code",
   "execution_count": 48,
   "id": "3315bc3e-910a-4b8e-b32a-233bad19ecee",
   "metadata": {},
   "outputs": [
    {
     "name": "stdout",
     "output_type": "stream",
     "text": [
      "e\n",
      "d\n",
      "c\n",
      "b\n",
      "a\n"
     ]
    }
   ],
   "source": [
    "for i in range (4,-1,-1):\n",
    "    print(name[i])\n"
   ]
  },
  {
   "cell_type": "code",
   "execution_count": 52,
   "id": "799dfb9d-4d51-468c-b1c2-ac8f7b473423",
   "metadata": {},
   "outputs": [],
   "source": [
    "name1='Maharashtra'\n",
    "name2='India'"
   ]
  },
  {
   "cell_type": "code",
   "execution_count": 53,
   "id": "45e9028e-300e-477f-a9b3-339a6b0f12ae",
   "metadata": {},
   "outputs": [
    {
     "data": {
      "text/plain": [
       "'MaharashtraIndia'"
      ]
     },
     "execution_count": 53,
     "metadata": {},
     "output_type": "execute_result"
    }
   ],
   "source": [
    "name1 + name2"
   ]
  },
  {
   "cell_type": "code",
   "execution_count": 54,
   "id": "0fad2581-18c6-4537-9454-31b67a13599e",
   "metadata": {},
   "outputs": [
    {
     "data": {
      "text/plain": [
       "'Maharashtra India'"
      ]
     },
     "execution_count": 54,
     "metadata": {},
     "output_type": "execute_result"
    }
   ],
   "source": [
    "name1 +' '+name2"
   ]
  },
  {
   "cell_type": "markdown",
   "id": "a7328d01-e3c7-4dcb-b257-52b2c3b90e62",
   "metadata": {},
   "source": [
    "##### Slicing"
   ]
  },
  {
   "cell_type": "code",
   "execution_count": 56,
   "id": "4bcdd5a5-f6b8-493e-845e-d8b5f80f7a43",
   "metadata": {},
   "outputs": [
    {
     "data": {
      "text/plain": [
       "'har'"
      ]
     },
     "execution_count": 56,
     "metadata": {},
     "output_type": "execute_result"
    }
   ],
   "source": [
    "name1[2:5]"
   ]
  },
  {
   "cell_type": "code",
   "execution_count": 57,
   "id": "f21019e0-223c-4065-8dd3-5a8665b4ee5d",
   "metadata": {},
   "outputs": [
    {
     "data": {
      "text/plain": [
       "'harashtra'"
      ]
     },
     "execution_count": 57,
     "metadata": {},
     "output_type": "execute_result"
    }
   ],
   "source": [
    "name1[2:]"
   ]
  },
  {
   "cell_type": "code",
   "execution_count": 59,
   "id": "6cb3b84b-a245-4bc1-a346-0c9c1b494b36",
   "metadata": {},
   "outputs": [
    {
     "data": {
      "text/plain": [
       "'Mahar'"
      ]
     },
     "execution_count": 59,
     "metadata": {},
     "output_type": "execute_result"
    }
   ],
   "source": [
    "name1[:5]"
   ]
  },
  {
   "cell_type": "code",
   "execution_count": 61,
   "id": "407473d1-deb1-4264-bdbb-aefc33a785f1",
   "metadata": {},
   "outputs": [
    {
     "data": {
      "text/plain": [
       "'Mhrs'"
      ]
     },
     "execution_count": 61,
     "metadata": {},
     "output_type": "execute_result"
    }
   ],
   "source": [
    "name1[0:7:2]"
   ]
  },
  {
   "cell_type": "code",
   "execution_count": 62,
   "id": "4151c556-dcf5-4ff2-97d0-9ae9323f986b",
   "metadata": {},
   "outputs": [
    {
     "data": {
      "text/plain": [
       "'Maharas'"
      ]
     },
     "execution_count": 62,
     "metadata": {},
     "output_type": "execute_result"
    }
   ],
   "source": [
    "name1[0:7:1]"
   ]
  },
  {
   "cell_type": "markdown",
   "id": "d16f3783-70bc-4bdb-8156-40e3c6fc2833",
   "metadata": {},
   "source": [
    "##### Functions"
   ]
  },
  {
   "cell_type": "code",
   "execution_count": 69,
   "id": "349565c0-4ddc-461f-a9bc-b7e93df18057",
   "metadata": {},
   "outputs": [],
   "source": [
    "name='Shreya'"
   ]
  },
  {
   "cell_type": "code",
   "execution_count": 70,
   "id": "784b60a5-923b-4d65-9b93-9304cc2329e9",
   "metadata": {},
   "outputs": [
    {
     "data": {
      "text/plain": [
       "6"
      ]
     },
     "execution_count": 70,
     "metadata": {},
     "output_type": "execute_result"
    }
   ],
   "source": [
    "len(name)"
   ]
  },
  {
   "cell_type": "code",
   "execution_count": 71,
   "id": "76c38ea3-083f-4f34-a925-5a989a1cfd0a",
   "metadata": {},
   "outputs": [
    {
     "data": {
      "text/plain": [
       "'y'"
      ]
     },
     "execution_count": 71,
     "metadata": {},
     "output_type": "execute_result"
    }
   ],
   "source": [
    "max(name)"
   ]
  },
  {
   "cell_type": "code",
   "execution_count": 72,
   "id": "891f017d-4d1f-47e2-a50e-1844a7e01205",
   "metadata": {},
   "outputs": [
    {
     "data": {
      "text/plain": [
       "'S'"
      ]
     },
     "execution_count": 72,
     "metadata": {},
     "output_type": "execute_result"
    }
   ],
   "source": [
    "min(name)"
   ]
  },
  {
   "cell_type": "code",
   "execution_count": 73,
   "id": "47e02d1c-a18b-4e76-95df-1a541c1da813",
   "metadata": {},
   "outputs": [
    {
     "data": {
      "text/plain": [
       "['S', 'a', 'e', 'h', 'r', 'y']"
      ]
     },
     "execution_count": 73,
     "metadata": {},
     "output_type": "execute_result"
    }
   ],
   "source": [
    "sorted(name)"
   ]
  },
  {
   "cell_type": "code",
   "execution_count": 74,
   "id": "8e86219b-85af-4c4e-bd28-1219419484e6",
   "metadata": {},
   "outputs": [
    {
     "data": {
      "text/plain": [
       "['y', 'r', 'h', 'e', 'a', 'S']"
      ]
     },
     "execution_count": 74,
     "metadata": {},
     "output_type": "execute_result"
    }
   ],
   "source": [
    "sorted(name, reverse=True)"
   ]
  },
  {
   "cell_type": "markdown",
   "id": "08828837-d2e7-4b79-84ab-b30c2bd5a06b",
   "metadata": {},
   "source": [
    "##### Case related functions"
   ]
  },
  {
   "cell_type": "code",
   "execution_count": 76,
   "id": "af96ba2c-e602-4028-ad4d-eb30b955df2b",
   "metadata": {},
   "outputs": [],
   "source": [
    "name='shreya'"
   ]
  },
  {
   "cell_type": "code",
   "execution_count": 79,
   "id": "c4be2607-856e-474b-ad58-386b86310200",
   "metadata": {},
   "outputs": [
    {
     "data": {
      "text/plain": [
       "'Shreya'"
      ]
     },
     "execution_count": 79,
     "metadata": {},
     "output_type": "execute_result"
    }
   ],
   "source": [
    "name.capitalize()"
   ]
  },
  {
   "cell_type": "code",
   "execution_count": 80,
   "id": "17e19c51-d11b-4349-8619-dfa5b448810c",
   "metadata": {},
   "outputs": [
    {
     "data": {
      "text/plain": [
       "'Shreya'"
      ]
     },
     "execution_count": 80,
     "metadata": {},
     "output_type": "execute_result"
    }
   ],
   "source": [
    "name.title()"
   ]
  },
  {
   "cell_type": "code",
   "execution_count": 81,
   "id": "68c75ff5-6427-4da1-9317-bd233fbfad65",
   "metadata": {},
   "outputs": [],
   "source": [
    "text='Welcome to python programming'"
   ]
  },
  {
   "cell_type": "code",
   "execution_count": 83,
   "id": "fa43650e-e05a-4207-90a3-44f217598fc7",
   "metadata": {},
   "outputs": [
    {
     "data": {
      "text/plain": [
       "'Welcome to python programming'"
      ]
     },
     "execution_count": 83,
     "metadata": {},
     "output_type": "execute_result"
    }
   ],
   "source": [
    "text.capitalize()"
   ]
  },
  {
   "cell_type": "code",
   "execution_count": 84,
   "id": "7ed558b6-f93b-48fb-aab8-fd473b3c8e8b",
   "metadata": {},
   "outputs": [
    {
     "data": {
      "text/plain": [
       "'Welcome To Python Programming'"
      ]
     },
     "execution_count": 84,
     "metadata": {},
     "output_type": "execute_result"
    }
   ],
   "source": [
    "text.title()"
   ]
  },
  {
   "cell_type": "code",
   "execution_count": 85,
   "id": "fe74d954-cf2e-4ccf-b151-e6b99396c84e",
   "metadata": {},
   "outputs": [
    {
     "data": {
      "text/plain": [
       "'welcome to python programming'"
      ]
     },
     "execution_count": 85,
     "metadata": {},
     "output_type": "execute_result"
    }
   ],
   "source": [
    "text.lower()"
   ]
  },
  {
   "cell_type": "code",
   "execution_count": 86,
   "id": "ab7afd95-d1e8-4ace-994e-8be3c69c74ce",
   "metadata": {},
   "outputs": [
    {
     "data": {
      "text/plain": [
       "'WELCOME TO PYTHON PROGRAMMING'"
      ]
     },
     "execution_count": 86,
     "metadata": {},
     "output_type": "execute_result"
    }
   ],
   "source": [
    "text.upper()"
   ]
  },
  {
   "cell_type": "code",
   "execution_count": 87,
   "id": "287aa212-9c81-44e3-b3a4-a4760acba763",
   "metadata": {},
   "outputs": [
    {
     "data": {
      "text/plain": [
       "'wELCOME TO PYTHON PROGRAMMING'"
      ]
     },
     "execution_count": 87,
     "metadata": {},
     "output_type": "execute_result"
    }
   ],
   "source": [
    "text.swapcase()"
   ]
  },
  {
   "cell_type": "markdown",
   "id": "738b2e54-56ad-4989-b785-30d936f96385",
   "metadata": {},
   "source": [
    "##### Search , find and replace"
   ]
  },
  {
   "cell_type": "code",
   "execution_count": 89,
   "id": "44a7f76d-6e33-46ea-a195-9b2995a23a44",
   "metadata": {},
   "outputs": [
    {
     "data": {
      "text/plain": [
       "0"
      ]
     },
     "execution_count": 89,
     "metadata": {},
     "output_type": "execute_result"
    }
   ],
   "source": [
    "text.count('s')"
   ]
  },
  {
   "cell_type": "code",
   "execution_count": 90,
   "id": "781389d2-90ce-44ef-a2b8-f1fdc9b90ec7",
   "metadata": {},
   "outputs": [
    {
     "data": {
      "text/plain": [
       "1"
      ]
     },
     "execution_count": 90,
     "metadata": {},
     "output_type": "execute_result"
    }
   ],
   "source": [
    "text.count('in')"
   ]
  },
  {
   "cell_type": "code",
   "execution_count": 91,
   "id": "4e5af12e-ce30-416b-91bd-f68f47cf8d3f",
   "metadata": {},
   "outputs": [
    {
     "data": {
      "text/plain": [
       "1"
      ]
     },
     "execution_count": 91,
     "metadata": {},
     "output_type": "execute_result"
    }
   ],
   "source": [
    "text.count('pyth')"
   ]
  },
  {
   "cell_type": "code",
   "execution_count": 93,
   "id": "95ae6ce2-28de-4bad-9464-6b91bcf317a3",
   "metadata": {},
   "outputs": [
    {
     "data": {
      "text/plain": [
       "8"
      ]
     },
     "execution_count": 93,
     "metadata": {},
     "output_type": "execute_result"
    }
   ],
   "source": [
    "text.find('t')"
   ]
  },
  {
   "cell_type": "code",
   "execution_count": 94,
   "id": "b9e436c6-545f-413a-bd0a-63f6c26e38a7",
   "metadata": {},
   "outputs": [
    {
     "data": {
      "text/plain": [
       "13"
      ]
     },
     "execution_count": 94,
     "metadata": {},
     "output_type": "execute_result"
    }
   ],
   "source": [
    "text.rfind('t')"
   ]
  },
  {
   "cell_type": "code",
   "execution_count": 95,
   "id": "3c3788f6-adb6-4af4-97a0-9f5b74132930",
   "metadata": {},
   "outputs": [
    {
     "data": {
      "text/plain": [
       "8"
      ]
     },
     "execution_count": 95,
     "metadata": {},
     "output_type": "execute_result"
    }
   ],
   "source": [
    "text.index('t')"
   ]
  },
  {
   "cell_type": "code",
   "execution_count": 99,
   "id": "a4cc17b5-3ef9-4eaf-9592-63a4d46d3e74",
   "metadata": {},
   "outputs": [
    {
     "ename": "ValueError",
     "evalue": "substring not found",
     "output_type": "error",
     "traceback": [
      "\u001b[1;31m---------------------------------------------------------------------------\u001b[0m",
      "\u001b[1;31mValueError\u001b[0m                                Traceback (most recent call last)",
      "Cell \u001b[1;32mIn[99], line 1\u001b[0m\n\u001b[1;32m----> 1\u001b[0m text\u001b[38;5;241m.\u001b[39mrindex(\u001b[38;5;124m'\u001b[39m\u001b[38;5;124mx\u001b[39m\u001b[38;5;124m'\u001b[39m)\n",
      "\u001b[1;31mValueError\u001b[0m: substring not found"
     ]
    }
   ],
   "source": [
    "text.rindex('x')"
   ]
  },
  {
   "cell_type": "code",
   "execution_count": 100,
   "id": "db31de5a-0222-4737-9a7c-aad472c35ad6",
   "metadata": {},
   "outputs": [
    {
     "data": {
      "text/plain": [
       "-1"
      ]
     },
     "execution_count": 100,
     "metadata": {},
     "output_type": "execute_result"
    }
   ],
   "source": [
    "text.rfind('x')"
   ]
  },
  {
   "cell_type": "code",
   "execution_count": 101,
   "id": "343b5fb8-9b08-464e-b1a9-6538c9f9fc4a",
   "metadata": {},
   "outputs": [
    {
     "data": {
      "text/plain": [
       "True"
      ]
     },
     "execution_count": 101,
     "metadata": {},
     "output_type": "execute_result"
    }
   ],
   "source": [
    "name.startswith('s')"
   ]
  },
  {
   "cell_type": "code",
   "execution_count": 102,
   "id": "352174cb-2a39-4775-800d-bd6d71f948fd",
   "metadata": {},
   "outputs": [
    {
     "data": {
      "text/plain": [
       "'shreya'"
      ]
     },
     "execution_count": 102,
     "metadata": {},
     "output_type": "execute_result"
    }
   ],
   "source": [
    "name"
   ]
  },
  {
   "cell_type": "code",
   "execution_count": 103,
   "id": "dd73c669-685a-42dd-847f-259caef904a1",
   "metadata": {},
   "outputs": [
    {
     "data": {
      "text/plain": [
       "False"
      ]
     },
     "execution_count": 103,
     "metadata": {},
     "output_type": "execute_result"
    }
   ],
   "source": [
    "name.endswith('t')"
   ]
  },
  {
   "cell_type": "code",
   "execution_count": 107,
   "id": "2c98cd40-6d0c-4c6a-860a-873dd80d4ebd",
   "metadata": {},
   "outputs": [
    {
     "data": {
      "text/plain": [
       "'shrau'"
      ]
     },
     "execution_count": 107,
     "metadata": {},
     "output_type": "execute_result"
    }
   ],
   "source": [
    "name.replace('eya','au')"
   ]
  },
  {
   "cell_type": "code",
   "execution_count": 108,
   "id": "b4c6dffe-bf45-4fea-8032-ffd1bde8672d",
   "metadata": {},
   "outputs": [
    {
     "data": {
      "text/plain": [
       "'Welcome To Java Programming'"
      ]
     },
     "execution_count": 108,
     "metadata": {},
     "output_type": "execute_result"
    }
   ],
   "source": [
    "text.replace('python','Java').title()"
   ]
  },
  {
   "cell_type": "markdown",
   "id": "d6fdfcf5-58e3-4e87-a0b9-2b7747b7745d",
   "metadata": {},
   "source": [
    "##### Split and join function"
   ]
  },
  {
   "cell_type": "code",
   "execution_count": 110,
   "id": "9f6b7289-fadc-4fd7-b1aa-72afa822f023",
   "metadata": {},
   "outputs": [
    {
     "data": {
      "text/plain": [
       "['Welcome', 'to', 'python', 'programming']"
      ]
     },
     "execution_count": 110,
     "metadata": {},
     "output_type": "execute_result"
    }
   ],
   "source": [
    "text.split()"
   ]
  },
  {
   "cell_type": "code",
   "execution_count": 114,
   "id": "b4bbf607-a3f9-40f7-a018-fb56e0fd555d",
   "metadata": {},
   "outputs": [],
   "source": [
    "data='''Hello friends!\n",
    "How are you?\n",
    "Love to learn python programming'''\n"
   ]
  },
  {
   "cell_type": "code",
   "execution_count": 115,
   "id": "debdfa17-c8d2-4fb4-961b-f76e49743aa6",
   "metadata": {},
   "outputs": [
    {
     "data": {
      "text/plain": [
       "['Hello',\n",
       " 'friends!',\n",
       " 'How',\n",
       " 'are',\n",
       " 'you?',\n",
       " 'Love',\n",
       " 'to',\n",
       " 'learn',\n",
       " 'python',\n",
       " 'programming']"
      ]
     },
     "execution_count": 115,
     "metadata": {},
     "output_type": "execute_result"
    }
   ],
   "source": [
    "data.split()"
   ]
  },
  {
   "cell_type": "code",
   "execution_count": 116,
   "id": "58091b31-2067-4b70-b804-5b1d03165cd0",
   "metadata": {},
   "outputs": [
    {
     "data": {
      "text/plain": [
       "['Hello friends!', 'How are you?', 'Love to learn python programming']"
      ]
     },
     "execution_count": 116,
     "metadata": {},
     "output_type": "execute_result"
    }
   ],
   "source": [
    "data.split('\\n')"
   ]
  },
  {
   "cell_type": "code",
   "execution_count": 117,
   "id": "8a7b4e39-4ed1-4c0f-9a95-c2545896de54",
   "metadata": {},
   "outputs": [
    {
     "data": {
      "text/plain": [
       "['Hello friends!', 'How are you?', 'Love to learn python programming']"
      ]
     },
     "execution_count": 117,
     "metadata": {},
     "output_type": "execute_result"
    }
   ],
   "source": [
    "data.splitlines()"
   ]
  },
  {
   "cell_type": "code",
   "execution_count": 118,
   "id": "71b35eea-51de-48d9-88eb-286dc9dce9a6",
   "metadata": {},
   "outputs": [],
   "source": [
    "fruits='apple,mango,banana,cherry,guava'"
   ]
  },
  {
   "cell_type": "code",
   "execution_count": 119,
   "id": "05c188aa-752a-469e-86b7-0e709aa7844b",
   "metadata": {},
   "outputs": [
    {
     "data": {
      "text/plain": [
       "['apple', 'mango', 'banana', 'cherry', 'guava']"
      ]
     },
     "execution_count": 119,
     "metadata": {},
     "output_type": "execute_result"
    }
   ],
   "source": [
    "fruits.split(',')"
   ]
  },
  {
   "cell_type": "code",
   "execution_count": 121,
   "id": "997fad1c-9dd8-4c8b-b28e-b069df472b91",
   "metadata": {},
   "outputs": [
    {
     "data": {
      "text/plain": [
       "('apple', ',', 'mango,banana,cherry,guava')"
      ]
     },
     "execution_count": 121,
     "metadata": {},
     "output_type": "execute_result"
    }
   ],
   "source": [
    "fruits.partition(',')"
   ]
  },
  {
   "cell_type": "code",
   "execution_count": 122,
   "id": "82745379-0d49-4884-9709-41338e379682",
   "metadata": {},
   "outputs": [],
   "source": [
    "all_words=['apple', 'mango', 'banana', 'cherry', 'guava']"
   ]
  },
  {
   "cell_type": "code",
   "execution_count": 123,
   "id": "0ffece21-eb12-40cc-9ffc-d48dfd9a42cf",
   "metadata": {},
   "outputs": [
    {
     "data": {
      "text/plain": [
       "'apple mango banana cherry guava'"
      ]
     },
     "execution_count": 123,
     "metadata": {},
     "output_type": "execute_result"
    }
   ],
   "source": [
    "' '.join(all_words)"
   ]
  },
  {
   "cell_type": "markdown",
   "id": "b0de8dba-0841-409a-b770-3377fb47add9",
   "metadata": {},
   "source": [
    "##### White spaces, padding and alignment"
   ]
  },
  {
   "cell_type": "code",
   "execution_count": 125,
   "id": "fbbb116d-1b74-4acd-8ded-e0a007cd1fb4",
   "metadata": {},
   "outputs": [],
   "source": [
    "text1= '  Python '"
   ]
  },
  {
   "cell_type": "code",
   "execution_count": 126,
   "id": "1449e779-0c18-41e0-8288-1bdb4c34c4ae",
   "metadata": {},
   "outputs": [
    {
     "data": {
      "text/plain": [
       "'  Python '"
      ]
     },
     "execution_count": 126,
     "metadata": {},
     "output_type": "execute_result"
    }
   ],
   "source": [
    "text1"
   ]
  },
  {
   "cell_type": "code",
   "execution_count": 128,
   "id": "0867e661-db07-468d-aa71-ed2990c2de52",
   "metadata": {},
   "outputs": [
    {
     "data": {
      "text/plain": [
       "'Python '"
      ]
     },
     "execution_count": 128,
     "metadata": {},
     "output_type": "execute_result"
    }
   ],
   "source": [
    "text1.lstrip()"
   ]
  },
  {
   "cell_type": "code",
   "execution_count": 130,
   "id": "c3d6fdd6-d12c-4bb9-93df-e4d523abebcf",
   "metadata": {},
   "outputs": [
    {
     "data": {
      "text/plain": [
       "'  Python'"
      ]
     },
     "execution_count": 130,
     "metadata": {},
     "output_type": "execute_result"
    }
   ],
   "source": [
    "text1.rstrip()"
   ]
  },
  {
   "cell_type": "code",
   "execution_count": 131,
   "id": "7f5a484d-a887-4082-bd9d-e5eee572ccb5",
   "metadata": {},
   "outputs": [
    {
     "data": {
      "text/plain": [
       "'Python'"
      ]
     },
     "execution_count": 131,
     "metadata": {},
     "output_type": "execute_result"
    }
   ],
   "source": [
    "text1.strip()"
   ]
  },
  {
   "cell_type": "code",
   "execution_count": 132,
   "id": "01ee78d9-3965-4017-a874-4f93a02d7fea",
   "metadata": {},
   "outputs": [
    {
     "data": {
      "text/plain": [
       "'shreya'"
      ]
     },
     "execution_count": 132,
     "metadata": {},
     "output_type": "execute_result"
    }
   ],
   "source": [
    "name"
   ]
  },
  {
   "cell_type": "code",
   "execution_count": 133,
   "id": "68d5d1f9-a652-4851-8a9b-7247543fcde4",
   "metadata": {},
   "outputs": [
    {
     "data": {
      "text/plain": [
       "'0000shreya'"
      ]
     },
     "execution_count": 133,
     "metadata": {},
     "output_type": "execute_result"
    }
   ],
   "source": [
    "name.zfill(10)"
   ]
  },
  {
   "cell_type": "markdown",
   "id": "a70fc346-205c-4c3a-95be-cb4a3806b2e0",
   "metadata": {},
   "source": [
    "##### Predicate methods(Boolean test)"
   ]
  },
  {
   "cell_type": "code",
   "execution_count": 135,
   "id": "658e8906-d86b-4387-ae8c-0f5398aceadc",
   "metadata": {},
   "outputs": [
    {
     "data": {
      "text/plain": [
       "False"
      ]
     },
     "execution_count": 135,
     "metadata": {},
     "output_type": "execute_result"
    }
   ],
   "source": [
    "name.isupper()"
   ]
  },
  {
   "cell_type": "code",
   "execution_count": 136,
   "id": "d61148ef-4dc2-4eda-9226-b648dce8107a",
   "metadata": {},
   "outputs": [
    {
     "data": {
      "text/plain": [
       "True"
      ]
     },
     "execution_count": 136,
     "metadata": {},
     "output_type": "execute_result"
    }
   ],
   "source": [
    "name.islower()"
   ]
  },
  {
   "cell_type": "code",
   "execution_count": 137,
   "id": "6403eb98-69ca-486e-993c-2e9f113848c9",
   "metadata": {},
   "outputs": [
    {
     "data": {
      "text/plain": [
       "False"
      ]
     },
     "execution_count": 137,
     "metadata": {},
     "output_type": "execute_result"
    }
   ],
   "source": [
    "name.istitle()"
   ]
  },
  {
   "cell_type": "code",
   "execution_count": 138,
   "id": "f98d585d-1bf9-44ae-8964-ea6131ccb8ec",
   "metadata": {},
   "outputs": [
    {
     "data": {
      "text/plain": [
       "False"
      ]
     },
     "execution_count": 138,
     "metadata": {},
     "output_type": "execute_result"
    }
   ],
   "source": [
    "name.isspace()"
   ]
  },
  {
   "cell_type": "code",
   "execution_count": 139,
   "id": "be9794bc-da78-4852-a733-d0b897438e8f",
   "metadata": {},
   "outputs": [],
   "source": [
    "idf1, idf2='hello123','123hello'"
   ]
  },
  {
   "cell_type": "code",
   "execution_count": 140,
   "id": "8f783fdc-4a4f-4cd1-88d9-992807db99ba",
   "metadata": {},
   "outputs": [
    {
     "data": {
      "text/plain": [
       "True"
      ]
     },
     "execution_count": 140,
     "metadata": {},
     "output_type": "execute_result"
    }
   ],
   "source": [
    "idf1.isidentifier()"
   ]
  },
  {
   "cell_type": "code",
   "execution_count": 141,
   "id": "4340eade-1378-4996-9379-17e34f8e3f1a",
   "metadata": {},
   "outputs": [
    {
     "data": {
      "text/plain": [
       "False"
      ]
     },
     "execution_count": 141,
     "metadata": {},
     "output_type": "execute_result"
    }
   ],
   "source": [
    "idf2.isidentifier()"
   ]
  },
  {
   "cell_type": "code",
   "execution_count": 142,
   "id": "fafeff9c-6e72-490a-a6db-b0f7e4ddc8c1",
   "metadata": {},
   "outputs": [],
   "source": [
    "num1='12345'\n",
    "num2='123.45'\n",
    "num3='hello123'\n",
    "num4='three'"
   ]
  },
  {
   "cell_type": "code",
   "execution_count": 148,
   "id": "0359f20a-70aa-4443-b896-6d779badc919",
   "metadata": {},
   "outputs": [
    {
     "data": {
      "text/plain": [
       "(False, True, True, True)"
      ]
     },
     "execution_count": 148,
     "metadata": {},
     "output_type": "execute_result"
    }
   ],
   "source": [
    "num1.isalpha(),num1.isdigit(),num1.isnumeric(),num1.isalnum()"
   ]
  },
  {
   "cell_type": "code",
   "execution_count": 149,
   "id": "4dfbd8f2-eaf2-4391-b184-7c97fcb378f7",
   "metadata": {},
   "outputs": [
    {
     "data": {
      "text/plain": [
       "(False, False, False, False)"
      ]
     },
     "execution_count": 149,
     "metadata": {},
     "output_type": "execute_result"
    }
   ],
   "source": [
    "num2.isalpha(),num2.isdigit(),num2.isnumeric(),num2.isalnum()"
   ]
  },
  {
   "cell_type": "code",
   "execution_count": 150,
   "id": "2292aa49-beab-43ce-8658-007222da3e50",
   "metadata": {},
   "outputs": [
    {
     "data": {
      "text/plain": [
       "(False, False, False, True)"
      ]
     },
     "execution_count": 150,
     "metadata": {},
     "output_type": "execute_result"
    }
   ],
   "source": [
    "num3.isalpha(),num3.isdigit(),num3.isnumeric(),num3.isalnum()"
   ]
  },
  {
   "cell_type": "code",
   "execution_count": 151,
   "id": "9166d895-6e1c-4dea-be5f-ea633d911650",
   "metadata": {},
   "outputs": [
    {
     "data": {
      "text/plain": [
       "(True, False, False, True)"
      ]
     },
     "execution_count": 151,
     "metadata": {},
     "output_type": "execute_result"
    }
   ],
   "source": [
    "num4.isalpha(),num4.isdigit(),num4.isnumeric(),num4.isalnum()"
   ]
  },
  {
   "cell_type": "markdown",
   "id": "3436fc32-1777-48e5-9e02-1e2fea94b01e",
   "metadata": {},
   "source": [
    "##### sample example"
   ]
  },
  {
   "cell_type": "code",
   "execution_count": 153,
   "id": "af15e542-5335-4df3-b262-b9ca73cab89c",
   "metadata": {},
   "outputs": [],
   "source": [
    "sent='They told that their ages are 23 28 and 29 respectively'\n",
    "# find average of ages mentioned in the sentence"
   ]
  },
  {
   "cell_type": "code",
   "execution_count": 154,
   "id": "9b48a1b8-ed53-4c77-9426-0be90c42051e",
   "metadata": {},
   "outputs": [],
   "source": [
    "age1 , age2 ,age3=23,28,29"
   ]
  },
  {
   "cell_type": "code",
   "execution_count": 156,
   "id": "b59e8e2d-2f0c-4087-914c-a8686228b295",
   "metadata": {},
   "outputs": [],
   "source": [
    "total=age1+age2+age3"
   ]
  },
  {
   "cell_type": "code",
   "execution_count": 157,
   "id": "0d25296c-13eb-4af3-8180-6c730aedd55b",
   "metadata": {},
   "outputs": [],
   "source": [
    "avg=total/3"
   ]
  },
  {
   "cell_type": "code",
   "execution_count": 160,
   "id": "f8c88651-cfa1-4bc7-b1bc-58eabdebd964",
   "metadata": {},
   "outputs": [
    {
     "data": {
      "text/plain": [
       "26.666666666666668"
      ]
     },
     "execution_count": 160,
     "metadata": {},
     "output_type": "execute_result"
    }
   ],
   "source": [
    "avg"
   ]
  },
  {
   "cell_type": "code",
   "execution_count": 161,
   "id": "845ffb4d-3586-4213-9209-0af403697573",
   "metadata": {},
   "outputs": [],
   "source": [
    "words=sent.split()"
   ]
  },
  {
   "cell_type": "code",
   "execution_count": 162,
   "id": "1803b4fe-783f-4481-ac6c-98162eea6ae4",
   "metadata": {},
   "outputs": [],
   "source": [
    "ages=[]\n",
    "for word in words:\n",
    "    if word.isdigit():\n",
    "        ages.append(int(word))"
   ]
  },
  {
   "cell_type": "code",
   "execution_count": 163,
   "id": "aa8cc306-a32d-4400-8095-8b8546cd5189",
   "metadata": {},
   "outputs": [
    {
     "data": {
      "text/plain": [
       "[23, 28, 29]"
      ]
     },
     "execution_count": 163,
     "metadata": {},
     "output_type": "execute_result"
    }
   ],
   "source": [
    "ages"
   ]
  },
  {
   "cell_type": "code",
   "execution_count": 164,
   "id": "bf81455c-a6a2-4aac-8c15-ed4ba322355b",
   "metadata": {},
   "outputs": [
    {
     "data": {
      "text/plain": [
       "26.666666666666668"
      ]
     },
     "execution_count": 164,
     "metadata": {},
     "output_type": "execute_result"
    }
   ],
   "source": [
    "sum(ages)/len(ages)"
   ]
  },
  {
   "cell_type": "code",
   "execution_count": null,
   "id": "b36a217d-9eb8-497f-aa35-c4098b5e9e58",
   "metadata": {},
   "outputs": [],
   "source": []
  }
 ],
 "metadata": {
  "kernelspec": {
   "display_name": "Python [conda env:base] *",
   "language": "python",
   "name": "conda-base-py"
  },
  "language_info": {
   "codemirror_mode": {
    "name": "ipython",
    "version": 3
   },
   "file_extension": ".py",
   "mimetype": "text/x-python",
   "name": "python",
   "nbconvert_exporter": "python",
   "pygments_lexer": "ipython3",
   "version": "3.12.7"
  }
 },
 "nbformat": 4,
 "nbformat_minor": 5
}
