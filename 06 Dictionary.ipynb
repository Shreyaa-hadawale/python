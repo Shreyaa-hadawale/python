{
 "cells": [
  {
   "cell_type": "code",
   "execution_count": 1,
   "id": "eec52e33-8c62-4165-953e-2556ff9acd97",
   "metadata": {},
   "outputs": [],
   "source": [
    "d={1:34,4:67,5:34,7:47,8:48}"
   ]
  },
  {
   "cell_type": "code",
   "execution_count": 2,
   "id": "d428cbce-afa2-494e-93f7-28734e3e19cf",
   "metadata": {},
   "outputs": [
    {
     "data": {
      "text/plain": [
       "dict"
      ]
     },
     "execution_count": 2,
     "metadata": {},
     "output_type": "execute_result"
    }
   ],
   "source": [
    "type(d)"
   ]
  },
  {
   "cell_type": "code",
   "execution_count": 3,
   "id": "8c9ed869-f3b1-42df-829c-90df89ee1d1e",
   "metadata": {},
   "outputs": [
    {
     "data": {
      "text/plain": [
       "{1: 34, 4: 67, 5: 34, 7: 47, 8: 48}"
      ]
     },
     "execution_count": 3,
     "metadata": {},
     "output_type": "execute_result"
    }
   ],
   "source": [
    "d"
   ]
  },
  {
   "cell_type": "code",
   "execution_count": 4,
   "id": "4c8450bd-97b2-4836-9657-1b4dc786db5b",
   "metadata": {},
   "outputs": [
    {
     "data": {
      "text/plain": [
       "48"
      ]
     },
     "execution_count": 4,
     "metadata": {},
     "output_type": "execute_result"
    }
   ],
   "source": [
    "d[8]"
   ]
  },
  {
   "cell_type": "code",
   "execution_count": 5,
   "id": "97cb645c-ec22-4cb8-96af-fdf1fba1aeaf",
   "metadata": {},
   "outputs": [
    {
     "data": {
      "text/plain": [
       "34"
      ]
     },
     "execution_count": 5,
     "metadata": {},
     "output_type": "execute_result"
    }
   ],
   "source": [
    "d[5]"
   ]
  },
  {
   "cell_type": "code",
   "execution_count": 7,
   "id": "cc28b81e-b9bb-46bc-94ca-76fa8891cae3",
   "metadata": {},
   "outputs": [],
   "source": [
    "alpha={1:56,2:78,'a':'Apple','b':'Ball','d':'Doll'}"
   ]
  },
  {
   "cell_type": "code",
   "execution_count": 8,
   "id": "192bc7b6-51e4-4355-a987-8a1083e6d271",
   "metadata": {},
   "outputs": [
    {
     "data": {
      "text/plain": [
       "{1: 56, 2: 78, 'a': 'Apple', 'b': 'Ball', 'd': 'Doll'}"
      ]
     },
     "execution_count": 8,
     "metadata": {},
     "output_type": "execute_result"
    }
   ],
   "source": [
    "alpha"
   ]
  },
  {
   "cell_type": "code",
   "execution_count": 9,
   "id": "e7631e78-45a5-4817-9b3c-be51ee11384a",
   "metadata": {},
   "outputs": [
    {
     "data": {
      "text/plain": [
       "'Doll'"
      ]
     },
     "execution_count": 9,
     "metadata": {},
     "output_type": "execute_result"
    }
   ],
   "source": [
    "alpha['d']"
   ]
  },
  {
   "cell_type": "code",
   "execution_count": 10,
   "id": "5ac3bfac-4e0a-4334-aea3-138120ccfbc8",
   "metadata": {},
   "outputs": [],
   "source": [
    "alpha['b']='Bat'"
   ]
  },
  {
   "cell_type": "code",
   "execution_count": 11,
   "id": "59cfc6f0-2b04-4649-9586-3de5ae30c1af",
   "metadata": {},
   "outputs": [
    {
     "data": {
      "text/plain": [
       "{1: 56, 2: 78, 'a': 'Apple', 'b': 'Bat', 'd': 'Doll'}"
      ]
     },
     "execution_count": 11,
     "metadata": {},
     "output_type": "execute_result"
    }
   ],
   "source": [
    "alpha"
   ]
  },
  {
   "cell_type": "code",
   "execution_count": 12,
   "id": "ad797a60-bf08-4b5d-aa2b-df61c4f06fae",
   "metadata": {},
   "outputs": [],
   "source": [
    "alpha['z']='Zebra'"
   ]
  },
  {
   "cell_type": "code",
   "execution_count": 13,
   "id": "94badb0a-21de-4603-9ade-30fccddd3388",
   "metadata": {},
   "outputs": [
    {
     "data": {
      "text/plain": [
       "{1: 56, 2: 78, 'a': 'Apple', 'b': 'Bat', 'd': 'Doll', 'z': 'Zebra'}"
      ]
     },
     "execution_count": 13,
     "metadata": {},
     "output_type": "execute_result"
    }
   ],
   "source": [
    "alpha"
   ]
  },
  {
   "cell_type": "code",
   "execution_count": 14,
   "id": "8d1d0715-f154-40ff-bc23-9c4667fbc438",
   "metadata": {},
   "outputs": [
    {
     "data": {
      "text/plain": [
       "dict_keys([1, 2, 'a', 'b', 'd', 'z'])"
      ]
     },
     "execution_count": 14,
     "metadata": {},
     "output_type": "execute_result"
    }
   ],
   "source": [
    "alpha.keys()"
   ]
  },
  {
   "cell_type": "code",
   "execution_count": 15,
   "id": "b9ec1e42-544e-4e8e-8c95-fff6eb05ff6c",
   "metadata": {},
   "outputs": [
    {
     "data": {
      "text/plain": [
       "[1, 2, 'a', 'b', 'd', 'z']"
      ]
     },
     "execution_count": 15,
     "metadata": {},
     "output_type": "execute_result"
    }
   ],
   "source": [
    "list(alpha.keys())"
   ]
  },
  {
   "cell_type": "code",
   "execution_count": 17,
   "id": "d794bbd2-da78-4e9e-9e33-5a7d0365c283",
   "metadata": {},
   "outputs": [
    {
     "data": {
      "text/plain": [
       "[56, 78, 'Apple', 'Bat', 'Doll', 'Zebra']"
      ]
     },
     "execution_count": 17,
     "metadata": {},
     "output_type": "execute_result"
    }
   ],
   "source": [
    "list(alpha.values())"
   ]
  },
  {
   "cell_type": "code",
   "execution_count": 18,
   "id": "b6a3a0d6-10f4-4e4c-8052-57732188a18d",
   "metadata": {},
   "outputs": [
    {
     "data": {
      "text/plain": [
       "[(1, 56), (2, 78), ('a', 'Apple'), ('b', 'Bat'), ('d', 'Doll'), ('z', 'Zebra')]"
      ]
     },
     "execution_count": 18,
     "metadata": {},
     "output_type": "execute_result"
    }
   ],
   "source": [
    "list(alpha.items())"
   ]
  },
  {
   "cell_type": "code",
   "execution_count": null,
   "id": "43e46425-7c03-49f2-b5f5-035a49658e91",
   "metadata": {},
   "outputs": [],
   "source": []
  }
 ],
 "metadata": {
  "kernelspec": {
   "display_name": "Python [conda env:base] *",
   "language": "python",
   "name": "conda-base-py"
  },
  "language_info": {
   "codemirror_mode": {
    "name": "ipython",
    "version": 3
   },
   "file_extension": ".py",
   "mimetype": "text/x-python",
   "name": "python",
   "nbconvert_exporter": "python",
   "pygments_lexer": "ipython3",
   "version": "3.12.7"
  }
 },
 "nbformat": 4,
 "nbformat_minor": 5
}
