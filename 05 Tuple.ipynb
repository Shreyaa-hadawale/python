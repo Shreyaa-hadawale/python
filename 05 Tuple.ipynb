{
 "cells": [
  {
   "cell_type": "markdown",
   "id": "666681e8-4cac-445b-b4f2-dcd1c6ed16dd",
   "metadata": {},
   "source": [
    "##### creating a Tuple"
   ]
  },
  {
   "cell_type": "code",
   "execution_count": 2,
   "id": "a5548ad7-6ece-4ea4-9575-1bef7461e57e",
   "metadata": {},
   "outputs": [],
   "source": [
    "t=(23,34,56,76,89,74)"
   ]
  },
  {
   "cell_type": "code",
   "execution_count": 3,
   "id": "2287a564-0710-4954-b6c4-253cd2dd9baa",
   "metadata": {},
   "outputs": [
    {
     "data": {
      "text/plain": [
       "tuple"
      ]
     },
     "execution_count": 3,
     "metadata": {},
     "output_type": "execute_result"
    }
   ],
   "source": [
    "type(t)"
   ]
  },
  {
   "cell_type": "code",
   "execution_count": 4,
   "id": "837fdd87-ed7c-4ae6-9129-e547bee920a0",
   "metadata": {},
   "outputs": [],
   "source": [
    "x=[1,2,4,3,6,9]"
   ]
  },
  {
   "cell_type": "code",
   "execution_count": 5,
   "id": "e330e936-2fc5-4913-ac67-a1be1822ddbb",
   "metadata": {},
   "outputs": [],
   "source": [
    "t1=tuple(x)"
   ]
  },
  {
   "cell_type": "code",
   "execution_count": 6,
   "id": "7645eca7-1ded-457c-8443-fea68e1834d4",
   "metadata": {},
   "outputs": [
    {
     "data": {
      "text/plain": [
       "(1, 2, 4, 3, 6, 9)"
      ]
     },
     "execution_count": 6,
     "metadata": {},
     "output_type": "execute_result"
    }
   ],
   "source": [
    "t1"
   ]
  },
  {
   "cell_type": "code",
   "execution_count": 7,
   "id": "639cf6f6-1384-4a63-9bd5-87b3c9b4dbb5",
   "metadata": {},
   "outputs": [
    {
     "data": {
      "text/plain": [
       "89"
      ]
     },
     "execution_count": 7,
     "metadata": {},
     "output_type": "execute_result"
    }
   ],
   "source": [
    "t[4]"
   ]
  },
  {
   "cell_type": "code",
   "execution_count": 9,
   "id": "08c5ffd8-6690-4ebc-9d7a-654671e5ffc2",
   "metadata": {},
   "outputs": [
    {
     "ename": "TypeError",
     "evalue": "'tuple' object does not support item assignment",
     "output_type": "error",
     "traceback": [
      "\u001b[1;31m---------------------------------------------------------------------------\u001b[0m",
      "\u001b[1;31mTypeError\u001b[0m                                 Traceback (most recent call last)",
      "Cell \u001b[1;32mIn[9], line 1\u001b[0m\n\u001b[1;32m----> 1\u001b[0m t[\u001b[38;5;241m4\u001b[39m] \u001b[38;5;241m=\u001b[39m \u001b[38;5;241m32\u001b[39m\n",
      "\u001b[1;31mTypeError\u001b[0m: 'tuple' object does not support item assignment"
     ]
    }
   ],
   "source": [
    "t[4] = 32"
   ]
  },
  {
   "cell_type": "code",
   "execution_count": 10,
   "id": "44df41fd-5b98-4b51-b3c6-907d9f296458",
   "metadata": {},
   "outputs": [],
   "source": [
    "data =(67,'shreyaa',96)"
   ]
  },
  {
   "cell_type": "code",
   "execution_count": 11,
   "id": "cf2f6379-f014-46f2-a24a-32e53bf27481",
   "metadata": {},
   "outputs": [
    {
     "data": {
      "text/plain": [
       "(67, 'shreyaa', 96)"
      ]
     },
     "execution_count": 11,
     "metadata": {},
     "output_type": "execute_result"
    }
   ],
   "source": [
    "data"
   ]
  },
  {
   "cell_type": "code",
   "execution_count": 12,
   "id": "49fe8901-f970-4218-b3a1-77f08bed1fc8",
   "metadata": {},
   "outputs": [],
   "source": [
    "data2=(67,'shreyaa',96,(64,'Pradnya'))"
   ]
  },
  {
   "cell_type": "code",
   "execution_count": 13,
   "id": "4b22aba3-eeee-4d13-9a49-578e60fd493b",
   "metadata": {},
   "outputs": [
    {
     "data": {
      "text/plain": [
       "(67, 'shreyaa', 96, (64, 'Pradnya'))"
      ]
     },
     "execution_count": 13,
     "metadata": {},
     "output_type": "execute_result"
    }
   ],
   "source": [
    "data2"
   ]
  },
  {
   "cell_type": "code",
   "execution_count": 14,
   "id": "eec159d8-1181-4fa0-8dcd-20ed9393400c",
   "metadata": {},
   "outputs": [
    {
     "data": {
      "text/plain": [
       "(23, 34, 56, 76, 89, 74)"
      ]
     },
     "execution_count": 14,
     "metadata": {},
     "output_type": "execute_result"
    }
   ],
   "source": [
    "t"
   ]
  },
  {
   "cell_type": "code",
   "execution_count": 15,
   "id": "c35d9a1c-9519-42ac-96a3-5ae0e1ab24b2",
   "metadata": {},
   "outputs": [
    {
     "data": {
      "text/plain": [
       "(56, 76, 89)"
      ]
     },
     "execution_count": 15,
     "metadata": {},
     "output_type": "execute_result"
    }
   ],
   "source": [
    "t[2:5]"
   ]
  },
  {
   "cell_type": "code",
   "execution_count": 16,
   "id": "e4778edb-257e-473f-b937-7637295f5b60",
   "metadata": {},
   "outputs": [
    {
     "data": {
      "text/plain": [
       "(56, 76, 89, 74)"
      ]
     },
     "execution_count": 16,
     "metadata": {},
     "output_type": "execute_result"
    }
   ],
   "source": [
    "t[2:]"
   ]
  },
  {
   "cell_type": "code",
   "execution_count": 17,
   "id": "146d70ea-3feb-4d96-9076-34e51649b215",
   "metadata": {},
   "outputs": [
    {
     "data": {
      "text/plain": [
       "(23, 34, 56, 76, 89)"
      ]
     },
     "execution_count": 17,
     "metadata": {},
     "output_type": "execute_result"
    }
   ],
   "source": [
    "t[:5]"
   ]
  },
  {
   "cell_type": "code",
   "execution_count": 18,
   "id": "655954ef-f9f9-45f6-ae2f-41d6fb8c5506",
   "metadata": {},
   "outputs": [
    {
     "data": {
      "text/plain": [
       "(23, 34, 56, 76, 89, 74)"
      ]
     },
     "execution_count": 18,
     "metadata": {},
     "output_type": "execute_result"
    }
   ],
   "source": [
    "t[:]"
   ]
  },
  {
   "cell_type": "code",
   "execution_count": 19,
   "id": "d49fbbaa-b2ea-4628-bc8d-006f41a3b282",
   "metadata": {},
   "outputs": [
    {
     "data": {
      "text/plain": [
       "89"
      ]
     },
     "execution_count": 19,
     "metadata": {},
     "output_type": "execute_result"
    }
   ],
   "source": [
    "t[-2]"
   ]
  },
  {
   "cell_type": "code",
   "execution_count": 20,
   "id": "d977590a-d8e9-4120-b94f-6c35f4fe3613",
   "metadata": {},
   "outputs": [
    {
     "data": {
      "text/plain": [
       "True"
      ]
     },
     "execution_count": 20,
     "metadata": {},
     "output_type": "execute_result"
    }
   ],
   "source": [
    "56 in t"
   ]
  },
  {
   "cell_type": "code",
   "execution_count": 21,
   "id": "d63c3962-2867-44e6-86da-c84aeda49513",
   "metadata": {},
   "outputs": [
    {
     "data": {
      "text/plain": [
       "False"
      ]
     },
     "execution_count": 21,
     "metadata": {},
     "output_type": "execute_result"
    }
   ],
   "source": [
    "8 in t"
   ]
  },
  {
   "cell_type": "code",
   "execution_count": 22,
   "id": "6876fcb9-87c9-4f42-8925-d4770e95c8f6",
   "metadata": {},
   "outputs": [
    {
     "name": "stdout",
     "output_type": "stream",
     "text": [
      "23 34 56 76 89 74 "
     ]
    }
   ],
   "source": [
    "for x in t:\n",
    "    print(x,end=' ')"
   ]
  },
  {
   "cell_type": "code",
   "execution_count": 24,
   "id": "c888d45b-3f09-44dc-b1af-fffed03dd2ab",
   "metadata": {},
   "outputs": [
    {
     "data": {
      "text/plain": [
       "6"
      ]
     },
     "execution_count": 24,
     "metadata": {},
     "output_type": "execute_result"
    }
   ],
   "source": [
    "len(t)"
   ]
  },
  {
   "cell_type": "code",
   "execution_count": 25,
   "id": "1e814aa0-3442-44eb-99b9-2493fcd0026d",
   "metadata": {},
   "outputs": [
    {
     "data": {
      "text/plain": [
       "89"
      ]
     },
     "execution_count": 25,
     "metadata": {},
     "output_type": "execute_result"
    }
   ],
   "source": [
    "max(t)"
   ]
  },
  {
   "cell_type": "code",
   "execution_count": 26,
   "id": "84e2cbdb-460b-46b1-81d9-13171cea7694",
   "metadata": {},
   "outputs": [
    {
     "data": {
      "text/plain": [
       "23"
      ]
     },
     "execution_count": 26,
     "metadata": {},
     "output_type": "execute_result"
    }
   ],
   "source": [
    "min(t)"
   ]
  },
  {
   "cell_type": "code",
   "execution_count": 27,
   "id": "83940ce6-34cd-4379-a120-720f508c2994",
   "metadata": {},
   "outputs": [
    {
     "data": {
      "text/plain": [
       "352"
      ]
     },
     "execution_count": 27,
     "metadata": {},
     "output_type": "execute_result"
    }
   ],
   "source": [
    "sum(t)"
   ]
  },
  {
   "cell_type": "code",
   "execution_count": 28,
   "id": "4455e266-8f0a-4016-b362-4bd11e263f4e",
   "metadata": {},
   "outputs": [
    {
     "data": {
      "text/plain": [
       "[23, 34, 56, 74, 76, 89]"
      ]
     },
     "execution_count": 28,
     "metadata": {},
     "output_type": "execute_result"
    }
   ],
   "source": [
    "sorted(t)"
   ]
  },
  {
   "cell_type": "code",
   "execution_count": 29,
   "id": "50250f8a-df30-47e4-a26b-200bd82e9f51",
   "metadata": {},
   "outputs": [
    {
     "data": {
      "text/plain": [
       "list[23, 34, 56, 76, 89, 74]"
      ]
     },
     "execution_count": 29,
     "metadata": {},
     "output_type": "execute_result"
    }
   ],
   "source": [
    "list[t]"
   ]
  },
  {
   "cell_type": "code",
   "execution_count": 30,
   "id": "670c89b0-2fd6-4940-b434-433330fd190f",
   "metadata": {},
   "outputs": [],
   "source": [
    "name='shreya'"
   ]
  },
  {
   "cell_type": "code",
   "execution_count": 31,
   "id": "8f9b763d-0f85-4b38-adf8-0cac267c890b",
   "metadata": {},
   "outputs": [
    {
     "data": {
      "text/plain": [
       "('s', 'h', 'r', 'e', 'y', 'a')"
      ]
     },
     "execution_count": 31,
     "metadata": {},
     "output_type": "execute_result"
    }
   ],
   "source": [
    "tuple(name)"
   ]
  },
  {
   "cell_type": "code",
   "execution_count": 32,
   "id": "2b2aa590-099c-4c0a-9f58-28c92f2dc286",
   "metadata": {},
   "outputs": [
    {
     "data": {
      "text/plain": [
       "(1, 2, 4, 3, 6, 9, 23, 34, 56, 76, 89, 74)"
      ]
     },
     "execution_count": 32,
     "metadata": {},
     "output_type": "execute_result"
    }
   ],
   "source": [
    "t1 + t"
   ]
  },
  {
   "cell_type": "code",
   "execution_count": 33,
   "id": "14c5e793-13e8-47a9-b34e-8b1ec449aa86",
   "metadata": {},
   "outputs": [],
   "source": [
    "t2= t1+t"
   ]
  },
  {
   "cell_type": "code",
   "execution_count": 34,
   "id": "4abcde45-e0fc-4dbc-aae3-b8a467618faa",
   "metadata": {},
   "outputs": [
    {
     "data": {
      "text/plain": [
       "(1, 2, 4, 3, 6, 9, 23, 34, 56, 76, 89, 74)"
      ]
     },
     "execution_count": 34,
     "metadata": {},
     "output_type": "execute_result"
    }
   ],
   "source": [
    "t2"
   ]
  },
  {
   "cell_type": "markdown",
   "id": "a8c434d7-8db4-4ded-b7db-07afe3d348ec",
   "metadata": {},
   "source": [
    "##### Tuple methods"
   ]
  },
  {
   "cell_type": "code",
   "execution_count": 36,
   "id": "396f94b2-ec87-4ccf-a9d0-6d2a8abd96e8",
   "metadata": {},
   "outputs": [
    {
     "data": {
      "text/plain": [
       "(23, 34, 56, 76, 89, 74)"
      ]
     },
     "execution_count": 36,
     "metadata": {},
     "output_type": "execute_result"
    }
   ],
   "source": [
    "t"
   ]
  },
  {
   "cell_type": "code",
   "execution_count": 37,
   "id": "64988790-11b8-4550-b711-7f1ab2be556a",
   "metadata": {},
   "outputs": [
    {
     "data": {
      "text/plain": [
       "1"
      ]
     },
     "execution_count": 37,
     "metadata": {},
     "output_type": "execute_result"
    }
   ],
   "source": [
    "t.count(34)"
   ]
  },
  {
   "cell_type": "code",
   "execution_count": 38,
   "id": "46b20261-73b4-44ef-90d4-1c4b67280773",
   "metadata": {},
   "outputs": [
    {
     "data": {
      "text/plain": [
       "3"
      ]
     },
     "execution_count": 38,
     "metadata": {},
     "output_type": "execute_result"
    }
   ],
   "source": [
    "t.index(76)"
   ]
  },
  {
   "cell_type": "code",
   "execution_count": 40,
   "id": "c0f81bc1-5aaa-432f-9bf8-4f00a76f6e57",
   "metadata": {},
   "outputs": [
    {
     "ename": "AttributeError",
     "evalue": "'tuple' object has no attribute 'append'",
     "output_type": "error",
     "traceback": [
      "\u001b[1;31m---------------------------------------------------------------------------\u001b[0m",
      "\u001b[1;31mAttributeError\u001b[0m                            Traceback (most recent call last)",
      "Cell \u001b[1;32mIn[40], line 1\u001b[0m\n\u001b[1;32m----> 1\u001b[0m t\u001b[38;5;241m.\u001b[39mappend(\u001b[38;5;241m32\u001b[39m)\n",
      "\u001b[1;31mAttributeError\u001b[0m: 'tuple' object has no attribute 'append'"
     ]
    }
   ],
   "source": [
    "t.append(32)"
   ]
  },
  {
   "cell_type": "code",
   "execution_count": 41,
   "id": "ffba1d37-c746-4936-bf2a-387e72ff3538",
   "metadata": {},
   "outputs": [
    {
     "name": "stdin",
     "output_type": "stream",
     "text": [
      "How many students? 2\n",
      "Enter roll no: 67\n",
      "Enter name: shreya\n",
      "Enter marks: 96\n",
      "Enter roll no: 64\n",
      "Enter name: pradnya\n",
      "Enter marks: 85\n"
     ]
    }
   ],
   "source": [
    "total=int(input(\"How many students?\"))\n",
    "stud=[]\n",
    "for i in range(total):\n",
    "    roll=int(input('Enter roll no:'))\n",
    "    name=input('Enter name:')\n",
    "    marks=float(input('Enter marks:'))\n",
    "    data=(roll,name,marks)\n",
    "    stud.append(data)"
   ]
  },
  {
   "cell_type": "code",
   "execution_count": 42,
   "id": "8678474a-64ac-41d4-a2be-5025a0e087a6",
   "metadata": {},
   "outputs": [
    {
     "data": {
      "text/plain": [
       "[(67, 'shreya', 96.0), (64, 'pradnya', 85.0)]"
      ]
     },
     "execution_count": 42,
     "metadata": {},
     "output_type": "execute_result"
    }
   ],
   "source": [
    "stud"
   ]
  },
  {
   "cell_type": "code",
   "execution_count": 43,
   "id": "1b080738-98c4-4031-8039-6f3f572c9e1c",
   "metadata": {},
   "outputs": [
    {
     "name": "stdout",
     "output_type": "stream",
     "text": [
      "(67, 'shreya', 96.0)\n",
      "(64, 'pradnya', 85.0)\n"
     ]
    }
   ],
   "source": [
    "for s in stud:\n",
    "    print(s)"
   ]
  },
  {
   "cell_type": "code",
   "execution_count": 44,
   "id": "b93b124b-da3f-43d3-9057-5065b7f906ef",
   "metadata": {},
   "outputs": [
    {
     "name": "stdout",
     "output_type": "stream",
     "text": [
      "67 shreya 96.0\n",
      "64 pradnya 85.0\n"
     ]
    }
   ],
   "source": [
    "for s in stud:\n",
    "    print(s[0],s[1],s[2])"
   ]
  },
  {
   "cell_type": "code",
   "execution_count": 50,
   "id": "8b717ece-a6b0-4963-bde9-1eda1009ef49",
   "metadata": {},
   "outputs": [
    {
     "name": "stdout",
     "output_type": "stream",
     "text": [
      "67   shreya    96.00\n",
      "64   pradnya   85.00\n"
     ]
    }
   ],
   "source": [
    "for s in stud:\n",
    "    print(\"%-5d%-10s%-2.2f\"%(s[0],s[1],s[2]))"
   ]
  },
  {
   "cell_type": "code",
   "execution_count": null,
   "id": "95bfc807-c5a3-4382-bd28-bd8ac033be60",
   "metadata": {},
   "outputs": [],
   "source": []
  }
 ],
 "metadata": {
  "kernelspec": {
   "display_name": "Python [conda env:base] *",
   "language": "python",
   "name": "conda-base-py"
  },
  "language_info": {
   "codemirror_mode": {
    "name": "ipython",
    "version": 3
   },
   "file_extension": ".py",
   "mimetype": "text/x-python",
   "name": "python",
   "nbconvert_exporter": "python",
   "pygments_lexer": "ipython3",
   "version": "3.12.7"
  }
 },
 "nbformat": 4,
 "nbformat_minor": 5
}
