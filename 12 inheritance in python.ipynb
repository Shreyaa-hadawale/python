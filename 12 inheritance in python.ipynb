{
 "cells": [
  {
   "cell_type": "markdown",
   "id": "2811e4e6-b017-4a58-9187-4818d4f29702",
   "metadata": {},
   "source": [
    "#### Inheritance "
   ]
  },
  {
   "cell_type": "raw",
   "id": "325fdac8-e5fa-49a7-b0c1-189c6633baf1",
   "metadata": {},
   "source": [
    "one of the major advantages of object oriented programming is re-use\n",
    "inheritance is one of the mechanism to achieve the same\n",
    "in inheritance ,a class(usually called superclass)is inherited by another class(usually called called).\n",
    "the subclass adds some attribute to superclass"
   ]
  },
  {
   "cell_type": "code",
   "execution_count": 7,
   "id": "2fd7dafe-5a55-4c95-89e0-f1c8558df13d",
   "metadata": {},
   "outputs": [],
   "source": [
    "class Person:       #Super class\n",
    "    def __init__(self,n,a=25):\n",
    "        self.name=n\n",
    "        self.age=a\n",
    "    def show(self):\n",
    "        print('Your data')\n",
    "        print(self.name,self.age)\n",
    "\n",
    "class Employee(Person):     #sub-class\n",
    "    def isEligible(self):\n",
    "        if self.age>= 18:\n",
    "            return True\n",
    "        else:\n",
    "            return False"
   ]
  },
  {
   "cell_type": "code",
   "execution_count": 8,
   "id": "01d838df-bc07-4fc3-a91e-3612fd7c77e2",
   "metadata": {},
   "outputs": [],
   "source": [
    "emp=Person('Shreya', 18)"
   ]
  },
  {
   "cell_type": "code",
   "execution_count": 9,
   "id": "592fef24-ff66-4484-aff2-1629a7c30d30",
   "metadata": {},
   "outputs": [
    {
     "name": "stdout",
     "output_type": "stream",
     "text": [
      "Your data\n",
      "Shreya 18\n"
     ]
    }
   ],
   "source": [
    "emp.show()"
   ]
  },
  {
   "cell_type": "code",
   "execution_count": 10,
   "id": "08340bfb-059c-4abe-b7ce-efd6a6ac6921",
   "metadata": {},
   "outputs": [
    {
     "data": {
      "text/plain": [
       "False"
      ]
     },
     "execution_count": 10,
     "metadata": {},
     "output_type": "execute_result"
    }
   ],
   "source": [
    "emp1=Employee('Shreya', 16)\n",
    "emp1.isEligible()"
   ]
  },
  {
   "cell_type": "code",
   "execution_count": 11,
   "id": "2cc20363-af8d-40da-84e7-8680fcbd067f",
   "metadata": {},
   "outputs": [
    {
     "data": {
      "text/plain": [
       "True"
      ]
     },
     "execution_count": 11,
     "metadata": {},
     "output_type": "execute_result"
    }
   ],
   "source": [
    "emp1=Employee('Shreya', 26)\n",
    "emp1.isEligible()"
   ]
  },
  {
   "cell_type": "markdown",
   "id": "93f49c0c-9c53-4f25-abfa-48b44b2ab6b6",
   "metadata": {},
   "source": [
    "##### Check the subclass"
   ]
  },
  {
   "cell_type": "code",
   "execution_count": 14,
   "id": "e782d07a-4511-41fb-9807-fcd6efba9dbb",
   "metadata": {},
   "outputs": [],
   "source": [
    "class Base(object):\n",
    "    pass\n",
    "\n",
    "class Derived(Base):\n",
    "    pass\n",
    "    "
   ]
  },
  {
   "cell_type": "code",
   "execution_count": 15,
   "id": "269ec75c-2e78-42b4-940c-4478eb8df215",
   "metadata": {},
   "outputs": [
    {
     "data": {
      "text/plain": [
       "False"
      ]
     },
     "execution_count": 15,
     "metadata": {},
     "output_type": "execute_result"
    }
   ],
   "source": [
    "issubclass(Base,Derived)"
   ]
  },
  {
   "cell_type": "code",
   "execution_count": 17,
   "id": "bbd818a0-7b68-473e-817f-ff564e0bd2e8",
   "metadata": {},
   "outputs": [
    {
     "data": {
      "text/plain": [
       "True"
      ]
     },
     "execution_count": 17,
     "metadata": {},
     "output_type": "execute_result"
    }
   ],
   "source": [
    "issubclass(Derived,Base)"
   ]
  },
  {
   "cell_type": "code",
   "execution_count": 18,
   "id": "92301a18-f97b-4353-81f0-b1a3b77c9134",
   "metadata": {},
   "outputs": [],
   "source": [
    "b = Base()\n",
    "d = Derived()"
   ]
  },
  {
   "cell_type": "code",
   "execution_count": 20,
   "id": "ae9497e3-6e87-4bcc-8ebc-9598949f2872",
   "metadata": {},
   "outputs": [
    {
     "data": {
      "text/plain": [
       "False"
      ]
     },
     "execution_count": 20,
     "metadata": {},
     "output_type": "execute_result"
    }
   ],
   "source": [
    "isinstance(b, Derived)"
   ]
  },
  {
   "cell_type": "code",
   "execution_count": 21,
   "id": "836a74a2-3f37-4675-80f5-278ab7d5fec8",
   "metadata": {},
   "outputs": [
    {
     "data": {
      "text/plain": [
       "True"
      ]
     },
     "execution_count": 21,
     "metadata": {},
     "output_type": "execute_result"
    }
   ],
   "source": [
    "isinstance(d, Derived)"
   ]
  },
  {
   "cell_type": "markdown",
   "id": "88edd05b-94a2-44c2-922d-15013c63e2c5",
   "metadata": {},
   "source": [
    "##### Multiple inheritance"
   ]
  },
  {
   "cell_type": "code",
   "execution_count": 23,
   "id": "e91bab78-2c2d-49fd-af69-4bdee1281562",
   "metadata": {},
   "outputs": [],
   "source": [
    "class Base1(object):\n",
    "    def __init__(self):\n",
    "        self.str1=\"Shreyaa\"\n",
    "        print(\"Base1\")\n",
    "\n",
    "class Base2(object):\n",
    "    def __init__(self):\n",
    "        self.str2=\"Pradnya\"\n",
    "        print(\"Base2\")\n",
    "\n",
    "class Derived(Base1 , Base2):\n",
    "    def __init__(self):\n",
    "        Base1.__init__(self)\n",
    "        Base2.__init__(self)\n",
    "        print(\"Derived\")\n",
    "\n",
    "    def printValues(self):\n",
    "        print(self.str1,self.str2)\n"
   ]
  },
  {
   "cell_type": "code",
   "execution_count": 24,
   "id": "4bb62ec7-aedc-406c-a380-b86a1dbb8a76",
   "metadata": {},
   "outputs": [
    {
     "name": "stdout",
     "output_type": "stream",
     "text": [
      "Base1\n",
      "Base2\n",
      "Derived\n"
     ]
    }
   ],
   "source": [
    "d1=Derived()"
   ]
  },
  {
   "cell_type": "code",
   "execution_count": 26,
   "id": "9bfe7c33-3f12-493b-81cf-f70e446909f9",
   "metadata": {},
   "outputs": [
    {
     "name": "stdout",
     "output_type": "stream",
     "text": [
      "Shreyaa Pradnya\n"
     ]
    }
   ],
   "source": [
    "d1.printValues()"
   ]
  },
  {
   "cell_type": "markdown",
   "id": "d871844c-165b-401b-ba65-22a6c5bc4305",
   "metadata": {},
   "source": [
    "#### Polymorphism"
   ]
  },
  {
   "cell_type": "code",
   "execution_count": 13,
   "id": "da950fd0-87a3-41e4-8871-e0d8d7e9e0d2",
   "metadata": {},
   "outputs": [],
   "source": [
    "class Dog:\n",
    "    def speak(self):\n",
    "        print('Bark')\n",
    "\n",
    "class Cat:\n",
    "    def speak(self):\n",
    "        print('Meow')"
   ]
  },
  {
   "cell_type": "code",
   "execution_count": 18,
   "id": "a1969b11-94ac-4dbf-8e2b-c3424db5af4c",
   "metadata": {},
   "outputs": [],
   "source": [
    "def animal_speak(a):\n",
    "    a.speak()"
   ]
  },
  {
   "cell_type": "code",
   "execution_count": 20,
   "id": "fc3a6a20-e08d-4ba2-8606-0c65376b1994",
   "metadata": {},
   "outputs": [],
   "source": [
    "dog=Dog()\n",
    "cat=Cat()"
   ]
  },
  {
   "cell_type": "code",
   "execution_count": 21,
   "id": "19718621-d6f6-4372-962c-5d1b66f6c94d",
   "metadata": {},
   "outputs": [
    {
     "name": "stdout",
     "output_type": "stream",
     "text": [
      "Bark\n"
     ]
    }
   ],
   "source": [
    "animal_speak(dog) "
   ]
  },
  {
   "cell_type": "code",
   "execution_count": 22,
   "id": "5277140c-4499-4d2f-a4d4-043793230651",
   "metadata": {},
   "outputs": [
    {
     "name": "stdout",
     "output_type": "stream",
     "text": [
      "Meow\n"
     ]
    }
   ],
   "source": [
    "animal_speak(cat)"
   ]
  },
  {
   "cell_type": "markdown",
   "id": "30549679-76d5-469d-8865-db633f95dcca",
   "metadata": {},
   "source": [
    "#### Operator Overloading"
   ]
  },
  {
   "cell_type": "code",
   "execution_count": 30,
   "id": "db94c382-e106-48b0-b8bc-15ee5f99b83e",
   "metadata": {},
   "outputs": [],
   "source": [
    "class A:\n",
    "    def __init__(self,a):\n",
    "        self.a=a\n",
    "\n",
    "    def __add__(self,o):\n",
    "         return self.a + o.a"
   ]
  },
  {
   "cell_type": "code",
   "execution_count": 31,
   "id": "3a0f711d-3554-4183-b8e1-5991ea1f44ee",
   "metadata": {},
   "outputs": [],
   "source": [
    "a1=A(4)"
   ]
  },
  {
   "cell_type": "code",
   "execution_count": 32,
   "id": "3988723b-2a22-4619-b2b2-ef41f54b47d8",
   "metadata": {},
   "outputs": [],
   "source": [
    "a2=A(22)"
   ]
  },
  {
   "cell_type": "code",
   "execution_count": 33,
   "id": "5a9abc41-1236-455c-ace9-44b60e4246b3",
   "metadata": {},
   "outputs": [
    {
     "data": {
      "text/plain": [
       "26"
      ]
     },
     "execution_count": 33,
     "metadata": {},
     "output_type": "execute_result"
    }
   ],
   "source": [
    "a1 + a2"
   ]
  },
  {
   "cell_type": "code",
   "execution_count": 35,
   "id": "0791a872-378c-4c70-9a00-fc77bf1bfc08",
   "metadata": {},
   "outputs": [
    {
     "data": {
      "text/plain": [
       "'Rajuri Pune'"
      ]
     },
     "execution_count": 35,
     "metadata": {},
     "output_type": "execute_result"
    }
   ],
   "source": [
    "a3=A('Rajuri ')\n",
    "a4=A('Pune')\n",
    "a3 + a4"
   ]
  },
  {
   "cell_type": "markdown",
   "id": "b6d71836-7b3c-4da6-866e-8ad776caa940",
   "metadata": {},
   "source": [
    "#### Destructor"
   ]
  },
  {
   "cell_type": "code",
   "execution_count": 41,
   "id": "4436042b-eb8c-44ed-bd91-5641cad34ffd",
   "metadata": {},
   "outputs": [],
   "source": [
    "class Employee:\n",
    "    def __init__(self):      #constructor\n",
    "        print('Object Created')\n",
    "\n",
    "    def  __del__(self):       #destructor\n",
    "        print(\"Object Destroyed\")"
   ]
  },
  {
   "cell_type": "code",
   "execution_count": 42,
   "id": "3f6b5cec-9cbd-4813-9804-6c7191bcc2f1",
   "metadata": {},
   "outputs": [
    {
     "name": "stdout",
     "output_type": "stream",
     "text": [
      "Object Created\n",
      "Object Destroyed\n"
     ]
    }
   ],
   "source": [
    "emp=Employee()"
   ]
  },
  {
   "cell_type": "code",
   "execution_count": 43,
   "id": "59206a57-408b-46f5-8069-f341aa240a28",
   "metadata": {},
   "outputs": [
    {
     "name": "stdout",
     "output_type": "stream",
     "text": [
      "Object Destroyed\n"
     ]
    }
   ],
   "source": [
    "del emp"
   ]
  },
  {
   "cell_type": "code",
   "execution_count": null,
   "id": "b53898c6-2f89-44fe-b4e8-3ef838f75f62",
   "metadata": {},
   "outputs": [],
   "source": []
  }
 ],
 "metadata": {
  "kernelspec": {
   "display_name": "Python [conda env:base] *",
   "language": "python",
   "name": "conda-base-py"
  },
  "language_info": {
   "codemirror_mode": {
    "name": "ipython",
    "version": 3
   },
   "file_extension": ".py",
   "mimetype": "text/x-python",
   "name": "python",
   "nbconvert_exporter": "python",
   "pygments_lexer": "ipython3",
   "version": "3.12.7"
  }
 },
 "nbformat": 4,
 "nbformat_minor": 5
}
