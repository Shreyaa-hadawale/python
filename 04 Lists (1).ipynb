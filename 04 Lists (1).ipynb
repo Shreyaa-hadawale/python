{
 "cells": [
  {
   "cell_type": "code",
   "execution_count": 1,
   "id": "5ee7b5e7-3324-43ee-a5de-720e7d5156cc",
   "metadata": {},
   "outputs": [],
   "source": [
    "num=[34 , 45 , 78 , 66 ,4]"
   ]
  },
  {
   "cell_type": "code",
   "execution_count": 2,
   "id": "3206bdca-733e-4557-b76e-ad3c0e02247e",
   "metadata": {},
   "outputs": [
    {
     "data": {
      "text/plain": [
       "list"
      ]
     },
     "execution_count": 2,
     "metadata": {},
     "output_type": "execute_result"
    }
   ],
   "source": [
    "type(num)"
   ]
  },
  {
   "cell_type": "code",
   "execution_count": 3,
   "id": "03b7cda6-bb5c-4e4c-a4e1-3a82c42f1be5",
   "metadata": {},
   "outputs": [],
   "source": [
    "num=(34 , 45 , 78 , 66 ,4)"
   ]
  },
  {
   "cell_type": "code",
   "execution_count": 4,
   "id": "e9671819-86be-45dc-8f9b-8ffc748da6d9",
   "metadata": {},
   "outputs": [
    {
     "data": {
      "text/plain": [
       "tuple"
      ]
     },
     "execution_count": 4,
     "metadata": {},
     "output_type": "execute_result"
    }
   ],
   "source": [
    "type(num)"
   ]
  },
  {
   "cell_type": "code",
   "execution_count": 5,
   "id": "4a308f95-6300-4b53-83ca-8c93031fabf0",
   "metadata": {},
   "outputs": [],
   "source": [
    "num={34 , 45 , 78 , 66 ,4}"
   ]
  },
  {
   "cell_type": "code",
   "execution_count": 6,
   "id": "c87d4df8-cdbc-4dbf-8401-050cda5b9f4d",
   "metadata": {},
   "outputs": [
    {
     "data": {
      "text/plain": [
       "set"
      ]
     },
     "execution_count": 6,
     "metadata": {},
     "output_type": "execute_result"
    }
   ],
   "source": [
    "type(num)"
   ]
  },
  {
   "cell_type": "code",
   "execution_count": 7,
   "id": "4b466765-758a-4009-9d17-1457158472bb",
   "metadata": {},
   "outputs": [],
   "source": [
    "num={34:45 , 78:66 ,4:90}"
   ]
  },
  {
   "cell_type": "code",
   "execution_count": 8,
   "id": "9d285670-1fc9-4192-8ba6-8dd8c7563ec7",
   "metadata": {},
   "outputs": [
    {
     "data": {
      "text/plain": [
       "dict"
      ]
     },
     "execution_count": 8,
     "metadata": {},
     "output_type": "execute_result"
    }
   ],
   "source": [
    "type(num)"
   ]
  },
  {
   "cell_type": "markdown",
   "id": "63ab9e12-b6cf-404f-9e21-1f82381e4042",
   "metadata": {},
   "source": [
    "##### Creating List"
   ]
  },
  {
   "cell_type": "code",
   "execution_count": 9,
   "id": "7306635f-3077-46f7-98d9-8094c8fd76ab",
   "metadata": {},
   "outputs": [],
   "source": [
    "num=[23, 34, 45, 56, 78, 89, 90]"
   ]
  },
  {
   "cell_type": "code",
   "execution_count": 10,
   "id": "982d0afb-7f13-4b3d-9c72-39c1f70f0761",
   "metadata": {},
   "outputs": [
    {
     "name": "stdout",
     "output_type": "stream",
     "text": [
      "[23, 34, 45, 56, 78, 89, 90]\n"
     ]
    }
   ],
   "source": [
    "print(num)"
   ]
  },
  {
   "cell_type": "code",
   "execution_count": 11,
   "id": "a28ccbc9-afb8-47e7-8604-cd7fc298e7e7",
   "metadata": {},
   "outputs": [],
   "source": [
    "alpha=[23, 34, True, 'Shreya',12.45]"
   ]
  },
  {
   "cell_type": "code",
   "execution_count": 12,
   "id": "be59e5b2-e05a-4099-b60e-1b88ad0d95f5",
   "metadata": {},
   "outputs": [
    {
     "data": {
      "text/plain": [
       "[23, 34, True, 'Shreya', 12.45]"
      ]
     },
     "execution_count": 12,
     "metadata": {},
     "output_type": "execute_result"
    }
   ],
   "source": [
    "alpha"
   ]
  },
  {
   "cell_type": "code",
   "execution_count": 13,
   "id": "96a1bc2f-4a60-428f-a7c9-fcc87e57f8a5",
   "metadata": {},
   "outputs": [
    {
     "data": {
      "text/plain": [
       "list"
      ]
     },
     "execution_count": 13,
     "metadata": {},
     "output_type": "execute_result"
    }
   ],
   "source": [
    "type(alpha)"
   ]
  },
  {
   "cell_type": "markdown",
   "id": "9d58e253-5b4d-49cc-964d-159dc96cae77",
   "metadata": {},
   "source": [
    "##### Accessing the List"
   ]
  },
  {
   "cell_type": "code",
   "execution_count": 14,
   "id": "d600589d-e3ab-4548-89d8-e4c4547e8b14",
   "metadata": {},
   "outputs": [
    {
     "data": {
      "text/plain": [
       "23"
      ]
     },
     "execution_count": 14,
     "metadata": {},
     "output_type": "execute_result"
    }
   ],
   "source": [
    "alpha[0]"
   ]
  },
  {
   "cell_type": "code",
   "execution_count": 15,
   "id": "c3b93021-6dae-4635-bc27-d61e0ec859b1",
   "metadata": {},
   "outputs": [
    {
     "data": {
      "text/plain": [
       "12.45"
      ]
     },
     "execution_count": 15,
     "metadata": {},
     "output_type": "execute_result"
    }
   ],
   "source": [
    "alpha[4]"
   ]
  },
  {
   "cell_type": "code",
   "execution_count": 16,
   "id": "af578435-c962-4ae5-a155-a547ac00f839",
   "metadata": {},
   "outputs": [
    {
     "ename": "IndexError",
     "evalue": "list index out of range",
     "output_type": "error",
     "traceback": [
      "\u001b[1;31m---------------------------------------------------------------------------\u001b[0m",
      "\u001b[1;31mIndexError\u001b[0m                                Traceback (most recent call last)",
      "Cell \u001b[1;32mIn[16], line 1\u001b[0m\n\u001b[1;32m----> 1\u001b[0m alpha[\u001b[38;5;241m10\u001b[39m]\n",
      "\u001b[1;31mIndexError\u001b[0m: list index out of range"
     ]
    }
   ],
   "source": [
    "alpha[10]"
   ]
  },
  {
   "cell_type": "code",
   "execution_count": null,
   "id": "f39f0ece-4330-47fa-bb02-35480fdd2c7b",
   "metadata": {},
   "outputs": [],
   "source": [
    "alpha[3]"
   ]
  },
  {
   "cell_type": "code",
   "execution_count": null,
   "id": "deb7c89a-a358-4d85-89ee-569b007d6207",
   "metadata": {},
   "outputs": [],
   "source": [
    "alpha[3]=\"Pune\""
   ]
  },
  {
   "cell_type": "code",
   "execution_count": 17,
   "id": "7c62ff7e-0fac-459f-aa68-22b5ea926b57",
   "metadata": {},
   "outputs": [
    {
     "data": {
      "text/plain": [
       "[23, 34, True, 'Shreya', 12.45]"
      ]
     },
     "execution_count": 17,
     "metadata": {},
     "output_type": "execute_result"
    }
   ],
   "source": [
    "alpha"
   ]
  },
  {
   "cell_type": "code",
   "execution_count": 18,
   "id": "71d56507-ca83-40f6-a1a9-5821a548c8cd",
   "metadata": {},
   "outputs": [
    {
     "data": {
      "text/plain": [
       "[23, 34, 45, 56, 78, 89, 90]"
      ]
     },
     "execution_count": 18,
     "metadata": {},
     "output_type": "execute_result"
    }
   ],
   "source": [
    "num"
   ]
  },
  {
   "cell_type": "code",
   "execution_count": 19,
   "id": "153ee4ca-8c5e-41cc-b1b3-af0cdeb72b7a",
   "metadata": {},
   "outputs": [
    {
     "data": {
      "text/plain": [
       "90"
      ]
     },
     "execution_count": 19,
     "metadata": {},
     "output_type": "execute_result"
    }
   ],
   "source": [
    "num[-1]"
   ]
  },
  {
   "cell_type": "code",
   "execution_count": 20,
   "id": "9a20ce6e-1dff-4ea4-9142-483a114a5c5a",
   "metadata": {},
   "outputs": [
    {
     "data": {
      "text/plain": [
       "23"
      ]
     },
     "execution_count": 20,
     "metadata": {},
     "output_type": "execute_result"
    }
   ],
   "source": [
    "num[-7]"
   ]
  },
  {
   "cell_type": "code",
   "execution_count": 21,
   "id": "d2dba488-af14-4d04-af8f-9e711d363d0b",
   "metadata": {},
   "outputs": [],
   "source": [
    "num[-3]=55"
   ]
  },
  {
   "cell_type": "code",
   "execution_count": 22,
   "id": "4917a89a-f181-4dbc-9899-441f5897e46d",
   "metadata": {},
   "outputs": [
    {
     "data": {
      "text/plain": [
       "[23, 34, 45, 56, 55, 89, 90]"
      ]
     },
     "execution_count": 22,
     "metadata": {},
     "output_type": "execute_result"
    }
   ],
   "source": [
    "num"
   ]
  },
  {
   "cell_type": "markdown",
   "id": "16351785-3788-4066-84d5-e5e29f9633f4",
   "metadata": {},
   "source": [
    "#### List of List"
   ]
  },
  {
   "cell_type": "code",
   "execution_count": 23,
   "id": "6ab550fa-7eac-43e5-b4a6-cc785b4c2aed",
   "metadata": {},
   "outputs": [],
   "source": [
    "x=[12,23,34,45,[11,22,33,44],56,78]"
   ]
  },
  {
   "cell_type": "code",
   "execution_count": 24,
   "id": "25859c4d-7a0e-4e5e-a2ca-254c5fc16638",
   "metadata": {},
   "outputs": [
    {
     "data": {
      "text/plain": [
       "[11, 22, 33, 44]"
      ]
     },
     "execution_count": 24,
     "metadata": {},
     "output_type": "execute_result"
    }
   ],
   "source": [
    "x[4]"
   ]
  },
  {
   "cell_type": "code",
   "execution_count": 25,
   "id": "8d5b35e6-8b8d-435c-b955-682c2eae681e",
   "metadata": {},
   "outputs": [
    {
     "data": {
      "text/plain": [
       "33"
      ]
     },
     "execution_count": 25,
     "metadata": {},
     "output_type": "execute_result"
    }
   ],
   "source": [
    "x[4][2]"
   ]
  },
  {
   "cell_type": "code",
   "execution_count": 26,
   "id": "54965ff6-6f3b-4b83-9b07-65eca90ecf09",
   "metadata": {},
   "outputs": [],
   "source": [
    "x[4][2] = 66"
   ]
  },
  {
   "cell_type": "code",
   "execution_count": 27,
   "id": "6afe53c9-8afe-4b10-ace2-e8c76b617eb0",
   "metadata": {},
   "outputs": [
    {
     "data": {
      "text/plain": [
       "[12, 23, 34, 45, [11, 22, 66, 44], 56, 78]"
      ]
     },
     "execution_count": 27,
     "metadata": {},
     "output_type": "execute_result"
    }
   ],
   "source": [
    "x"
   ]
  },
  {
   "cell_type": "markdown",
   "id": "906411c2-a751-4f7a-acbc-93b5c89301bd",
   "metadata": {},
   "source": [
    "##### Slicing the list"
   ]
  },
  {
   "cell_type": "code",
   "execution_count": 28,
   "id": "1fe745f9-88fa-4d1c-aaf1-6c0814251065",
   "metadata": {},
   "outputs": [
    {
     "data": {
      "text/plain": [
       "[23, 34, 45, 56, 55, 89, 90]"
      ]
     },
     "execution_count": 28,
     "metadata": {},
     "output_type": "execute_result"
    }
   ],
   "source": [
    "num"
   ]
  },
  {
   "cell_type": "code",
   "execution_count": 29,
   "id": "6070a9ca-6a54-43dd-973d-d31861fa4a81",
   "metadata": {},
   "outputs": [
    {
     "data": {
      "text/plain": [
       "[34, 45, 56, 55, 89]"
      ]
     },
     "execution_count": 29,
     "metadata": {},
     "output_type": "execute_result"
    }
   ],
   "source": [
    "num[1:6]"
   ]
  },
  {
   "cell_type": "code",
   "execution_count": 30,
   "id": "cdddd998-2c30-4658-af2f-629d2919a927",
   "metadata": {},
   "outputs": [],
   "source": [
    "sub=num"
   ]
  },
  {
   "cell_type": "code",
   "execution_count": 31,
   "id": "e302b5a5-1bb1-44e7-a316-189235ca511a",
   "metadata": {},
   "outputs": [],
   "source": [
    "sub=num[1:6]"
   ]
  },
  {
   "cell_type": "code",
   "execution_count": 32,
   "id": "bd0ea67c-ca6b-481a-8694-19e799543257",
   "metadata": {},
   "outputs": [
    {
     "data": {
      "text/plain": [
       "list"
      ]
     },
     "execution_count": 32,
     "metadata": {},
     "output_type": "execute_result"
    }
   ],
   "source": [
    "type(sub)"
   ]
  },
  {
   "cell_type": "code",
   "execution_count": 33,
   "id": "9d9038aa-ed75-4def-8077-de1c070bcb4d",
   "metadata": {},
   "outputs": [
    {
     "data": {
      "text/plain": [
       "[34, 45, 56, 55, 89, 90]"
      ]
     },
     "execution_count": 33,
     "metadata": {},
     "output_type": "execute_result"
    }
   ],
   "source": [
    "num[1:]"
   ]
  },
  {
   "cell_type": "code",
   "execution_count": 34,
   "id": "127280b3-7df4-4094-abbd-50b675a33390",
   "metadata": {},
   "outputs": [
    {
     "data": {
      "text/plain": [
       "[23, 34, 45, 56]"
      ]
     },
     "execution_count": 34,
     "metadata": {},
     "output_type": "execute_result"
    }
   ],
   "source": [
    "num[:4]"
   ]
  },
  {
   "cell_type": "code",
   "execution_count": 35,
   "id": "7785f5a8-d02e-4994-ba86-bc343092a658",
   "metadata": {},
   "outputs": [
    {
     "data": {
      "text/plain": [
       "[23, 34, 45, 56, 55, 89, 90]"
      ]
     },
     "execution_count": 35,
     "metadata": {},
     "output_type": "execute_result"
    }
   ],
   "source": [
    "num[:]"
   ]
  },
  {
   "cell_type": "code",
   "execution_count": 36,
   "id": "65318869-eff5-4ed1-b403-18b6368b787c",
   "metadata": {},
   "outputs": [
    {
     "data": {
      "text/plain": [
       "[45, 56, 55]"
      ]
     },
     "execution_count": 36,
     "metadata": {},
     "output_type": "execute_result"
    }
   ],
   "source": [
    "num[-5:-2]"
   ]
  },
  {
   "cell_type": "code",
   "execution_count": 37,
   "id": "811e74e8-32e5-42d3-b880-d99dfc65fc53",
   "metadata": {},
   "outputs": [],
   "source": [
    "num[2:5]=[67,1,3]"
   ]
  },
  {
   "cell_type": "code",
   "execution_count": 38,
   "id": "e68d44b1-8452-4bc3-a7a7-b49c57d95b6e",
   "metadata": {},
   "outputs": [
    {
     "data": {
      "text/plain": [
       "[23, 34, 67, 1, 3, 89, 90]"
      ]
     },
     "execution_count": 38,
     "metadata": {},
     "output_type": "execute_result"
    }
   ],
   "source": [
    "num"
   ]
  },
  {
   "cell_type": "markdown",
   "id": "fc74b9c1-ebc0-434b-bcfb-47c34635d70e",
   "metadata": {},
   "source": [
    "##### Existance of elements"
   ]
  },
  {
   "cell_type": "code",
   "execution_count": 39,
   "id": "c5c44448-a993-4f1b-a499-e3d313edb951",
   "metadata": {},
   "outputs": [
    {
     "data": {
      "text/plain": [
       "[23, 34, 67, 1, 3, 89, 90]"
      ]
     },
     "execution_count": 39,
     "metadata": {},
     "output_type": "execute_result"
    }
   ],
   "source": [
    "num"
   ]
  },
  {
   "cell_type": "code",
   "execution_count": 40,
   "id": "8f01bb56-130f-422f-ab5b-45ee9cc2a95d",
   "metadata": {},
   "outputs": [
    {
     "data": {
      "text/plain": [
       "False"
      ]
     },
     "execution_count": 40,
     "metadata": {},
     "output_type": "execute_result"
    }
   ],
   "source": [
    "4 in num"
   ]
  },
  {
   "cell_type": "code",
   "execution_count": 41,
   "id": "ed6871ba-8bce-4fe8-a8a6-0a4a58bd50a2",
   "metadata": {},
   "outputs": [
    {
     "data": {
      "text/plain": [
       "True"
      ]
     },
     "execution_count": 41,
     "metadata": {},
     "output_type": "execute_result"
    }
   ],
   "source": [
    "4 not in num"
   ]
  },
  {
   "cell_type": "code",
   "execution_count": 42,
   "id": "b1537cf9-10bd-487a-95a2-167ba459034c",
   "metadata": {},
   "outputs": [
    {
     "data": {
      "text/plain": [
       "True"
      ]
     },
     "execution_count": 42,
     "metadata": {},
     "output_type": "execute_result"
    }
   ],
   "source": [
    "67 in num"
   ]
  },
  {
   "cell_type": "markdown",
   "id": "9f4c67c7-399a-408e-8769-d46b67fa8ded",
   "metadata": {},
   "source": [
    "##### Deleting the elements"
   ]
  },
  {
   "cell_type": "code",
   "execution_count": 43,
   "id": "fffdf142-344a-435e-b172-5f1fd24c9a9f",
   "metadata": {},
   "outputs": [],
   "source": [
    "a=56"
   ]
  },
  {
   "cell_type": "code",
   "execution_count": 44,
   "id": "fd069684-280b-4e7e-ac85-af5e210a0580",
   "metadata": {},
   "outputs": [
    {
     "data": {
      "text/plain": [
       "56"
      ]
     },
     "execution_count": 44,
     "metadata": {},
     "output_type": "execute_result"
    }
   ],
   "source": [
    "a"
   ]
  },
  {
   "cell_type": "code",
   "execution_count": 45,
   "id": "49d53797-9447-4b96-9376-6b31f7c5b227",
   "metadata": {},
   "outputs": [],
   "source": [
    "del a"
   ]
  },
  {
   "cell_type": "code",
   "execution_count": 46,
   "id": "bcddf8e7-8e85-45c3-8283-235ab67175b7",
   "metadata": {},
   "outputs": [
    {
     "ename": "NameError",
     "evalue": "name 'a' is not defined",
     "output_type": "error",
     "traceback": [
      "\u001b[1;31m---------------------------------------------------------------------------\u001b[0m",
      "\u001b[1;31mNameError\u001b[0m                                 Traceback (most recent call last)",
      "Cell \u001b[1;32mIn[46], line 1\u001b[0m\n\u001b[1;32m----> 1\u001b[0m a\n",
      "\u001b[1;31mNameError\u001b[0m: name 'a' is not defined"
     ]
    }
   ],
   "source": [
    "a"
   ]
  },
  {
   "cell_type": "code",
   "execution_count": 47,
   "id": "028466d7-5853-4178-89ca-6731ab481244",
   "metadata": {},
   "outputs": [
    {
     "data": {
      "text/plain": [
       "[23, 34, 67, 1, 3, 89, 90]"
      ]
     },
     "execution_count": 47,
     "metadata": {},
     "output_type": "execute_result"
    }
   ],
   "source": [
    "num"
   ]
  },
  {
   "cell_type": "code",
   "execution_count": 48,
   "id": "762f0316-6176-4b4b-a636-c8f580306ddc",
   "metadata": {},
   "outputs": [],
   "source": [
    "del num[4]"
   ]
  },
  {
   "cell_type": "code",
   "execution_count": 49,
   "id": "fa7019ec-c729-4436-a58c-d3124f677e98",
   "metadata": {},
   "outputs": [
    {
     "data": {
      "text/plain": [
       "[23, 34, 67, 1, 89, 90]"
      ]
     },
     "execution_count": 49,
     "metadata": {},
     "output_type": "execute_result"
    }
   ],
   "source": [
    "num"
   ]
  },
  {
   "cell_type": "markdown",
   "id": "b52442d6-c361-4f66-89c7-d43353d02e3e",
   "metadata": {},
   "source": [
    "##### Arithmetic Operations on list"
   ]
  },
  {
   "cell_type": "code",
   "execution_count": 50,
   "id": "283f84fe-3fcd-4241-b0df-b583edf7fa68",
   "metadata": {},
   "outputs": [
    {
     "data": {
      "text/plain": [
       "[23, 34, 67, 1, 89, 90, 23, 34, 67, 1, 89, 90]"
      ]
     },
     "execution_count": 50,
     "metadata": {},
     "output_type": "execute_result"
    }
   ],
   "source": [
    "num*2"
   ]
  },
  {
   "cell_type": "code",
   "execution_count": 51,
   "id": "b13f29be-806f-4d87-ad62-d9988ce2cdc2",
   "metadata": {},
   "outputs": [
    {
     "data": {
      "text/plain": [
       "[23, 34, 67, 1, 89, 90, 34, 12]"
      ]
     },
     "execution_count": 51,
     "metadata": {},
     "output_type": "execute_result"
    }
   ],
   "source": [
    "num +[34,12]"
   ]
  },
  {
   "cell_type": "code",
   "execution_count": 52,
   "id": "22169962-5bdd-45e0-94b5-6db3e8741c10",
   "metadata": {},
   "outputs": [],
   "source": [
    "num+=[34,11]"
   ]
  },
  {
   "cell_type": "code",
   "execution_count": 53,
   "id": "d20c455e-9cba-4b83-bb51-fc826ce731d5",
   "metadata": {},
   "outputs": [
    {
     "data": {
      "text/plain": [
       "[23, 34, 67, 1, 89, 90, 34, 11]"
      ]
     },
     "execution_count": 53,
     "metadata": {},
     "output_type": "execute_result"
    }
   ],
   "source": [
    "num"
   ]
  },
  {
   "cell_type": "markdown",
   "id": "4ff496bd-807b-4a6f-87c3-22ebb9ce3db2",
   "metadata": {},
   "source": [
    "##### List Iteration"
   ]
  },
  {
   "cell_type": "code",
   "execution_count": 54,
   "id": "292ebb49-be17-498e-9ea9-242b5450f1f5",
   "metadata": {},
   "outputs": [
    {
     "name": "stdout",
     "output_type": "stream",
     "text": [
      "23\n",
      "34\n",
      "67\n",
      "1\n",
      "89\n",
      "90\n",
      "34\n",
      "11\n"
     ]
    }
   ],
   "source": [
    "for x in num:\n",
    "    print(x)"
   ]
  },
  {
   "cell_type": "code",
   "execution_count": 55,
   "id": "e1963570-a3ab-43ba-a465-1c497612450b",
   "metadata": {},
   "outputs": [
    {
     "name": "stdout",
     "output_type": "stream",
     "text": [
      "23 34 67 1 89 90 34 11 "
     ]
    }
   ],
   "source": [
    "for x in num:\n",
    "    print(x,end=\" \")"
   ]
  },
  {
   "cell_type": "code",
   "execution_count": 56,
   "id": "f94495d5-557f-4cff-acd1-ada6ddb169f9",
   "metadata": {},
   "outputs": [
    {
     "name": "stdout",
     "output_type": "stream",
     "text": [
      "34 90 34 "
     ]
    }
   ],
   "source": [
    "for x in num:\n",
    "    if x %2 == 0:\n",
    "        print(x,end=' ')"
   ]
  },
  {
   "cell_type": "markdown",
   "id": "296bb2a5-a5a3-434e-8669-b4e4aaa712cd",
   "metadata": {},
   "source": [
    "##### List comprehension"
   ]
  },
  {
   "cell_type": "code",
   "execution_count": 57,
   "id": "7b722e59-819c-41ac-acf9-491e0cc38ddb",
   "metadata": {},
   "outputs": [],
   "source": [
    "#mapping\n",
    "new=[n/2 for n in num]"
   ]
  },
  {
   "cell_type": "code",
   "execution_count": 58,
   "id": "2ed3e213-0e4c-420e-a482-c0dc677190e1",
   "metadata": {},
   "outputs": [
    {
     "data": {
      "text/plain": [
       "[11.5, 17.0, 33.5, 0.5, 44.5, 45.0, 17.0, 5.5]"
      ]
     },
     "execution_count": 58,
     "metadata": {},
     "output_type": "execute_result"
    }
   ],
   "source": [
    "new"
   ]
  },
  {
   "cell_type": "code",
   "execution_count": 59,
   "id": "deffc006-f552-4bc0-b68a-93a3730354ff",
   "metadata": {},
   "outputs": [],
   "source": [
    "#mapping\n",
    "new=[n**2 for n in num]"
   ]
  },
  {
   "cell_type": "code",
   "execution_count": 60,
   "id": "980ab988-6a15-4fa8-b8dd-4aae5a672429",
   "metadata": {},
   "outputs": [
    {
     "data": {
      "text/plain": [
       "[529, 1156, 4489, 1, 7921, 8100, 1156, 121]"
      ]
     },
     "execution_count": 60,
     "metadata": {},
     "output_type": "execute_result"
    }
   ],
   "source": [
    "new"
   ]
  },
  {
   "cell_type": "code",
   "execution_count": 61,
   "id": "80afe695-8f1c-4ccc-8531-288eb87f40c1",
   "metadata": {},
   "outputs": [],
   "source": [
    "#mapping\n",
    "new=[[n**2 ,n**3] for n in num]"
   ]
  },
  {
   "cell_type": "code",
   "execution_count": 62,
   "id": "7f3c93a6-ad6a-43d7-8a85-174593156db7",
   "metadata": {},
   "outputs": [
    {
     "data": {
      "text/plain": [
       "[[529, 12167],\n",
       " [1156, 39304],\n",
       " [4489, 300763],\n",
       " [1, 1],\n",
       " [7921, 704969],\n",
       " [8100, 729000],\n",
       " [1156, 39304],\n",
       " [121, 1331]]"
      ]
     },
     "execution_count": 62,
     "metadata": {},
     "output_type": "execute_result"
    }
   ],
   "source": [
    "new"
   ]
  },
  {
   "cell_type": "code",
   "execution_count": 63,
   "id": "3f37f518-a852-4b01-86f0-977aae2f7a4a",
   "metadata": {},
   "outputs": [],
   "source": [
    "new=[[i**2,i**3] for i in range (1,11)]"
   ]
  },
  {
   "cell_type": "code",
   "execution_count": 64,
   "id": "64439ac0-e9ae-46f9-b1aa-7d2cca77e310",
   "metadata": {},
   "outputs": [
    {
     "data": {
      "text/plain": [
       "[[1, 1],\n",
       " [4, 8],\n",
       " [9, 27],\n",
       " [16, 64],\n",
       " [25, 125],\n",
       " [36, 216],\n",
       " [49, 343],\n",
       " [64, 512],\n",
       " [81, 729],\n",
       " [100, 1000]]"
      ]
     },
     "execution_count": 64,
     "metadata": {},
     "output_type": "execute_result"
    }
   ],
   "source": [
    "new"
   ]
  },
  {
   "cell_type": "code",
   "execution_count": 65,
   "id": "187a2801-e711-4fd6-bfa4-ab6b7a28c80f",
   "metadata": {},
   "outputs": [],
   "source": [
    "#filters\n",
    "new=[i for i in num if i>25]"
   ]
  },
  {
   "cell_type": "code",
   "execution_count": 66,
   "id": "e603ccfe-0e44-4903-99ad-826a6edf5947",
   "metadata": {},
   "outputs": [
    {
     "data": {
      "text/plain": [
       "[34, 67, 89, 90, 34]"
      ]
     },
     "execution_count": 66,
     "metadata": {},
     "output_type": "execute_result"
    }
   ],
   "source": [
    "new"
   ]
  },
  {
   "cell_type": "code",
   "execution_count": 67,
   "id": "eea77bb9-37df-4c04-ac31-166e231d3511",
   "metadata": {},
   "outputs": [],
   "source": [
    "new=[i for i in num if i % 2== 0]"
   ]
  },
  {
   "cell_type": "code",
   "execution_count": 68,
   "id": "24e241fb-dca5-40d9-9bcd-0bef6ea25194",
   "metadata": {},
   "outputs": [
    {
     "data": {
      "text/plain": [
       "[34, 90, 34]"
      ]
     },
     "execution_count": 68,
     "metadata": {},
     "output_type": "execute_result"
    }
   ],
   "source": [
    "new"
   ]
  },
  {
   "cell_type": "code",
   "execution_count": 69,
   "id": "71bf87a6-677b-493d-9afd-5663f6ca692b",
   "metadata": {},
   "outputs": [],
   "source": [
    "new=[i for i in num if i % 2== 1]"
   ]
  },
  {
   "cell_type": "code",
   "execution_count": 70,
   "id": "b1169f98-cccc-4171-b2e6-515e27362b7d",
   "metadata": {},
   "outputs": [
    {
     "data": {
      "text/plain": [
       "[23, 67, 1, 89, 11]"
      ]
     },
     "execution_count": 70,
     "metadata": {},
     "output_type": "execute_result"
    }
   ],
   "source": [
    "new"
   ]
  },
  {
   "cell_type": "code",
   "execution_count": 71,
   "id": "b01f4c0c-baea-42d5-a3cf-c6bf06ef3e23",
   "metadata": {},
   "outputs": [],
   "source": [
    "new=[i * i for i in num if i % 2== 1]"
   ]
  },
  {
   "cell_type": "code",
   "execution_count": 72,
   "id": "91290f3b-d716-44ea-91b6-c90829397c6f",
   "metadata": {},
   "outputs": [
    {
     "data": {
      "text/plain": [
       "[529, 4489, 1, 7921, 121]"
      ]
     },
     "execution_count": 72,
     "metadata": {},
     "output_type": "execute_result"
    }
   ],
   "source": [
    "new"
   ]
  },
  {
   "cell_type": "markdown",
   "id": "30c651ba-d303-4381-a29e-123089fda02b",
   "metadata": {},
   "source": [
    "##### Empty list"
   ]
  },
  {
   "cell_type": "code",
   "execution_count": 73,
   "id": "bcef1cb8-fc12-4690-8f66-bbd545b6b2bb",
   "metadata": {},
   "outputs": [],
   "source": [
    "e=[]"
   ]
  },
  {
   "cell_type": "code",
   "execution_count": 74,
   "id": "242aad7d-fee0-49e4-b203-383fd8eac782",
   "metadata": {},
   "outputs": [
    {
     "data": {
      "text/plain": [
       "[]"
      ]
     },
     "execution_count": 74,
     "metadata": {},
     "output_type": "execute_result"
    }
   ],
   "source": [
    "e"
   ]
  },
  {
   "cell_type": "code",
   "execution_count": 75,
   "id": "9785e1c2-bd4e-4573-ab81-c0f674fe6293",
   "metadata": {},
   "outputs": [
    {
     "data": {
      "text/plain": [
       "list"
      ]
     },
     "execution_count": 75,
     "metadata": {},
     "output_type": "execute_result"
    }
   ],
   "source": [
    "type(e)"
   ]
  },
  {
   "cell_type": "code",
   "execution_count": 76,
   "id": "9c5c388d-ce19-474f-996a-476372dd753d",
   "metadata": {},
   "outputs": [
    {
     "ename": "IndexError",
     "evalue": "list index out of range",
     "output_type": "error",
     "traceback": [
      "\u001b[1;31m---------------------------------------------------------------------------\u001b[0m",
      "\u001b[1;31mIndexError\u001b[0m                                Traceback (most recent call last)",
      "Cell \u001b[1;32mIn[76], line 1\u001b[0m\n\u001b[1;32m----> 1\u001b[0m e[\u001b[38;5;241m0\u001b[39m]\n",
      "\u001b[1;31mIndexError\u001b[0m: list index out of range"
     ]
    }
   ],
   "source": [
    "e[0]"
   ]
  },
  {
   "cell_type": "code",
   "execution_count": 77,
   "id": "35170bf2-dd3f-4c51-a4a0-491eab9c5efc",
   "metadata": {},
   "outputs": [],
   "source": [
    "e += [12]"
   ]
  },
  {
   "cell_type": "code",
   "execution_count": 78,
   "id": "81463256-7528-4052-a09f-29040d4f22d0",
   "metadata": {},
   "outputs": [
    {
     "data": {
      "text/plain": [
       "[12]"
      ]
     },
     "execution_count": 78,
     "metadata": {},
     "output_type": "execute_result"
    }
   ],
   "source": [
    "e"
   ]
  },
  {
   "cell_type": "code",
   "execution_count": 79,
   "id": "a11f137f-cde7-4fc8-a1e3-b62c6ad4a607",
   "metadata": {},
   "outputs": [],
   "source": [
    "e +=[10,56]"
   ]
  },
  {
   "cell_type": "code",
   "execution_count": 80,
   "id": "256dd6bc-9cd2-4e8c-a5b2-995efe8571f8",
   "metadata": {},
   "outputs": [
    {
     "data": {
      "text/plain": [
       "[12, 10, 56]"
      ]
     },
     "execution_count": 80,
     "metadata": {},
     "output_type": "execute_result"
    }
   ],
   "source": [
    "e"
   ]
  },
  {
   "cell_type": "code",
   "execution_count": 81,
   "id": "8669259f-5e32-47b5-a5dd-df8658763af0",
   "metadata": {},
   "outputs": [],
   "source": [
    "#unpacking the elements\n",
    "x, y, z =e"
   ]
  },
  {
   "cell_type": "code",
   "execution_count": 82,
   "id": "94b24417-c3cd-4096-9017-95c72ea867a3",
   "metadata": {},
   "outputs": [
    {
     "data": {
      "text/plain": [
       "12"
      ]
     },
     "execution_count": 82,
     "metadata": {},
     "output_type": "execute_result"
    }
   ],
   "source": [
    "x"
   ]
  },
  {
   "cell_type": "code",
   "execution_count": 83,
   "id": "adfea9fd-847e-4257-be74-9ba84d2fecc2",
   "metadata": {},
   "outputs": [
    {
     "data": {
      "text/plain": [
       "10"
      ]
     },
     "execution_count": 83,
     "metadata": {},
     "output_type": "execute_result"
    }
   ],
   "source": [
    "y"
   ]
  },
  {
   "cell_type": "code",
   "execution_count": 84,
   "id": "7827c2d7-27be-4340-8f84-54a33579925d",
   "metadata": {},
   "outputs": [
    {
     "data": {
      "text/plain": [
       "56"
      ]
     },
     "execution_count": 84,
     "metadata": {},
     "output_type": "execute_result"
    }
   ],
   "source": [
    "z\n"
   ]
  },
  {
   "cell_type": "markdown",
   "id": "aa1a31a4-f844-4da0-843f-001c0725b5d8",
   "metadata": {},
   "source": [
    "###### Function"
   ]
  },
  {
   "cell_type": "code",
   "execution_count": 85,
   "id": "55f58a3a-1a08-4eb7-8d27-56d93469270f",
   "metadata": {},
   "outputs": [
    {
     "data": {
      "text/plain": [
       "8"
      ]
     },
     "execution_count": 85,
     "metadata": {},
     "output_type": "execute_result"
    }
   ],
   "source": [
    "len(num)"
   ]
  },
  {
   "cell_type": "code",
   "execution_count": 86,
   "id": "54308e27-2a5c-4a66-89a6-f6a96562258b",
   "metadata": {},
   "outputs": [
    {
     "data": {
      "text/plain": [
       "90"
      ]
     },
     "execution_count": 86,
     "metadata": {},
     "output_type": "execute_result"
    }
   ],
   "source": [
    "max(num)"
   ]
  },
  {
   "cell_type": "code",
   "execution_count": 87,
   "id": "c1db3fd1-9fe0-446d-9dc9-4d1d839ec664",
   "metadata": {},
   "outputs": [
    {
     "data": {
      "text/plain": [
       "1"
      ]
     },
     "execution_count": 87,
     "metadata": {},
     "output_type": "execute_result"
    }
   ],
   "source": [
    "min(num)"
   ]
  },
  {
   "cell_type": "code",
   "execution_count": 88,
   "id": "b39a7ef6-5a1d-4c27-ab0a-50d1d0bed0e5",
   "metadata": {},
   "outputs": [
    {
     "data": {
      "text/plain": [
       "349"
      ]
     },
     "execution_count": 88,
     "metadata": {},
     "output_type": "execute_result"
    }
   ],
   "source": [
    "sum(num)"
   ]
  },
  {
   "cell_type": "code",
   "execution_count": 89,
   "id": "92596b71-7757-45bd-a236-5e49a987d6a6",
   "metadata": {},
   "outputs": [
    {
     "data": {
      "text/plain": [
       "[1, 11, 23, 34, 34, 67, 89, 90]"
      ]
     },
     "execution_count": 89,
     "metadata": {},
     "output_type": "execute_result"
    }
   ],
   "source": [
    "sorted(num)"
   ]
  },
  {
   "cell_type": "code",
   "execution_count": 90,
   "id": "47ab48e6-61e6-4691-a751-4e16b552c286",
   "metadata": {},
   "outputs": [
    {
     "data": {
      "text/plain": [
       "[90, 89, 67, 34, 34, 23, 11, 1]"
      ]
     },
     "execution_count": 90,
     "metadata": {},
     "output_type": "execute_result"
    }
   ],
   "source": [
    "sorted(num ,reverse=True)"
   ]
  },
  {
   "cell_type": "code",
   "execution_count": 91,
   "id": "9be7305c-8637-4580-b063-587c6836db6c",
   "metadata": {},
   "outputs": [],
   "source": [
    "name='Shreyaa'"
   ]
  },
  {
   "cell_type": "code",
   "execution_count": 92,
   "id": "11fbb8e7-eb68-4752-bcca-b5c4f4d6f8c7",
   "metadata": {},
   "outputs": [
    {
     "data": {
      "text/plain": [
       "['S', 'h', 'r', 'e', 'y', 'a', 'a']"
      ]
     },
     "execution_count": 92,
     "metadata": {},
     "output_type": "execute_result"
    }
   ],
   "source": [
    "list(name)"
   ]
  },
  {
   "cell_type": "markdown",
   "id": "acf40f2a-3fb5-42f8-b31a-10d8d1630ded",
   "metadata": {},
   "source": [
    "#### List Methods"
   ]
  },
  {
   "cell_type": "code",
   "execution_count": 93,
   "id": "663235c0-ad5f-4018-8b7c-40bea34e4587",
   "metadata": {},
   "outputs": [
    {
     "data": {
      "text/plain": [
       "[23, 34, 67, 1, 89, 90, 34, 11]"
      ]
     },
     "execution_count": 93,
     "metadata": {},
     "output_type": "execute_result"
    }
   ],
   "source": [
    "num"
   ]
  },
  {
   "cell_type": "code",
   "execution_count": 94,
   "id": "242d8ab7-0ff1-4a4d-9d2b-1857ed992827",
   "metadata": {},
   "outputs": [],
   "source": [
    "num.append(51)"
   ]
  },
  {
   "cell_type": "code",
   "execution_count": 95,
   "id": "30612fb9-3aac-41c5-83c6-86d36162ec9a",
   "metadata": {},
   "outputs": [
    {
     "data": {
      "text/plain": [
       "[23, 34, 67, 1, 89, 90, 34, 11, 51]"
      ]
     },
     "execution_count": 95,
     "metadata": {},
     "output_type": "execute_result"
    }
   ],
   "source": [
    "num"
   ]
  },
  {
   "cell_type": "code",
   "execution_count": 96,
   "id": "067fbfa6-cfbd-4e68-967a-118a8dbaddcf",
   "metadata": {},
   "outputs": [],
   "source": [
    "x = [1 , 2 , 3 ]\n",
    "y = [1 , 2 , 3 ]\n"
   ]
  },
  {
   "cell_type": "code",
   "execution_count": 97,
   "id": "1f809904-d2d9-45b5-9291-066034016d0a",
   "metadata": {},
   "outputs": [],
   "source": [
    "x.append([4,5,6])\n",
    "y.extend([4,5,6])"
   ]
  },
  {
   "cell_type": "code",
   "execution_count": 98,
   "id": "e0a64799-0626-47e3-85d7-f532983fe267",
   "metadata": {},
   "outputs": [
    {
     "data": {
      "text/plain": [
       "[1, 2, 3, [4, 5, 6]]"
      ]
     },
     "execution_count": 98,
     "metadata": {},
     "output_type": "execute_result"
    }
   ],
   "source": [
    "x"
   ]
  },
  {
   "cell_type": "code",
   "execution_count": 99,
   "id": "dfc831e9-f6b3-4afa-b5cc-840676f0605e",
   "metadata": {},
   "outputs": [
    {
     "data": {
      "text/plain": [
       "[1, 2, 3, 4, 5, 6]"
      ]
     },
     "execution_count": 99,
     "metadata": {},
     "output_type": "execute_result"
    }
   ],
   "source": [
    "y"
   ]
  },
  {
   "cell_type": "code",
   "execution_count": 100,
   "id": "90087a56-270c-47ef-bcfc-969b5059f7cf",
   "metadata": {},
   "outputs": [],
   "source": [
    "\n",
    "num.insert(3,91)"
   ]
  },
  {
   "cell_type": "code",
   "execution_count": 101,
   "id": "598791cf-3f77-4080-a12b-dce52d11742f",
   "metadata": {},
   "outputs": [
    {
     "data": {
      "text/plain": [
       "[23, 34, 67, 91, 1, 89, 90, 34, 11, 51]"
      ]
     },
     "execution_count": 101,
     "metadata": {},
     "output_type": "execute_result"
    }
   ],
   "source": [
    "num"
   ]
  },
  {
   "cell_type": "code",
   "execution_count": 102,
   "id": "f73728ba-0526-4808-888b-b61f6d188eca",
   "metadata": {},
   "outputs": [],
   "source": [
    "num.remove(90)"
   ]
  },
  {
   "cell_type": "code",
   "execution_count": 103,
   "id": "5f28427e-0ce6-4e1d-b85b-837b43fd5c13",
   "metadata": {},
   "outputs": [
    {
     "data": {
      "text/plain": [
       "[23, 34, 67, 91, 1, 89, 34, 11, 51]"
      ]
     },
     "execution_count": 103,
     "metadata": {},
     "output_type": "execute_result"
    }
   ],
   "source": [
    "num"
   ]
  },
  {
   "cell_type": "code",
   "execution_count": 104,
   "id": "f57fb1ba-fce7-45a0-869e-e3fc66997668",
   "metadata": {},
   "outputs": [
    {
     "data": {
      "text/plain": [
       "51"
      ]
     },
     "execution_count": 104,
     "metadata": {},
     "output_type": "execute_result"
    }
   ],
   "source": [
    "num.pop()\n"
   ]
  },
  {
   "cell_type": "code",
   "execution_count": 105,
   "id": "66cb87fa-5fb0-4e1a-83c7-62507dc5e530",
   "metadata": {},
   "outputs": [
    {
     "data": {
      "text/plain": [
       "[23, 34, 67, 91, 1, 89, 34, 11]"
      ]
     },
     "execution_count": 105,
     "metadata": {},
     "output_type": "execute_result"
    }
   ],
   "source": [
    "num"
   ]
  },
  {
   "cell_type": "code",
   "execution_count": 106,
   "id": "5308e643-eb72-4538-8512-15773ae9db1d",
   "metadata": {},
   "outputs": [
    {
     "data": {
      "text/plain": [
       "2"
      ]
     },
     "execution_count": 106,
     "metadata": {},
     "output_type": "execute_result"
    }
   ],
   "source": [
    "num.index(67)"
   ]
  },
  {
   "cell_type": "code",
   "execution_count": 107,
   "id": "48076a2e-3b11-4beb-bb68-ef7e299c017c",
   "metadata": {},
   "outputs": [
    {
     "data": {
      "text/plain": [
       "2"
      ]
     },
     "execution_count": 107,
     "metadata": {},
     "output_type": "execute_result"
    }
   ],
   "source": [
    "num.count(34)"
   ]
  },
  {
   "cell_type": "code",
   "execution_count": 108,
   "id": "42d2023c-c1bc-4540-aa69-3724c6e49549",
   "metadata": {},
   "outputs": [],
   "source": [
    "num.reverse()"
   ]
  },
  {
   "cell_type": "code",
   "execution_count": 109,
   "id": "a7b3015a-f389-48c1-ac0f-ae2ab2e98479",
   "metadata": {},
   "outputs": [
    {
     "data": {
      "text/plain": [
       "[11, 34, 89, 1, 91, 67, 34, 23]"
      ]
     },
     "execution_count": 109,
     "metadata": {},
     "output_type": "execute_result"
    }
   ],
   "source": [
    "num"
   ]
  },
  {
   "cell_type": "code",
   "execution_count": 110,
   "id": "b6a61c74-8b94-4253-97da-999604ea77fa",
   "metadata": {},
   "outputs": [],
   "source": [
    "num.sort()"
   ]
  },
  {
   "cell_type": "code",
   "execution_count": 111,
   "id": "04ce139a-afd1-420b-9f8f-575717069673",
   "metadata": {},
   "outputs": [
    {
     "data": {
      "text/plain": [
       "[1, 11, 23, 34, 34, 67, 89, 91]"
      ]
     },
     "execution_count": 111,
     "metadata": {},
     "output_type": "execute_result"
    }
   ],
   "source": [
    "num"
   ]
  },
  {
   "cell_type": "code",
   "execution_count": 112,
   "id": "432eeb79-b077-4eba-a4c6-595bafdbfd5c",
   "metadata": {},
   "outputs": [],
   "source": [
    "num.sort(reverse=True)"
   ]
  },
  {
   "cell_type": "code",
   "execution_count": 113,
   "id": "50c783bb-6e4d-4c0b-bc1a-c612f3c9801d",
   "metadata": {},
   "outputs": [
    {
     "data": {
      "text/plain": [
       "[91, 89, 67, 34, 34, 23, 11, 1]"
      ]
     },
     "execution_count": 113,
     "metadata": {},
     "output_type": "execute_result"
    }
   ],
   "source": [
    "num"
   ]
  },
  {
   "cell_type": "code",
   "execution_count": 114,
   "id": "eb13f5c8-0228-47aa-a5df-46701d668d45",
   "metadata": {},
   "outputs": [],
   "source": [
    "num.clear()"
   ]
  },
  {
   "cell_type": "code",
   "execution_count": 115,
   "id": "85995fa9-ea1c-4de2-bfad-3085209f3e03",
   "metadata": {},
   "outputs": [
    {
     "data": {
      "text/plain": [
       "[]"
      ]
     },
     "execution_count": 115,
     "metadata": {},
     "output_type": "execute_result"
    }
   ],
   "source": [
    "num"
   ]
  },
  {
   "cell_type": "markdown",
   "id": "18f664f1-ec5a-4986-8c7d-f6d0252a1492",
   "metadata": {},
   "source": [
    "##### Read from user and initialize the list"
   ]
  },
  {
   "cell_type": "code",
   "execution_count": 118,
   "id": "9800c2ea-f733-4ae9-ab09-c8c5caa6e5cd",
   "metadata": {},
   "outputs": [
    {
     "name": "stdin",
     "output_type": "stream",
     "text": [
      "How many elements? 5\n",
      "Enter the number: 12\n",
      "Enter the number: 23\n",
      "Enter the number: 34\n",
      "Enter the number: 45\n",
      "Enter the number: 56\n"
     ]
    },
    {
     "name": "stdout",
     "output_type": "stream",
     "text": [
      "Your list is: [12, 23, 34, 45, 56]\n"
     ]
    }
   ],
   "source": [
    "count=int(input('How many elements?'))\n",
    "num=[]\n",
    "for i in range(count):\n",
    "    n=int(input('Enter the number:'))\n",
    "    num.append(n)\n",
    "\n",
    "print('Your list is:',num)"
   ]
  },
  {
   "cell_type": "code",
   "execution_count": 123,
   "id": "86e7b5eb-8de7-4a3c-bcb0-3778d6f94771",
   "metadata": {},
   "outputs": [
    {
     "name": "stdin",
     "output_type": "stream",
     "text": [
      "How many elements? 5\n",
      "Enter the number: 78\n",
      "Enter the number: 54\n",
      "Enter the number: 23\n",
      "Enter the number: 12\n",
      "Enter the number: 98\n"
     ]
    },
    {
     "name": "stdout",
     "output_type": "stream",
     "text": [
      "Your list is: [78, 54, 23, 12, 98]\n",
      "Reverse list is: [98, 12, 23, 54, 78]\n",
      "list after removing: [12, 23, 54, 78]\n",
      "List after inserting: [15, 12, 23, 54, 78]\n",
      "List after sorting: [12, 15, 23, 54, 78]\n"
     ]
    }
   ],
   "source": [
    "count=int(input('How many elements?'))\n",
    "num=[]\n",
    "for i in range(count):\n",
    "    n=int(input('Enter the number:'))\n",
    "    num.append(n)\n",
    "\n",
    "print('Your list is:',num)\n",
    "num.reverse()\n",
    "print('Reverse list is:',num)\n",
    "num.pop(0)\n",
    "print('list after removing:',num)\n",
    "num.insert(0,15)\n",
    "print('List after inserting:',num)\n",
    "num.sort()\n",
    "print('List after sorting:',num)"
   ]
  },
  {
   "cell_type": "markdown",
   "id": "f6ea36cc-d4e4-40aa-a7ad-462db1bbb7fe",
   "metadata": {},
   "source": [
    "#### Simple Assignment"
   ]
  },
  {
   "cell_type": "code",
   "execution_count": 142,
   "id": "1429a18f-2fbb-40c8-86e5-00b1cfe38d2b",
   "metadata": {},
   "outputs": [],
   "source": [
    "metals=['silver','gold','aluminiun','copper','iron','silver','gold','silver','copper','silver']"
   ]
  },
  {
   "cell_type": "code",
   "execution_count": 143,
   "id": "30c1fcb9-bb29-4857-98f7-d4c64d1783d2",
   "metadata": {},
   "outputs": [
    {
     "data": {
      "text/plain": [
       "['silver',\n",
       " 'gold',\n",
       " 'aluminiun',\n",
       " 'copper',\n",
       " 'iron',\n",
       " 'silver',\n",
       " 'gold',\n",
       " 'silver',\n",
       " 'copper',\n",
       " 'silver']"
      ]
     },
     "execution_count": 143,
     "metadata": {},
     "output_type": "execute_result"
    }
   ],
   "source": [
    "metals"
   ]
  },
  {
   "cell_type": "code",
   "execution_count": 147,
   "id": "1dbca0ec-7b21-4093-804b-c87fa231f38c",
   "metadata": {},
   "outputs": [],
   "source": [
    "new=[]\n",
    "for metal in metals:\n",
    "        if metal != 'copper':\n",
    "           new.append(metal)\n",
    "\n"
   ]
  },
  {
   "cell_type": "code",
   "execution_count": 149,
   "id": "5b0d25c2-6037-412d-b9b8-9212fbc00c41",
   "metadata": {},
   "outputs": [
    {
     "data": {
      "text/plain": [
       "['silver', 'gold', 'aluminiun', 'iron', 'silver', 'gold', 'silver', 'silver']"
      ]
     },
     "execution_count": 149,
     "metadata": {},
     "output_type": "execute_result"
    }
   ],
   "source": [
    "new"
   ]
  },
  {
   "cell_type": "code",
   "execution_count": 190,
   "id": "17e1307a-97ef-415a-ba0a-282c2cf0ab45",
   "metadata": {},
   "outputs": [],
   "source": [
    "list=[5,6,2,8,9,1,3,7,4,0]"
   ]
  },
  {
   "cell_type": "code",
   "execution_count": 191,
   "id": "119982d4-b572-4311-89f9-cf3d4a22c389",
   "metadata": {},
   "outputs": [
    {
     "data": {
      "text/plain": [
       "[5, 6, 2, 8, 9, 1, 3, 7, 4, 0]"
      ]
     },
     "execution_count": 191,
     "metadata": {},
     "output_type": "execute_result"
    }
   ],
   "source": [
    "list"
   ]
  },
  {
   "cell_type": "code",
   "execution_count": 193,
   "id": "59160f0f-3a33-4460-972b-17c3aa1d8138",
   "metadata": {},
   "outputs": [],
   "source": [
    "sub=list[5:]"
   ]
  },
  {
   "cell_type": "code",
   "execution_count": 194,
   "id": "0e26fd56-1b2c-4dab-9b14-6fb494bec58e",
   "metadata": {},
   "outputs": [
    {
     "data": {
      "text/plain": [
       "[1, 3, 7, 4, 0]"
      ]
     },
     "execution_count": 194,
     "metadata": {},
     "output_type": "execute_result"
    }
   ],
   "source": [
    "sub"
   ]
  },
  {
   "cell_type": "code",
   "execution_count": 195,
   "id": "52920fac-594e-4ccc-8cd8-6b06cab366c8",
   "metadata": {},
   "outputs": [],
   "source": [
    "sub.sort()"
   ]
  },
  {
   "cell_type": "code",
   "execution_count": 196,
   "id": "d633255f-f995-49a7-b8c1-37bc08daea06",
   "metadata": {},
   "outputs": [
    {
     "data": {
      "text/plain": [
       "[0, 1, 3, 4, 7]"
      ]
     },
     "execution_count": 196,
     "metadata": {},
     "output_type": "execute_result"
    }
   ],
   "source": [
    "sub"
   ]
  },
  {
   "cell_type": "code",
   "execution_count": 197,
   "id": "e864d67b-8f79-46aa-8528-810132b28652",
   "metadata": {},
   "outputs": [],
   "source": [
    "new=list[:5]"
   ]
  },
  {
   "cell_type": "code",
   "execution_count": 198,
   "id": "c965cd51-6f13-483a-b3d7-251d59845f7c",
   "metadata": {},
   "outputs": [
    {
     "data": {
      "text/plain": [
       "[5, 6, 2, 8, 9]"
      ]
     },
     "execution_count": 198,
     "metadata": {},
     "output_type": "execute_result"
    }
   ],
   "source": [
    "new"
   ]
  },
  {
   "cell_type": "code",
   "execution_count": 199,
   "id": "9ce3544f-44c9-4c7e-b866-263ca2fefa82",
   "metadata": {},
   "outputs": [],
   "source": [
    "new.extend(sub)"
   ]
  },
  {
   "cell_type": "code",
   "execution_count": 200,
   "id": "749915ea-3e9e-48a9-9e18-5308f3e4c852",
   "metadata": {},
   "outputs": [
    {
     "data": {
      "text/plain": [
       "[5, 6, 2, 8, 9, 0, 1, 3, 4, 7]"
      ]
     },
     "execution_count": 200,
     "metadata": {},
     "output_type": "execute_result"
    }
   ],
   "source": [
    "new"
   ]
  }
 ],
 "metadata": {
  "kernelspec": {
   "display_name": "Python [conda env:base] *",
   "language": "python",
   "name": "conda-base-py"
  },
  "language_info": {
   "codemirror_mode": {
    "name": "ipython",
    "version": 3
   },
   "file_extension": ".py",
   "mimetype": "text/x-python",
   "name": "python",
   "nbconvert_exporter": "python",
   "pygments_lexer": "ipython3",
   "version": "3.12.7"
  }
 },
 "nbformat": 4,
 "nbformat_minor": 5
}
