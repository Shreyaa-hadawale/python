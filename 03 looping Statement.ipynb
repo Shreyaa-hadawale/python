{
 "cells": [
  {
   "cell_type": "markdown",
   "id": "375dfea1-e665-4595-98aa-da4990178c82",
   "metadata": {},
   "source": [
    "#### While loop"
   ]
  },
  {
   "cell_type": "code",
   "execution_count": null,
   "id": "ef47e6fa-001e-43e7-91e0-bf8395640023",
   "metadata": {},
   "outputs": [],
   "source": [
    "count =0\n",
    "\n",
    "while count<5:\n",
    "    print(\"Pune\")\n",
    "    count+=1"
   ]
  },
  {
   "cell_type": "code",
   "execution_count": null,
   "id": "030fed5d-24a5-4845-8403-580a44de5431",
   "metadata": {},
   "outputs": [],
   "source": [
    "#print the numbers from 5 to 15\n",
    "count=5\n",
    "\n",
    "while count<16:\n",
    "    print(count,end=' ')\n",
    "    count+=1"
   ]
  },
  {
   "cell_type": "code",
   "execution_count": null,
   "id": "c4d99e7f-d6db-40f6-a6f3-1cd6484fdd66",
   "metadata": {},
   "outputs": [],
   "source": [
    "#find addition of 1 to 10 numbers\n",
    "count=1\n",
    "add=0\n",
    "\n",
    "while count<=10:\n",
    "    add+=count\n",
    "    count+=1\n",
    "    \n",
    "print('Addition is',add)\n",
    "    "
   ]
  },
  {
   "cell_type": "code",
   "execution_count": null,
   "id": "2e4900ce-7209-47d2-8d52-3b93f2c6ca5f",
   "metadata": {},
   "outputs": [],
   "source": [
    "#find addition of all odd numbers from 1 to 20\n",
    "count = 1\n",
    "add = 0\n",
    "\n",
    "while count<=20:\n",
    "    if count%2==1:\n",
    "        add=add+count\n",
    "        count+=2\n",
    "    \n",
    "print('Addition is',add)\n",
    "    "
   ]
  },
  {
   "cell_type": "code",
   "execution_count": null,
   "id": "02551888-a1c7-4ad2-a9df-30cd1256eff7",
   "metadata": {},
   "outputs": [],
   "source": [
    "#find addition of all odd numbers from 1 to 20\n",
    "count = 1\n",
    "add = 0\n",
    "\n",
    "while count<=20:\n",
    "    if count%2==1:\n",
    "        add=add+count\n",
    "        count+=1\n",
    "    \n",
    "print('Addition is',add)\n",
    "    "
   ]
  },
  {
   "cell_type": "code",
   "execution_count": 1,
   "id": "a8b999cf-b038-4e7e-b75e-a4ee7f7c825e",
   "metadata": {},
   "outputs": [
    {
     "name": "stdout",
     "output_type": "stream",
     "text": [
      "Hii\n"
     ]
    }
   ],
   "source": [
    "print(\"Hii\")"
   ]
  },
  {
   "cell_type": "code",
   "execution_count": 6,
   "id": "a180da9b-dfc2-4be4-8ff8-b055bf063e41",
   "metadata": {},
   "outputs": [
    {
     "name": "stdin",
     "output_type": "stream",
     "text": [
      "Enter the number 6\n"
     ]
    },
    {
     "name": "stdout",
     "output_type": "stream",
     "text": [
      "Factorial is 720\n"
     ]
    }
   ],
   "source": [
    "#factorial of a given number\n",
    "num=int(input('Enter the number'))\n",
    "no=1\n",
    "fact=1\n",
    "while no<=num:\n",
    "    fact*=no\n",
    "    no+=1\n",
    "\n",
    "print(\"Factorial is\",fact)"
   ]
  },
  {
   "cell_type": "code",
   "execution_count": 7,
   "id": "70e96227-8102-48cc-a779-42cc0d74296e",
   "metadata": {},
   "outputs": [
    {
     "name": "stdout",
     "output_type": "stream",
     "text": [
      "hii\n"
     ]
    }
   ],
   "source": [
    "print(\"hii\")"
   ]
  },
  {
   "cell_type": "code",
   "execution_count": 4,
   "id": "6e890edc-7dde-4041-b4fb-18043f831487",
   "metadata": {},
   "outputs": [
    {
     "name": "stdin",
     "output_type": "stream",
     "text": [
      "Enter the number 234\n"
     ]
    },
    {
     "name": "stdout",
     "output_type": "stream",
     "text": [
      "Addition of digits is 9\n"
     ]
    }
   ],
   "source": [
    "#find the addition of digits in the number\n",
    "#12345=1+2+3+4+5\n",
    "num=int(input('Enter the number'))\n",
    "add=0\n",
    "while num>0:\n",
    "    rem=num%10\n",
    "    add=add+rem\n",
    "    num=num//10\n",
    "\n",
    "print('Addition of digits is',add)\n",
    "\n"
   ]
  },
  {
   "cell_type": "code",
   "execution_count": 5,
   "id": "73915b1e-a797-4165-936c-b1ba7ed5e63c",
   "metadata": {},
   "outputs": [
    {
     "name": "stdout",
     "output_type": "stream",
     "text": [
      "hii\n"
     ]
    }
   ],
   "source": [
    "print('hii')"
   ]
  },
  {
   "cell_type": "code",
   "execution_count": null,
   "id": "682ebd46-090e-418c-96b7-97f1613aca74",
   "metadata": {},
   "outputs": [],
   "source": []
  }
 ],
 "metadata": {
  "kernelspec": {
   "display_name": "Python [conda env:base] *",
   "language": "python",
   "name": "conda-base-py"
  },
  "language_info": {
   "codemirror_mode": {
    "name": "ipython",
    "version": 3
   },
   "file_extension": ".py",
   "mimetype": "text/x-python",
   "name": "python",
   "nbconvert_exporter": "python",
   "pygments_lexer": "ipython3",
   "version": "3.12.7"
  }
 },
 "nbformat": 4,
 "nbformat_minor": 5
}
