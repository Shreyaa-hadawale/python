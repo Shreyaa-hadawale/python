{
 "cells": [
  {
   "cell_type": "code",
   "execution_count": 1,
   "id": "dec82c35-4420-40df-8295-ec96e20679d3",
   "metadata": {},
   "outputs": [],
   "source": [
    "from tkinter import *"
   ]
  },
  {
   "cell_type": "markdown",
   "id": "ac93a101-9628-4cf6-a6e7-b3244bcf2ad5",
   "metadata": {},
   "source": [
    "#### Simple window"
   ]
  },
  {
   "cell_type": "code",
   "execution_count": 4,
   "id": "2008ddf3-f529-44d5-9825-874d4fa78510",
   "metadata": {},
   "outputs": [],
   "source": [
    "top = Tk()\n",
    "\n",
    "top.mainloop()"
   ]
  },
  {
   "cell_type": "markdown",
   "id": "cadbf68e-e1e1-49a8-86e1-7c91ed6e2cbd",
   "metadata": {},
   "source": [
    "##### Decorate the window"
   ]
  },
  {
   "cell_type": "code",
   "execution_count": 9,
   "id": "ee8a89fc-2143-4280-945a-3893c95223ff",
   "metadata": {},
   "outputs": [],
   "source": [
    "top = Tk()\n",
    "top.geometry('600x400') \n",
    "top.title('My first Application')\n",
    "top.mainloop()"
   ]
  },
  {
   "cell_type": "markdown",
   "id": "ed4b7adb-83a7-4870-9f9f-d2f272fafaa8",
   "metadata": {},
   "source": [
    "##### Label on window"
   ]
  },
  {
   "cell_type": "code",
   "execution_count": 32,
   "id": "bff04302-b6cf-4245-b592-e1a1729d15e4",
   "metadata": {},
   "outputs": [],
   "source": [
    "top = Tk()\n",
    "top.geometry('500x500') \n",
    "top.title(\"Demo of Label\")\n",
    "\n",
    "l1= Label(top , text='First!', fg='white', bg='maroon',font = ('Arial',15,'italic'))   #create the object\n",
    "l2= Label(top , text='Second!', fg='white', bg='green',font = ('Arial',15,'bold'))\n",
    "l3= Label(top , text='Third!', fg='white', bg='green',font = ('Arial',15,'bold'))\n",
    "l4= Label(top , text='Forth!', fg='white', bg='maroon',font = ('Arial',15,'italic'))\n",
    "l1.pack(side=TOP)\n",
    "l2.pack(side=RIGHT)\n",
    "l3.pack(side=LEFT)\n",
    "l4.pack(side=BOTTOM)   #attach to the main window\n",
    "\n",
    "top.mainloop()"
   ]
  },
  {
   "cell_type": "markdown",
   "id": "c56a3c35-1e13-40cc-9d64-b256e16a01ae",
   "metadata": {},
   "source": [
    "##### Button widget"
   ]
  },
  {
   "cell_type": "code",
   "execution_count": 37,
   "id": "4e6b82db-149e-4710-9d39-4b59538a672e",
   "metadata": {},
   "outputs": [],
   "source": [
    "from tkinter import *\n",
    "top = Tk()\n",
    "top.geometry('500x500')\n",
    "top.title('Application of Button')\n",
    "b=Button(top, text='Click here',fg='white',bg='maroon',font=('Times New Roman',20))\n",
    "b.pack( pady=20)\n",
    "top.mainloop()"
   ]
  },
  {
   "cell_type": "markdown",
   "id": "d43a89f4-33a2-40a0-a350-bdc6b4185837",
   "metadata": {},
   "source": [
    "##### Action generation using button"
   ]
  },
  {
   "cell_type": "code",
   "execution_count": 40,
   "id": "703f8d3b-5a03-4582-a693-32560db5c456",
   "metadata": {},
   "outputs": [
    {
     "name": "stdout",
     "output_type": "stream",
     "text": [
      "Button is clicked\n"
     ]
    }
   ],
   "source": [
    "from tkinter import *\n",
    "top = Tk()\n",
    "top.geometry('500x500')\n",
    "top.title('Action generator')\n",
    "\n",
    "def calc():\n",
    "    print('Button is clicked')\n",
    "    \n",
    "b=Button(top, text='Click here',fg='white',bg='maroon',font=('Times New Roman',20),command=calc)\n",
    "b.pack( pady=20)\n",
    "top.mainloop()"
   ]
  },
  {
   "cell_type": "code",
   "execution_count": 51,
   "id": "d97f94ac-4fc6-490c-b7b2-38971d4587e9",
   "metadata": {},
   "outputs": [],
   "source": [
    "from tkinter import *\n",
    "top = Tk()\n",
    "top.geometry('500x500')\n",
    "top.title('Action generator')\n",
    "\n",
    "def calc():\n",
    "   l.config(text='Clicked the Button',font=('Times New Roman',15))\n",
    "b=Button(top, text='Click here',font=('Times New Roman',20),fg='red',command=calc)\n",
    "b.pack()\n",
    "l=Label(top, text='Click the Button',font=('Times New Roman',15))\n",
    "l.pack()\n",
    "top.mainloop()"
   ]
  },
  {
   "cell_type": "markdown",
   "id": "e0b645e8-ff7e-4a1f-8e00-b3829f8e5b47",
   "metadata": {},
   "source": [
    "#### Entry widget"
   ]
  },
  {
   "cell_type": "code",
   "execution_count": 55,
   "id": "651941a1-6bb1-424d-a755-0ba841312374",
   "metadata": {},
   "outputs": [],
   "source": [
    "top = Tk()\n",
    "top.geometry('600x400') \n",
    "top.title('Application of entry')\n",
    "\n",
    "e=Entry(top,font=('Times New Roman',15))\n",
    "e.pack(padx=20,pady=20)\n",
    "top.mainloop()"
   ]
  },
  {
   "cell_type": "code",
   "execution_count": 63,
   "id": "153f9969",
   "metadata": {},
   "outputs": [
    {
     "name": "stdout",
     "output_type": "stream",
     "text": [
      "Square of number is : 2025\n"
     ]
    }
   ],
   "source": [
    "top = Tk()\n",
    "top.geometry('600x400') \n",
    "top.title('Find square of the number')\n",
    "\n",
    "def calc():\n",
    "    num = int(e.get())\n",
    "    print('Square of number is :',num**2)\n",
    "    \n",
    "l1=Label(top, text='Enter the number',font=('Times New Roman',15))\n",
    "e=Entry(top,font=('Times New Roman',15))\n",
    "b=Button(top, text ='Find square',font=('Times New Roman',15),command = calc)\n",
    "l1.pack()\n",
    "e.pack()\n",
    "b.pack(pady=10)\n",
    "\n",
    "\n",
    "top.mainloop()"
   ]
  },
  {
   "cell_type": "code",
   "execution_count": 67,
   "id": "6bdc9019",
   "metadata": {},
   "outputs": [],
   "source": [
    "top = Tk()\n",
    "top.geometry('600x400') \n",
    "top.title('Find square of the number')\n",
    "\n",
    "def calc():\n",
    "    num = int(e.get()) ** 2\n",
    "    out.config(text='Result :'+str(num))\n",
    "\n",
    "l=Label(top, text='Enter the number',font=('Times New Roman',15))\n",
    "e=Entry(top,font=('Times New Roman',15))\n",
    "b=Button(top, text ='Find square',font=('Times New Roman',15),command = calc)\n",
    "out=Label(top,text='Result :',font=('Times New Roman',15))\n",
    "l.pack()\n",
    "e.pack()\n",
    "b.pack(pady=10)\n",
    "out.pack()\n",
    "\n",
    "top.mainloop()"
   ]
  },
  {
   "cell_type": "code",
   "execution_count": 70,
   "id": "25de4591-147e-4b6e-9fdc-f925241b9d9a",
   "metadata": {},
   "outputs": [],
   "source": [
    "top = Tk()\n",
    "top.geometry('600x400') \n",
    "top.title('Application of entry')\n",
    "\n",
    "e=Entry(top,font=('Times New Roman',15),show='*')\n",
    "e.pack(pady=20)\n",
    "top.mainloop()"
   ]
  },
  {
   "cell_type": "markdown",
   "id": "65d0b626-8c3b-4e36-ba30-707dc97afd9f",
   "metadata": {},
   "source": [
    "#### Text widget\n"
   ]
  },
  {
   "cell_type": "code",
   "execution_count": 72,
   "id": "c4255bf6-edfc-44d8-914e-738715da377e",
   "metadata": {},
   "outputs": [],
   "source": [
    "top = Tk()\n",
    "top.geometry('600x400') \n",
    "top.title('Application of entry')\n",
    "\n",
    "t=Text(top,font=('Times New Roman',15),height=15,width=100)\n",
    "t.pack()\n",
    "top.mainloop()"
   ]
  },
  {
   "cell_type": "code",
   "execution_count": 77,
   "id": "0ab2126c-0443-4cdb-b4b7-24c268096dea",
   "metadata": {},
   "outputs": [],
   "source": [
    "top = Tk()\n",
    "top.geometry('600x400') \n",
    "top.title('Notepad')\n",
    "def save():\n",
    "    f = open('demo.txt','w')\n",
    "    f.write(t.get('1.0',END))\n",
    "    f.close()\n",
    "\n",
    "\n",
    "def clear():\n",
    "    t.delete('1.0',END)\n",
    "\n",
    "\n",
    "t=Text(top,font=('Times New Roman',15),height=15,width=100)\n",
    "b1=Button(top,text='Save ',font=('Times New Roman',15),command=save)\n",
    "b2=Button(top,text='Clear',font=('Times New Roman',15),command=clear)\n",
    "t.pack()\n",
    "b1.pack()\n",
    "b2.pack()\n",
    "\n",
    "top.mainloop()\n",
    "\n"
   ]
  },
  {
   "cell_type": "markdown",
   "id": "0cfa2f56-2511-4574-b1e4-652ff74e8be2",
   "metadata": {},
   "source": [
    "##### finding the events"
   ]
  },
  {
   "cell_type": "code",
   "execution_count": 85,
   "id": "9bcef79a-e041-4698-a85a-518b1dcbb61a",
   "metadata": {},
   "outputs": [
    {
     "name": "stdout",
     "output_type": "stream",
     "text": [
      "Double click\n",
      "Double click\n"
     ]
    }
   ],
   "source": [
    "top = Tk()\n",
    "top.geometry('400x400')\n",
    "top.title('Simple binding of events')\n",
    "def hello(event):\n",
    "    print(\"Left click\")\n",
    "\n",
    "def quit(event):\n",
    "    print('Double click')\n",
    "\n",
    "def right(event):\n",
    "    print(\"Right Click\")\n",
    "\n",
    "b=Button(top,text='Button click',font=('Times New Roman',15))\n",
    "b.pack()\n",
    "b.bind('<Button 1>',hello)\n",
    "b.bind('<Button 1>',quit)\n",
    "b.bind('<Button 3>',right)\n",
    "\n",
    "top.mainloop()"
   ]
  },
  {
   "cell_type": "code",
   "execution_count": 86,
   "id": "1bf87e6e-5aef-4d02-80c0-7b056547fa8a",
   "metadata": {},
   "outputs": [],
   "source": [
    "top = Tk()\n",
    "top.geometry('400x400')\n",
    "top.title('Demo of Label')\n",
    "l1= Label(top , text='First!', fg='white', bg='maroon',font = ('Arial',15,'italic'))   #create the object\n",
    "l2= Label(top , text='Second!', fg='white', bg='green',font = ('Arial',15,'bold'))\n",
    "l3= Label(top , text='Third!', fg='white', bg='green',font = ('Arial',15,'bold'))\n",
    "l4= Label(top , text='Forth!', fg='white', bg='maroon',font = ('Arial',15,'italic'))\n",
    "l1.pack(fill=X,padx = 20, pady = 20)\n",
    "l2.pack(fill=X,padx = 20, pady = 20)\n",
    "l3.pack(fill=X,padx = 20, pady = 20)\n",
    "l4.pack(fill=X,padx = 20, pady = 20)\n",
    "\n",
    "top.mainloop()"
   ]
  },
  {
   "cell_type": "markdown",
   "id": "a6b735a9-bf78-46ce-8e61-4d579e53297c",
   "metadata": {},
   "source": [
    "#### place manager"
   ]
  },
  {
   "cell_type": "code",
   "execution_count": 98,
   "id": "55b3c3e8-7248-48dc-83b6-0394427260e8",
   "metadata": {},
   "outputs": [],
   "source": [
    "top = Tk()\n",
    "top.geometry('600x400') \n",
    "top.title('Find square of the number')\n",
    "\n",
    "def calc():\n",
    "    num = int(e.get()) ** 2\n",
    "    out.config(text='Result :'+str(num))\n",
    "\n",
    "l=Label(top, text='Enter the number',font=('Times New Roman',15))\n",
    "e=Entry(top,font=('Times New Roman',15))\n",
    "b=Button(top, text ='Find square',font=('Times New Roman',15),command = calc)\n",
    "out=Label(top,text='Result :',font=('Times New Roman',15))\n",
    "l.place(x=20,y=20)\n",
    "e.place(x=180,y=20)\n",
    "b.place(x=20,y=60)\n",
    "out.place(x=180,y=70)\n",
    "\n",
    "top.mainloop()"
   ]
  },
  {
   "cell_type": "code",
   "execution_count": 99,
   "id": "10c2b1cd-259d-41ae-87dc-14c5f94c506a",
   "metadata": {},
   "outputs": [],
   "source": [
    "top = Tk()\n",
    "top.geometry('600x400') \n",
    "top.title('Find square of the number')\n",
    "\n",
    "def calc():\n",
    "    num = int(e.get()) ** 2\n",
    "    out.config(text='Result :'+str(num))\n",
    "\n",
    "l=Label(top, text='Enter the number',font=('Times New Roman',15))\n",
    "e=Entry(top,font=('Times New Roman',15))\n",
    "b=Button(top, text ='Find square',font=('Times New Roman',15),command = calc)\n",
    "out=Label(top,text='Result :',font=('Times New Roman',15))\n",
    "l.grid(row=0,column=0)\n",
    "e.grid(row=0,column=1)\n",
    "b.grid(row=1,column=0)\n",
    "out.grid(row=1,column=1)\n",
    "\n",
    "top.mainloop()"
   ]
  },
  {
   "cell_type": "markdown",
   "id": "0a084bf2-2051-49a6-aa10-7af79374899b",
   "metadata": {},
   "source": [
    "#### Simple Calculator"
   ]
  },
  {
   "cell_type": "code",
   "execution_count": 123,
   "id": "d9910313-8887-4ad5-bc70-0209a99857dc",
   "metadata": {},
   "outputs": [],
   "source": [
    "top = Tk()\n",
    "top.geometry('600x400') \n",
    "top.title('Simple Calculator')\n",
    "\n",
    "def add():\n",
    "    a=int(num1.get())+int(num2.get())\n",
    "    result.config(text='Addition:' + str(a))\n",
    "    \n",
    "def sub():\n",
    "    a=int(num1.get()) - int(num2.get())\n",
    "    result.config(text='Subtraction:' + str(a))\n",
    "    \n",
    "def mul():\n",
    "    a=int(num1.get()) * int(num2.get())\n",
    "    result.config(text='Multiplication:' + str(a))\n",
    "    \n",
    "def div():\n",
    "    a=int(num1.get()) / int(num2.get())\n",
    "    result.config(text='Division:' + str(a))\n",
    "\n",
    "num1=Entry(top)\n",
    "num2=Entry(top)\n",
    "add = Button(top,text = 'Add',font=('Times New Roman',20),command=add)\n",
    "sub = Button(top,text = 'Sub',font=('Times New Roman',20),command=sub)\n",
    "mul = Button(top,text = 'Mul',font=('Times New Roman',20),command=mul)\n",
    "div = Button(top,text = 'Div',font=('Times New Roman',20),command=div)\n",
    "result = Label(top,text ='Result',font=('Times New Roman',20))\n",
    "num1.place(x=20 , y= 20)\n",
    "num2.place(x=150 ,y=20)\n",
    "add.place(x=20 ,y=60,width=60,height=40)\n",
    "sub.place(x=100, y=60,width=60,height=40)\n",
    "mul.place(x=180 ,y=60,width=60,height=40)\n",
    "div.place(x=260 ,y=60,width=60,height=40)\n",
    "result.place(x=20 ,y=120)\n",
    "\n",
    "top.mainloop()"
   ]
  },
  {
   "cell_type": "code",
   "execution_count": null,
   "id": "a157c541-9c51-4d58-bad3-371ff4bdb93e",
   "metadata": {},
   "outputs": [],
   "source": []
  }
 ],
 "metadata": {
  "kernelspec": {
   "display_name": "Python [conda env:base] *",
   "language": "python",
   "name": "conda-base-py"
  },
  "language_info": {
   "codemirror_mode": {
    "name": "ipython",
    "version": 3
   },
   "file_extension": ".py",
   "mimetype": "text/x-python",
   "name": "python",
   "nbconvert_exporter": "python",
   "pygments_lexer": "ipython3",
   "version": "3.12.7"
  }
 },
 "nbformat": 4,
 "nbformat_minor": 5
}
