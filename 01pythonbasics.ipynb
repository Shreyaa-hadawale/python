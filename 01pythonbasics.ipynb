{
 "cells": [
  {
   "cell_type": "code",
   "execution_count": 1,
   "id": "f8040bb5-68a5-48d0-abb8-02e8977c7745",
   "metadata": {},
   "outputs": [
    {
     "name": "stdout",
     "output_type": "stream",
     "text": [
      "hello world\n"
     ]
    }
   ],
   "source": [
    "print(\"hello world\")"
   ]
  },
  {
   "cell_type": "code",
   "execution_count": 2,
   "id": "7fa8533b-4068-4b94-94fc-30fe9b437932",
   "metadata": {},
   "outputs": [
    {
     "name": "stdout",
     "output_type": "stream",
     "text": [
      "hello world\n",
      "Welcome\n",
      "Good Bye....\n"
     ]
    }
   ],
   "source": [
    "print(\"hello world\")\n",
    "print(\"Welcome\")\n",
    "print(\"Good Bye....\")"
   ]
  },
  {
   "cell_type": "code",
   "execution_count": 3,
   "id": "f8b86aa5-7e78-4774-ad51-31e343ddfbed",
   "metadata": {},
   "outputs": [],
   "source": [
    "num=45"
   ]
  },
  {
   "cell_type": "code",
   "execution_count": 4,
   "id": "e0a716cd-0031-49df-adcb-8e2ef78e7685",
   "metadata": {},
   "outputs": [
    {
     "name": "stdout",
     "output_type": "stream",
     "text": [
      "45\n"
     ]
    }
   ],
   "source": [
    "print(num)"
   ]
  },
  {
   "cell_type": "code",
   "execution_count": 5,
   "id": "c151ee29-eb1d-4f59-8942-a211c0742710",
   "metadata": {},
   "outputs": [
    {
     "data": {
      "text/plain": [
       "int"
      ]
     },
     "execution_count": 5,
     "metadata": {},
     "output_type": "execute_result"
    }
   ],
   "source": [
    "type(num)"
   ]
  },
  {
   "cell_type": "code",
   "execution_count": 6,
   "id": "1342d003-866d-4d56-8452-2da156013bf7",
   "metadata": {},
   "outputs": [],
   "source": [
    "num=23.122\n"
   ]
  },
  {
   "cell_type": "code",
   "execution_count": 7,
   "id": "40e5ac23-a110-4933-8408-cf62ccbdb74f",
   "metadata": {},
   "outputs": [
    {
     "data": {
      "text/plain": [
       "float"
      ]
     },
     "execution_count": 7,
     "metadata": {},
     "output_type": "execute_result"
    }
   ],
   "source": [
    "type(num)"
   ]
  },
  {
   "cell_type": "code",
   "execution_count": 8,
   "id": "b5700989-5e77-454b-b52f-eef415d7c4d7",
   "metadata": {},
   "outputs": [],
   "source": [
    "string=\"shreyaa\""
   ]
  },
  {
   "cell_type": "code",
   "execution_count": 9,
   "id": "d9fd6004-e49e-4344-a000-064e5dd50a08",
   "metadata": {},
   "outputs": [
    {
     "name": "stdout",
     "output_type": "stream",
     "text": [
      "shreyaa\n"
     ]
    }
   ],
   "source": [
    "print(string)"
   ]
  },
  {
   "cell_type": "code",
   "execution_count": 10,
   "id": "45dc1bf8-ee3c-43e7-933d-5bc5c8fe16be",
   "metadata": {},
   "outputs": [
    {
     "data": {
      "text/plain": [
       "str"
      ]
     },
     "execution_count": 10,
     "metadata": {},
     "output_type": "execute_result"
    }
   ],
   "source": [
    "type(string)"
   ]
  },
  {
   "cell_type": "code",
   "execution_count": 11,
   "id": "7148f606-27c2-4503-ab5d-f9e16480ec26",
   "metadata": {},
   "outputs": [],
   "source": [
    "string='shreya'\n"
   ]
  },
  {
   "cell_type": "code",
   "execution_count": 12,
   "id": "afcdab18-0fa8-4c7d-b661-858c5e29aa55",
   "metadata": {},
   "outputs": [
    {
     "name": "stdout",
     "output_type": "stream",
     "text": [
      "shreya\n"
     ]
    }
   ],
   "source": [
    "print(string)"
   ]
  },
  {
   "cell_type": "markdown",
   "id": "74c15426-15b3-4c86-aa75-a257eca15afd",
   "metadata": {},
   "source": [
    "##### Datatypes"
   ]
  },
  {
   "cell_type": "code",
   "execution_count": 13,
   "id": "d99e9dc0-ea43-499b-951d-b5ff82aa62bd",
   "metadata": {},
   "outputs": [],
   "source": [
    "# integer\n",
    "num1=23\n",
    "num2=46"
   ]
  },
  {
   "cell_type": "code",
   "execution_count": 14,
   "id": "87a8e765-8368-464b-b1ae-aead17c4dc33",
   "metadata": {},
   "outputs": [
    {
     "name": "stdout",
     "output_type": "stream",
     "text": [
      "23\n",
      "46\n"
     ]
    }
   ],
   "source": [
    "print(num1)\n",
    "print(num2)"
   ]
  },
  {
   "cell_type": "code",
   "execution_count": 15,
   "id": "40030d48-d318-4850-baf2-3ed02fc39a0c",
   "metadata": {},
   "outputs": [
    {
     "name": "stdout",
     "output_type": "stream",
     "text": [
      "-1232222222233\n"
     ]
    }
   ],
   "source": [
    "num3=-1232222222233\n",
    "print(num3)\n"
   ]
  },
  {
   "cell_type": "code",
   "execution_count": 16,
   "id": "14e908ff-b404-4ede-987e-d50243438304",
   "metadata": {},
   "outputs": [],
   "source": [
    "num = 233445 **234"
   ]
  },
  {
   "cell_type": "code",
   "execution_count": 17,
   "id": "a11fdaaa-eb9a-472a-8092-cef258008e9d",
   "metadata": {},
   "outputs": [
    {
     "data": {
      "text/plain": [
       "142952219542969380446636155056737882819221447683630880909263754200857000430629091458813246655501663891536660559797575324385806651718685178402346542694579729263686750798778890629040767813027894993264364465465751250103974194892931034656652473043545905702538880844989961782262112076284220071369799992997124406482832115301184991758182595910810269168317798345043310807912558223995034099982800923442694224385532643670622927640388517126781496561661588509450011871065572693323013083123953828109732649220669630149507688986618761042361108032369108988221113277798453762005603448210239859074670991456813444198211814989913695798158641633363609475378914455241367189036046024050346865333841555769104719783400827100137898632147961131735649485277596211241857761774773506772533290497273825878924902094282023940534912551281581266472677014067606763404822982745204707410736434007975429705134800445462463113576805918099521530592892335201603419538102230671943528259351161519465647585893772314249866623063335667709338453273402599105115805486104949512741073714061452908657542786928275968703198633893047660295044542841303252139267186394245723940902137022419387497598629614466368335542503255420047346758412157072213699307761359599483152768941741916908227949534193612635135650634765625"
      ]
     },
     "execution_count": 17,
     "metadata": {},
     "output_type": "execute_result"
    }
   ],
   "source": [
    "num"
   ]
  },
  {
   "cell_type": "code",
   "execution_count": 18,
   "id": "4b870039-4bcf-4da1-8803-7cdb9bc51e63",
   "metadata": {},
   "outputs": [],
   "source": [
    "f=673.12345"
   ]
  },
  {
   "cell_type": "code",
   "execution_count": 19,
   "id": "2aaffe92-d773-4021-a66a-0307d14827e2",
   "metadata": {},
   "outputs": [
    {
     "data": {
      "text/plain": [
       "673.12345"
      ]
     },
     "execution_count": 19,
     "metadata": {},
     "output_type": "execute_result"
    }
   ],
   "source": [
    "f"
   ]
  },
  {
   "cell_type": "code",
   "execution_count": 20,
   "id": "2dc6a3d9-c636-40a0-9bc8-20da97eca9c4",
   "metadata": {},
   "outputs": [],
   "source": [
    "f=67e32"
   ]
  },
  {
   "cell_type": "code",
   "execution_count": 21,
   "id": "32f7363e-d487-43f8-bf13-8db9619629de",
   "metadata": {},
   "outputs": [
    {
     "data": {
      "text/plain": [
       "6.7e+33"
      ]
     },
     "execution_count": 21,
     "metadata": {},
     "output_type": "execute_result"
    }
   ],
   "source": [
    "f"
   ]
  },
  {
   "cell_type": "code",
   "execution_count": 22,
   "id": "7ac656b5-8d3b-4b76-926b-aff7db1c1306",
   "metadata": {},
   "outputs": [
    {
     "name": "stdout",
     "output_type": "stream",
     "text": [
      "45 67 56\n"
     ]
    }
   ],
   "source": [
    "num1,num2,num3= 45, 67 ,56\n",
    "print( num1,num2,num3)"
   ]
  },
  {
   "cell_type": "code",
   "execution_count": 23,
   "id": "abc112b8-3b2c-4052-961c-4246d4d21193",
   "metadata": {},
   "outputs": [
    {
     "name": "stdout",
     "output_type": "stream",
     "text": [
      "110\n"
     ]
    }
   ],
   "source": [
    "num1 =65\n",
    "num2 =45\n",
    "add=num1+num2\n",
    "print(add)"
   ]
  },
  {
   "cell_type": "code",
   "execution_count": 24,
   "id": "c7acaa6f-df60-4448-a6a7-ddd74f612782",
   "metadata": {},
   "outputs": [],
   "source": [
    "num1=45"
   ]
  },
  {
   "cell_type": "markdown",
   "id": "f0d79dbe-969f-498a-a833-fc83ff9baf29",
   "metadata": {},
   "source": [
    "### print function"
   ]
  },
  {
   "cell_type": "code",
   "execution_count": 25,
   "id": "2bd8be20-678b-42a9-a115-cb5e5200e2bc",
   "metadata": {},
   "outputs": [],
   "source": [
    "name ='shreyaa'\n",
    "marks=87.23"
   ]
  },
  {
   "cell_type": "code",
   "execution_count": 26,
   "id": "7be2fe16-b79a-44da-aa0c-0ac8bf44e5c6",
   "metadata": {},
   "outputs": [
    {
     "name": "stdout",
     "output_type": "stream",
     "text": [
      "shreyaa 87.23\n"
     ]
    }
   ],
   "source": [
    "print(name,marks)"
   ]
  },
  {
   "cell_type": "code",
   "execution_count": 27,
   "id": "56e97671-5658-482b-ae5d-aba247f9417c",
   "metadata": {},
   "outputs": [
    {
     "name": "stdout",
     "output_type": "stream",
     "text": [
      "My name is  shreyaa and marks are 87.23\n"
     ]
    }
   ],
   "source": [
    "print('My name is ',name,'and marks are',marks)"
   ]
  },
  {
   "cell_type": "code",
   "execution_count": 28,
   "id": "87adb035-d641-4f5b-a351-2500c8671f83",
   "metadata": {},
   "outputs": [
    {
     "name": "stdout",
     "output_type": "stream",
     "text": [
      "My name is shreyaa and marks are 87\n"
     ]
    }
   ],
   "source": [
    "#formatted print\n",
    "print('My name is %s and marks are %d'%(name,marks))"
   ]
  },
  {
   "cell_type": "code",
   "execution_count": 29,
   "id": "edae723c-1880-4ad7-ba72-e1a45341fdf8",
   "metadata": {},
   "outputs": [
    {
     "name": "stdout",
     "output_type": "stream",
     "text": [
      "My name is shreyaa and marks are 87.230000\n"
     ]
    }
   ],
   "source": [
    "print('My name is %s and marks are %f'%(name,marks))"
   ]
  },
  {
   "cell_type": "code",
   "execution_count": 30,
   "id": "f3668cdc-5155-4cad-93b7-efe3e75d07fe",
   "metadata": {},
   "outputs": [
    {
     "name": "stdout",
     "output_type": "stream",
     "text": [
      "My name is shreyaa and marks are 87.23\n"
     ]
    }
   ],
   "source": [
    "print('My name is %s and marks are %.2f'%(name,marks))"
   ]
  },
  {
   "cell_type": "code",
   "execution_count": 31,
   "id": "887165d9-c10f-48a8-8d91-33b64e76da86",
   "metadata": {},
   "outputs": [
    {
     "name": "stdout",
     "output_type": "stream",
     "text": [
      "My name is shreyaa and marks are 87.23\n"
     ]
    }
   ],
   "source": [
    "print(f'My name is {name} and marks are {marks}')"
   ]
  },
  {
   "cell_type": "code",
   "execution_count": 32,
   "id": "0af0ea9b-4798-4e53-bfaa-c7179ae1aefa",
   "metadata": {},
   "outputs": [
    {
     "name": "stdout",
     "output_type": "stream",
     "text": [
      "shreyaa\n",
      "87.23\n"
     ]
    }
   ],
   "source": [
    "print(name)\n",
    "print(marks)"
   ]
  },
  {
   "cell_type": "code",
   "execution_count": 33,
   "id": "c06a5621-54b6-4935-8c53-42da591f734b",
   "metadata": {},
   "outputs": [
    {
     "name": "stdout",
     "output_type": "stream",
     "text": [
      "shreyaa   87.23\n"
     ]
    }
   ],
   "source": [
    "print(name,end='   ')\n",
    "print(marks)"
   ]
  },
  {
   "cell_type": "code",
   "execution_count": 34,
   "id": "8799aa65-7b2f-4848-bcde-9cfa46acfdad",
   "metadata": {},
   "outputs": [
    {
     "name": "stdout",
     "output_type": "stream",
     "text": [
      "shreyaa\t87.23\n"
     ]
    }
   ],
   "source": [
    "print(name,end='\\t')\n",
    "print(marks)"
   ]
  },
  {
   "cell_type": "code",
   "execution_count": 35,
   "id": "35c8be83-835b-4e14-a891-5d7f062a1d37",
   "metadata": {},
   "outputs": [
    {
     "name": "stdout",
     "output_type": "stream",
     "text": [
      "shreyaa*87.23\n"
     ]
    }
   ],
   "source": [
    "print(name,end='*')\n",
    "print(marks)"
   ]
  },
  {
   "cell_type": "code",
   "execution_count": 36,
   "id": "0c28ff56-cc42-49bb-ac04-3102edcf056f",
   "metadata": {},
   "outputs": [
    {
     "name": "stdout",
     "output_type": "stream",
     "text": [
      "shreyaa 87.23\n"
     ]
    }
   ],
   "source": [
    "print(name,marks)"
   ]
  },
  {
   "cell_type": "code",
   "execution_count": 37,
   "id": "13474c68-0606-40e5-bbe3-4587d0b71134",
   "metadata": {},
   "outputs": [
    {
     "name": "stdout",
     "output_type": "stream",
     "text": [
      "shreyaa\n",
      "87.23\n",
      "shreyaa\n"
     ]
    }
   ],
   "source": [
    "print(name,marks,name, sep='\\n')"
   ]
  },
  {
   "cell_type": "code",
   "execution_count": 38,
   "id": "9ec54963-fc23-4d7c-b2f8-0d52d6981254",
   "metadata": {},
   "outputs": [
    {
     "name": "stdout",
     "output_type": "stream",
     "text": [
      "shreyaa\n",
      "87.23\n"
     ]
    }
   ],
   "source": [
    "print(name,marks, sep='\\n')"
   ]
  },
  {
   "cell_type": "markdown",
   "id": "b1229940-12e9-474d-9a6e-e69003defbeb",
   "metadata": {},
   "source": [
    "##### Arithmetic Operators"
   ]
  },
  {
   "cell_type": "code",
   "execution_count": 39,
   "id": "540f481a-7a64-4adf-8977-6d62b65135a9",
   "metadata": {},
   "outputs": [],
   "source": [
    "num1 =48\n",
    "num2=11\n"
   ]
  },
  {
   "cell_type": "code",
   "execution_count": 40,
   "id": "f256197b-1715-437f-925c-103fc9a0c4b2",
   "metadata": {},
   "outputs": [
    {
     "name": "stdout",
     "output_type": "stream",
     "text": [
      "addition is : 59\n"
     ]
    }
   ],
   "source": [
    "add=num1+num2\n",
    "print(\"addition is :\",add)"
   ]
  },
  {
   "cell_type": "code",
   "execution_count": 41,
   "id": "44bea7ec-7360-45e5-9c2b-2d8248b555fe",
   "metadata": {},
   "outputs": [
    {
     "name": "stdout",
     "output_type": "stream",
     "text": [
      "37\n"
     ]
    }
   ],
   "source": [
    "sub=num1-num2\n",
    "print(sub)"
   ]
  },
  {
   "cell_type": "code",
   "execution_count": 42,
   "id": "cfe33fbf-2109-4698-ae99-5005088014c4",
   "metadata": {},
   "outputs": [
    {
     "name": "stdout",
     "output_type": "stream",
     "text": [
      "528\n"
     ]
    }
   ],
   "source": [
    "mul=num1*num2\n",
    "print(mul)"
   ]
  },
  {
   "cell_type": "code",
   "execution_count": 43,
   "id": "bdf0c6a9-530d-4161-ad53-0a51f1bbedae",
   "metadata": {},
   "outputs": [
    {
     "name": "stdout",
     "output_type": "stream",
     "text": [
      "4.363636363636363\n"
     ]
    }
   ],
   "source": [
    "div=num1/num2\n",
    "print(div)"
   ]
  },
  {
   "cell_type": "code",
   "execution_count": 44,
   "id": "69f15cd0-af32-46e7-8f41-a36e12af2b2f",
   "metadata": {},
   "outputs": [
    {
     "name": "stdout",
     "output_type": "stream",
     "text": [
      "floor division : 4\n"
     ]
    }
   ],
   "source": [
    "floor=num1//num2\n",
    "print(\"floor division :\",floor)"
   ]
  },
  {
   "cell_type": "code",
   "execution_count": 45,
   "id": "271ce47c-28bd-4466-b29b-0c78aea7b0b3",
   "metadata": {},
   "outputs": [
    {
     "name": "stdout",
     "output_type": "stream",
     "text": [
      "modular division : 4\n"
     ]
    }
   ],
   "source": [
    "mod=num1%num2\n",
    "print('modular division :',mod)"
   ]
  },
  {
   "cell_type": "code",
   "execution_count": 46,
   "id": "f37e2ed4-2612-481f-b571-d7087b13baa5",
   "metadata": {},
   "outputs": [
    {
     "name": "stdout",
     "output_type": "stream",
     "text": [
      "Exponentiation is: 3116402981210161152\n"
     ]
    }
   ],
   "source": [
    "print(\"Exponentiation is:\",num1**num2)"
   ]
  },
  {
   "cell_type": "code",
   "execution_count": 47,
   "id": "aa2919cf-17c7-48b6-be49-2ad11aa89b56",
   "metadata": {},
   "outputs": [
    {
     "data": {
      "text/plain": [
       "2963.099798318029"
      ]
     },
     "execution_count": 47,
     "metadata": {},
     "output_type": "execute_result"
    }
   ],
   "source": [
    "45**2.1"
   ]
  },
  {
   "cell_type": "code",
   "execution_count": 48,
   "id": "d00b2431-3a7c-4da9-b074-86605a0884d5",
   "metadata": {},
   "outputs": [
    {
     "name": "stdout",
     "output_type": "stream",
     "text": [
      "Less than False\n",
      "Less than or Equal to False\n",
      "Greater than True\n",
      "Greater than or Equal to True\n",
      "Equal to False\n",
      "Not Equal to True\n"
     ]
    }
   ],
   "source": [
    "print('Less than',num1<num2)\n",
    "print('Less than or Equal to',num1<=num2)\n",
    "print('Greater than',num1>num2)\n",
    "print('Greater than or Equal to',num1>=num2)\n",
    "print('Equal to',num1==num2)\n",
    "print('Not Equal to',num1!=num2)"
   ]
  },
  {
   "cell_type": "code",
   "execution_count": 49,
   "id": "a1a28445-d6ec-463e-9911-48d01b70b422",
   "metadata": {},
   "outputs": [],
   "source": [
    "val=True"
   ]
  },
  {
   "cell_type": "code",
   "execution_count": 50,
   "id": "4e997bae-4b97-4c5b-9a75-1c1219e66be1",
   "metadata": {},
   "outputs": [
    {
     "data": {
      "text/plain": [
       "bool"
      ]
     },
     "execution_count": 50,
     "metadata": {},
     "output_type": "execute_result"
    }
   ],
   "source": [
    "type(val)"
   ]
  },
  {
   "cell_type": "code",
   "execution_count": 51,
   "id": "72e6acef-0df0-4ee5-a4fa-dab4ad79e222",
   "metadata": {},
   "outputs": [
    {
     "data": {
      "text/plain": [
       "1"
      ]
     },
     "execution_count": 51,
     "metadata": {},
     "output_type": "execute_result"
    }
   ],
   "source": [
    "True +False"
   ]
  },
  {
   "cell_type": "code",
   "execution_count": 52,
   "id": "6e53c368-b93d-431f-b356-e90e71bc3711",
   "metadata": {},
   "outputs": [
    {
     "data": {
      "text/plain": [
       "2"
      ]
     },
     "execution_count": 52,
     "metadata": {},
     "output_type": "execute_result"
    }
   ],
   "source": [
    "True + True"
   ]
  },
  {
   "cell_type": "markdown",
   "id": "7e95bf12-a30c-43cf-a189-d08de704b3ab",
   "metadata": {},
   "source": [
    "Assignment operator"
   ]
  },
  {
   "cell_type": "code",
   "execution_count": 53,
   "id": "e5e61db9-be1c-426a-9f6f-4c2501ae72a1",
   "metadata": {},
   "outputs": [],
   "source": [
    "num1 =10\n",
    "num2=20"
   ]
  },
  {
   "cell_type": "code",
   "execution_count": 54,
   "id": "188d76fb-0aec-4793-962d-b69828cc1069",
   "metadata": {},
   "outputs": [
    {
     "data": {
      "text/plain": [
       "20"
      ]
     },
     "execution_count": 54,
     "metadata": {},
     "output_type": "execute_result"
    }
   ],
   "source": [
    "num1+=10\n",
    "num1"
   ]
  },
  {
   "cell_type": "code",
   "execution_count": 55,
   "id": "619cb541-19b6-4d30-85a0-95b2d6e412f2",
   "metadata": {},
   "outputs": [
    {
     "data": {
      "text/plain": [
       "10"
      ]
     },
     "execution_count": 55,
     "metadata": {},
     "output_type": "execute_result"
    }
   ],
   "source": [
    "num2 -=10\n",
    "num2\n"
   ]
  },
  {
   "cell_type": "code",
   "execution_count": 56,
   "id": "695ab87c-b87a-44ec-9760-b8395e33b4cd",
   "metadata": {},
   "outputs": [
    {
     "data": {
      "text/plain": [
       "40"
      ]
     },
     "execution_count": 56,
     "metadata": {},
     "output_type": "execute_result"
    }
   ],
   "source": [
    "num1 *= 2\n",
    "num1"
   ]
  },
  {
   "cell_type": "code",
   "execution_count": 57,
   "id": "cfaaa5d3-4258-4529-8c99-a76283fba602",
   "metadata": {},
   "outputs": [
    {
     "data": {
      "text/plain": [
       "2.0"
      ]
     },
     "execution_count": 57,
     "metadata": {},
     "output_type": "execute_result"
    }
   ],
   "source": [
    "num2 /=5\n",
    "num2"
   ]
  },
  {
   "cell_type": "code",
   "execution_count": 58,
   "id": "ff8de9cf-5ec4-49ae-9068-76f5cf85c153",
   "metadata": {},
   "outputs": [
    {
     "data": {
      "text/plain": [
       "0.0"
      ]
     },
     "execution_count": 58,
     "metadata": {},
     "output_type": "execute_result"
    }
   ],
   "source": [
    "num2//=3\n",
    "num2"
   ]
  },
  {
   "cell_type": "markdown",
   "id": "72d71585-1d48-4652-a506-e6702db50276",
   "metadata": {},
   "source": [
    "#### Logical Operator"
   ]
  },
  {
   "cell_type": "code",
   "execution_count": 59,
   "id": "ea35af55-3f5d-4901-95c8-1db9d984d9a8",
   "metadata": {},
   "outputs": [],
   "source": [
    "num1=20\n",
    "num2=45"
   ]
  },
  {
   "cell_type": "code",
   "execution_count": 60,
   "id": "dd17dba6-c24a-4eb8-9f35-07e5a74ee777",
   "metadata": {},
   "outputs": [
    {
     "data": {
      "text/plain": [
       "False"
      ]
     },
     "execution_count": 60,
     "metadata": {},
     "output_type": "execute_result"
    }
   ],
   "source": [
    "num1>num2 and num2<num1"
   ]
  },
  {
   "cell_type": "code",
   "execution_count": 61,
   "id": "fc675f16-999b-4730-8fa6-681171d2cb32",
   "metadata": {},
   "outputs": [
    {
     "data": {
      "text/plain": [
       "True"
      ]
     },
     "execution_count": 61,
     "metadata": {},
     "output_type": "execute_result"
    }
   ],
   "source": [
    "num1<num2 or num2<num1"
   ]
  },
  {
   "cell_type": "code",
   "execution_count": 62,
   "id": "d2c9e76f-5de5-4557-9b26-8aede25d75d3",
   "metadata": {},
   "outputs": [
    {
     "data": {
      "text/plain": [
       "True"
      ]
     },
     "execution_count": 62,
     "metadata": {},
     "output_type": "execute_result"
    }
   ],
   "source": [
    "not num1>num2"
   ]
  },
  {
   "cell_type": "markdown",
   "id": "c4eb4345-577f-4cc2-a077-c01d7dd732b2",
   "metadata": {},
   "source": [
    "###### Membership Selection Operator"
   ]
  },
  {
   "cell_type": "code",
   "execution_count": 63,
   "id": "75b11a6f-aef9-4699-8fa0-de785c121011",
   "metadata": {},
   "outputs": [],
   "source": [
    "name ='shreyaa'"
   ]
  },
  {
   "cell_type": "code",
   "execution_count": 64,
   "id": "d997560f-bac8-4d4e-b873-d4caf27d616e",
   "metadata": {},
   "outputs": [
    {
     "data": {
      "text/plain": [
       "True"
      ]
     },
     "execution_count": 64,
     "metadata": {},
     "output_type": "execute_result"
    }
   ],
   "source": [
    "'a' in name"
   ]
  },
  {
   "cell_type": "code",
   "execution_count": 65,
   "id": "bd46da8c-6363-4bb0-bf48-e6d1c6e0d056",
   "metadata": {},
   "outputs": [
    {
     "data": {
      "text/plain": [
       "False"
      ]
     },
     "execution_count": 65,
     "metadata": {},
     "output_type": "execute_result"
    }
   ],
   "source": [
    "'h' not in name"
   ]
  },
  {
   "cell_type": "code",
   "execution_count": 66,
   "id": "88ae2139-5a0b-4eff-a3f1-e5e17ddd1dd7",
   "metadata": {},
   "outputs": [],
   "source": [
    "array =[12,13,14,15,16,17]"
   ]
  },
  {
   "cell_type": "code",
   "execution_count": 67,
   "id": "cd93e704-4de1-4aea-9475-1e4cc9f04901",
   "metadata": {},
   "outputs": [
    {
     "data": {
      "text/plain": [
       "False"
      ]
     },
     "execution_count": 67,
     "metadata": {},
     "output_type": "execute_result"
    }
   ],
   "source": [
    "11 in array"
   ]
  },
  {
   "cell_type": "code",
   "execution_count": 68,
   "id": "375842f6-02cf-44e2-a57c-f4f826e34c45",
   "metadata": {},
   "outputs": [
    {
     "data": {
      "text/plain": [
       "True"
      ]
     },
     "execution_count": 68,
     "metadata": {},
     "output_type": "execute_result"
    }
   ],
   "source": [
    "11 not in array"
   ]
  },
  {
   "cell_type": "code",
   "execution_count": 69,
   "id": "7712f922-7100-456b-94a4-2f2b2d0704a3",
   "metadata": {},
   "outputs": [
    {
     "data": {
      "text/plain": [
       "True"
      ]
     },
     "execution_count": 69,
     "metadata": {},
     "output_type": "execute_result"
    }
   ],
   "source": [
    "'shr' in name"
   ]
  },
  {
   "cell_type": "markdown",
   "id": "dd8454ac-0fd0-4c04-bd58-32ecde82931c",
   "metadata": {},
   "source": [
    "#### Bitwise Operator"
   ]
  },
  {
   "cell_type": "code",
   "execution_count": 70,
   "id": "93a036c3-297a-493f-975b-1b7430feadcc",
   "metadata": {},
   "outputs": [
    {
     "data": {
      "text/plain": [
       "1"
      ]
     },
     "execution_count": 70,
     "metadata": {},
     "output_type": "execute_result"
    }
   ],
   "source": [
    "5 & 11"
   ]
  },
  {
   "cell_type": "code",
   "execution_count": 71,
   "id": "c245232a-c252-412b-aebb-c540b6a3615d",
   "metadata": {},
   "outputs": [
    {
     "data": {
      "text/plain": [
       "15"
      ]
     },
     "execution_count": 71,
     "metadata": {},
     "output_type": "execute_result"
    }
   ],
   "source": [
    "5 | 11"
   ]
  },
  {
   "cell_type": "code",
   "execution_count": 72,
   "id": "daa9584c-45ff-4b46-a9ae-085d16d83bfc",
   "metadata": {},
   "outputs": [
    {
     "data": {
      "text/plain": [
       "14"
      ]
     },
     "execution_count": 72,
     "metadata": {},
     "output_type": "execute_result"
    }
   ],
   "source": [
    "5 ^ 11"
   ]
  },
  {
   "cell_type": "code",
   "execution_count": 73,
   "id": "454b016c-3bc7-468e-8c9a-6891d327ca61",
   "metadata": {},
   "outputs": [
    {
     "data": {
      "text/plain": [
       "10"
      ]
     },
     "execution_count": 73,
     "metadata": {},
     "output_type": "execute_result"
    }
   ],
   "source": [
    "5<< 1"
   ]
  },
  {
   "cell_type": "code",
   "execution_count": 74,
   "id": "11a680f3-fc0b-443e-b4c6-1140af7c9abd",
   "metadata": {},
   "outputs": [
    {
     "data": {
      "text/plain": [
       "30"
      ]
     },
     "execution_count": 74,
     "metadata": {},
     "output_type": "execute_result"
    }
   ],
   "source": [
    "0b1111 << 1"
   ]
  },
  {
   "cell_type": "code",
   "execution_count": 75,
   "id": "0c6120fb-fa23-4c9c-b43a-83a200959c74",
   "metadata": {},
   "outputs": [
    {
     "data": {
      "text/plain": [
       "7"
      ]
     },
     "execution_count": 75,
     "metadata": {},
     "output_type": "execute_result"
    }
   ],
   "source": [
    "0b1111 >>1"
   ]
  },
  {
   "cell_type": "code",
   "execution_count": 76,
   "id": "fb21a116-e00f-42f1-8056-ade13a756631",
   "metadata": {},
   "outputs": [
    {
     "data": {
      "text/plain": [
       "20.0"
      ]
     },
     "execution_count": 76,
     "metadata": {},
     "output_type": "execute_result"
    }
   ],
   "source": [
    "30 + 10/2-5*3"
   ]
  },
  {
   "cell_type": "markdown",
   "id": "aa8a6ca8-9993-4a84-bf63-72b65bfad044",
   "metadata": {},
   "source": [
    "#### Special Datatypes"
   ]
  },
  {
   "cell_type": "code",
   "execution_count": 77,
   "id": "3f473d57-52ca-4072-99d0-efb0555671da",
   "metadata": {},
   "outputs": [],
   "source": [
    "c=5.6+7j"
   ]
  },
  {
   "cell_type": "code",
   "execution_count": 78,
   "id": "fc22f88e-e4e4-47d1-a91c-17b4115150ca",
   "metadata": {},
   "outputs": [
    {
     "data": {
      "text/plain": [
       "complex"
      ]
     },
     "execution_count": 78,
     "metadata": {},
     "output_type": "execute_result"
    }
   ],
   "source": [
    "type(c)"
   ]
  },
  {
   "cell_type": "code",
   "execution_count": 79,
   "id": "3137746a-096e-41a8-88c2-6c3b1c628dd8",
   "metadata": {},
   "outputs": [],
   "source": [
    "num =None "
   ]
  },
  {
   "cell_type": "code",
   "execution_count": 80,
   "id": "effe8a14-53bc-4ef6-a05c-41512d54636d",
   "metadata": {},
   "outputs": [
    {
     "data": {
      "text/plain": [
       "NoneType"
      ]
     },
     "execution_count": 80,
     "metadata": {},
     "output_type": "execute_result"
    }
   ],
   "source": [
    "type(num)"
   ]
  },
  {
   "cell_type": "markdown",
   "id": "89475692-2956-4c9b-9c6f-2c8b98d6e689",
   "metadata": {},
   "source": [
    "#### Type casting"
   ]
  },
  {
   "cell_type": "code",
   "execution_count": 81,
   "id": "52ac5734-d401-45c5-8260-0af4a0e137e0",
   "metadata": {},
   "outputs": [],
   "source": [
    "num1 =34\n",
    "num2=45.7"
   ]
  },
  {
   "cell_type": "code",
   "execution_count": 82,
   "id": "f9a3725e-2879-44ec-b395-bd6401c2c766",
   "metadata": {},
   "outputs": [],
   "source": [
    "add=num1+num2"
   ]
  },
  {
   "cell_type": "code",
   "execution_count": 83,
   "id": "d931af39-8f6d-44a9-9b3c-f7860b5efc43",
   "metadata": {},
   "outputs": [
    {
     "data": {
      "text/plain": [
       "79.7"
      ]
     },
     "execution_count": 83,
     "metadata": {},
     "output_type": "execute_result"
    }
   ],
   "source": [
    "add"
   ]
  },
  {
   "cell_type": "code",
   "execution_count": 84,
   "id": "aa2729f0-3ace-413c-9e73-106e39abf2a6",
   "metadata": {},
   "outputs": [
    {
     "data": {
      "text/plain": [
       "float"
      ]
     },
     "execution_count": 84,
     "metadata": {},
     "output_type": "execute_result"
    }
   ],
   "source": [
    "type(add)"
   ]
  },
  {
   "cell_type": "code",
   "execution_count": 85,
   "id": "ac93a330-e587-46c4-b3b1-f96059222be7",
   "metadata": {},
   "outputs": [],
   "source": [
    "add=num1+int(num2)"
   ]
  },
  {
   "cell_type": "code",
   "execution_count": 86,
   "id": "845e1ed0-db94-43b4-bb4b-59e4837da6db",
   "metadata": {},
   "outputs": [
    {
     "data": {
      "text/plain": [
       "79"
      ]
     },
     "execution_count": 86,
     "metadata": {},
     "output_type": "execute_result"
    }
   ],
   "source": [
    "add"
   ]
  },
  {
   "cell_type": "code",
   "execution_count": 87,
   "id": "9e585b0c-c6c9-4b5a-aea8-ce216e23d4d5",
   "metadata": {},
   "outputs": [],
   "source": [
    "n='123'"
   ]
  },
  {
   "cell_type": "code",
   "execution_count": 88,
   "id": "d78402df-3c75-4f4f-b3ed-cf7f3dc38134",
   "metadata": {},
   "outputs": [
    {
     "data": {
      "text/plain": [
       "str"
      ]
     },
     "execution_count": 88,
     "metadata": {},
     "output_type": "execute_result"
    }
   ],
   "source": [
    "type(n)"
   ]
  },
  {
   "cell_type": "code",
   "execution_count": 89,
   "id": "71be82d5-1f00-47aa-9aca-e071fdb36c1b",
   "metadata": {},
   "outputs": [
    {
     "data": {
      "text/plain": [
       "'123123123'"
      ]
     },
     "execution_count": 89,
     "metadata": {},
     "output_type": "execute_result"
    }
   ],
   "source": [
    "n* 3"
   ]
  },
  {
   "cell_type": "code",
   "execution_count": 90,
   "id": "92b7f9eb-a1a2-4a34-871f-8f67f1de0f39",
   "metadata": {},
   "outputs": [
    {
     "data": {
      "text/plain": [
       "369"
      ]
     },
     "execution_count": 90,
     "metadata": {},
     "output_type": "execute_result"
    }
   ],
   "source": [
    "int(n)*3"
   ]
  },
  {
   "cell_type": "code",
   "execution_count": 91,
   "id": "d7a875a4-0072-4931-af0e-21e2e35369a0",
   "metadata": {},
   "outputs": [],
   "source": [
    "name='shreyaa'\n",
    "marks=23.111\n"
   ]
  },
  {
   "cell_type": "code",
   "execution_count": 92,
   "id": "f22ece97-8e49-46ea-9104-39e081c31a44",
   "metadata": {},
   "outputs": [],
   "source": [
    "password=name + str(marks)"
   ]
  },
  {
   "cell_type": "code",
   "execution_count": 93,
   "id": "0ad291e4-fcdf-4e27-9cca-43ad9d727248",
   "metadata": {},
   "outputs": [
    {
     "data": {
      "text/plain": [
       "'shreyaa23.111'"
      ]
     },
     "execution_count": 93,
     "metadata": {},
     "output_type": "execute_result"
    }
   ],
   "source": [
    "password"
   ]
  },
  {
   "cell_type": "markdown",
   "id": "235bd8ff-f2f0-4e7a-9c74-157d2838b7b6",
   "metadata": {},
   "source": [
    "#### User Input"
   ]
  },
  {
   "cell_type": "code",
   "execution_count": 95,
   "id": "e9c0bb77-da0e-4e44-8db6-694ef0a41d05",
   "metadata": {},
   "outputs": [
    {
     "name": "stdin",
     "output_type": "stream",
     "text": [
      "Enter the number 23\n"
     ]
    },
    {
     "name": "stdout",
     "output_type": "stream",
     "text": [
      "your number is 23\n"
     ]
    }
   ],
   "source": [
    "num=input('Enter the number')\n",
    "print('your number is',num)"
   ]
  },
  {
   "cell_type": "code",
   "execution_count": 96,
   "id": "0d667a49-be96-4bac-8104-f0c984c67838",
   "metadata": {},
   "outputs": [
    {
     "data": {
      "text/plain": [
       "str"
      ]
     },
     "execution_count": 96,
     "metadata": {},
     "output_type": "execute_result"
    }
   ],
   "source": [
    "type(num)"
   ]
  },
  {
   "cell_type": "code",
   "execution_count": 97,
   "id": "80595203-abce-485d-a4ad-d90a0920057c",
   "metadata": {},
   "outputs": [
    {
     "name": "stdin",
     "output_type": "stream",
     "text": [
      "Enter the number: 9\n"
     ]
    },
    {
     "name": "stdout",
     "output_type": "stream",
     "text": [
      "Square of number is: 81\n"
     ]
    }
   ],
   "source": [
    "num=int(input('Enter the number:'))\n",
    "print('Square of number is:',num**2)"
   ]
  },
  {
   "cell_type": "code",
   "execution_count": null,
   "id": "577035cb-a66e-4a25-9fc8-fb13a2c34614",
   "metadata": {},
   "outputs": [],
   "source": []
  },
  {
   "cell_type": "code",
   "execution_count": null,
   "id": "8654a5e2-2bd4-4202-b68e-618c02501c68",
   "metadata": {},
   "outputs": [],
   "source": []
  }
 ],
 "metadata": {
  "kernelspec": {
   "display_name": "Python [conda env:base] *",
   "language": "python",
   "name": "conda-base-py"
  },
  "language_info": {
   "codemirror_mode": {
    "name": "ipython",
    "version": 3
   },
   "file_extension": ".py",
   "mimetype": "text/x-python",
   "name": "python",
   "nbconvert_exporter": "python",
   "pygments_lexer": "ipython3",
   "version": "3.12.7"
  }
 },
 "nbformat": 4,
 "nbformat_minor": 5
}
