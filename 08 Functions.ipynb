{
 "cells": [
  {
   "cell_type": "markdown",
   "id": "9db97951-4f09-4d0a-88a1-9c852315bfa7",
   "metadata": {},
   "source": [
    "##### Simple Function"
   ]
  },
  {
   "cell_type": "code",
   "execution_count": 2,
   "id": "b56d10b1-3794-44f2-bf12-404605666b8e",
   "metadata": {},
   "outputs": [],
   "source": [
    "# Function definition\n",
    "def display():\n",
    "    print('Hello world')"
   ]
  },
  {
   "cell_type": "code",
   "execution_count": 4,
   "id": "383ecf93-c375-4f80-8906-f41cb107c80d",
   "metadata": {},
   "outputs": [
    {
     "name": "stdout",
     "output_type": "stream",
     "text": [
      "Hello world\n"
     ]
    }
   ],
   "source": [
    "# Function call\n",
    "display()"
   ]
  },
  {
   "cell_type": "code",
   "execution_count": 5,
   "id": "bc84fbb9-3ba0-42de-b730-5b5195993b2f",
   "metadata": {},
   "outputs": [],
   "source": [
    "def display():\n",
    "    print('Hello world')\n",
    "    print('Welcome!')\n",
    "    print('Hi')\n",
    "    print('Byee')"
   ]
  },
  {
   "cell_type": "code",
   "execution_count": 6,
   "id": "c6741baa-510e-4fd1-b0ed-76b49aed41e6",
   "metadata": {},
   "outputs": [
    {
     "name": "stdout",
     "output_type": "stream",
     "text": [
      "Hello world\n",
      "Welcome!\n",
      "Hi\n",
      "Byee\n"
     ]
    }
   ],
   "source": [
    "display()"
   ]
  },
  {
   "cell_type": "code",
   "execution_count": 7,
   "id": "30c9eed6-afd4-44a4-9fc4-a0f4623f0896",
   "metadata": {},
   "outputs": [
    {
     "name": "stdout",
     "output_type": "stream",
     "text": [
      "Hello world\n",
      "Welcome!\n",
      "Hi\n",
      "Byee\n",
      "Hello world\n",
      "Welcome!\n",
      "Hi\n",
      "Byee\n",
      "Hello world\n",
      "Welcome!\n",
      "Hi\n",
      "Byee\n",
      "Hello world\n",
      "Welcome!\n",
      "Hi\n",
      "Byee\n"
     ]
    }
   ],
   "source": [
    "display()\n",
    "display()\n",
    "display()\n",
    "display()"
   ]
  },
  {
   "cell_type": "code",
   "execution_count": 10,
   "id": "411101bf-fd37-4e5f-8435-6b706eb6abf5",
   "metadata": {},
   "outputs": [],
   "source": [
    "# create and call the function \"Show\" to print \"hello<your name>\"\n",
    "def show():\n",
    "    print('Hello Shreya!')"
   ]
  },
  {
   "cell_type": "code",
   "execution_count": 11,
   "id": "f015593f-c3a2-4e10-a53a-ff469e1e7df3",
   "metadata": {},
   "outputs": [
    {
     "name": "stdout",
     "output_type": "stream",
     "text": [
      "Hello Shreya!\n"
     ]
    }
   ],
   "source": [
    "show()"
   ]
  },
  {
   "cell_type": "code",
   "execution_count": 17,
   "id": "beb3c223-ab00-4f00-8734-949b351da97e",
   "metadata": {},
   "outputs": [],
   "source": [
    "def show():\n",
    "    name=input('Enter your name:')\n",
    "    print('Hello',name,'!')"
   ]
  },
  {
   "cell_type": "code",
   "execution_count": 18,
   "id": "099e16c8-6e2d-4014-9b33-5c96231d8e80",
   "metadata": {},
   "outputs": [
    {
     "name": "stdin",
     "output_type": "stream",
     "text": [
      "Enter your name: sharuu\n"
     ]
    },
    {
     "name": "stdout",
     "output_type": "stream",
     "text": [
      "Hello sharuu !\n"
     ]
    }
   ],
   "source": [
    "show()"
   ]
  },
  {
   "cell_type": "markdown",
   "id": "50f0d862-c85e-4468-b5f7-dd3ae94903bd",
   "metadata": {},
   "source": [
    "##### Parameterized Function"
   ]
  },
  {
   "cell_type": "code",
   "execution_count": 22,
   "id": "99b70c03-ee25-4a47-b79e-f4cff16165d2",
   "metadata": {},
   "outputs": [],
   "source": [
    "def hello(name):\n",
    "    print('Hello',name)"
   ]
  },
  {
   "cell_type": "code",
   "execution_count": 23,
   "id": "afffdb7e-996b-4aff-b036-b825fdc915aa",
   "metadata": {},
   "outputs": [
    {
     "name": "stdout",
     "output_type": "stream",
     "text": [
      "Hello Shreyaa\n"
     ]
    }
   ],
   "source": [
    "hello('Shreyaa')"
   ]
  },
  {
   "cell_type": "code",
   "execution_count": 24,
   "id": "6346933a-6726-45c8-88a2-485fc5f38d11",
   "metadata": {},
   "outputs": [],
   "source": [
    "def mult(x , y):\n",
    "    result=x * y\n",
    "    print('Multiplication is :',result)"
   ]
  },
  {
   "cell_type": "code",
   "execution_count": 25,
   "id": "64165993-740a-4417-b083-677995bf32b6",
   "metadata": {},
   "outputs": [
    {
     "name": "stdout",
     "output_type": "stream",
     "text": [
      "Multiplication is : 8\n"
     ]
    }
   ],
   "source": [
    "mult(2 ,4 )"
   ]
  },
  {
   "cell_type": "code",
   "execution_count": 26,
   "id": "0d77b59c-2d80-476d-827f-bec144cd686c",
   "metadata": {},
   "outputs": [
    {
     "name": "stdin",
     "output_type": "stream",
     "text": [
      "Enter first number : 4\n",
      "Enter Second number : 5\n"
     ]
    },
    {
     "name": "stdout",
     "output_type": "stream",
     "text": [
      "Multiplication is : 20\n"
     ]
    }
   ],
   "source": [
    "num1= int(input('Enter first number :'))\n",
    "num2= int(input('Enter Second number :'))\n",
    "mult(num1,num2)"
   ]
  },
  {
   "cell_type": "code",
   "execution_count": 27,
   "id": "d17754ba-7e2e-4cbf-84dc-efe0aa7fa6ea",
   "metadata": {},
   "outputs": [
    {
     "name": "stdout",
     "output_type": "stream",
     "text": [
      "Multiplication is : hi hi hi hi \n"
     ]
    }
   ],
   "source": [
    "mult('hi ',4)"
   ]
  },
  {
   "cell_type": "code",
   "execution_count": 29,
   "id": "d2ad33d8-e24d-4cea-b992-dd34b7e970b0",
   "metadata": {},
   "outputs": [],
   "source": [
    "def larger(num1,num2):\n",
    "    if num1>num2:\n",
    "        print(num1,'is larger')\n",
    "    else:\n",
    "        print(num2,'is larger')"
   ]
  },
  {
   "cell_type": "code",
   "execution_count": 30,
   "id": "786caf4f-f1ab-4156-a5cf-ab0dd71a6cc8",
   "metadata": {},
   "outputs": [
    {
     "name": "stdout",
     "output_type": "stream",
     "text": [
      "78 is larger\n"
     ]
    }
   ],
   "source": [
    "larger(45,78)"
   ]
  },
  {
   "cell_type": "code",
   "execution_count": 31,
   "id": "5b942e5f-b91c-4765-b212-250479ecd2ed",
   "metadata": {},
   "outputs": [
    {
     "name": "stdin",
     "output_type": "stream",
     "text": [
      "Enter first number : 34\n",
      "Enter Second number : 67\n"
     ]
    },
    {
     "name": "stdout",
     "output_type": "stream",
     "text": [
      "67 is larger\n"
     ]
    }
   ],
   "source": [
    "num1= int(input('Enter first number :'))\n",
    "num2= int(input('Enter Second number :'))\n",
    "larger(num1,num2)"
   ]
  },
  {
   "cell_type": "code",
   "execution_count": 35,
   "id": "f5b02822-a98b-44bf-a695-75e7ae000ee1",
   "metadata": {},
   "outputs": [],
   "source": [
    "def equal(num1,num2):\n",
    "    if num1==num2:\n",
    "        print('Numbers are Equal')\n",
    "    else:\n",
    "        print('Numbers are not equal')"
   ]
  },
  {
   "cell_type": "code",
   "execution_count": 36,
   "id": "7113096b-85cb-4cb6-b654-8dee87a3791f",
   "metadata": {},
   "outputs": [
    {
     "name": "stdout",
     "output_type": "stream",
     "text": [
      "Numbers are not equal\n"
     ]
    }
   ],
   "source": [
    "equal(34,45)"
   ]
  },
  {
   "cell_type": "code",
   "execution_count": 37,
   "id": "c314e594-52d1-449c-b15d-6a0de84b32a4",
   "metadata": {},
   "outputs": [
    {
     "name": "stdout",
     "output_type": "stream",
     "text": [
      "Numbers are Equal\n"
     ]
    }
   ],
   "source": [
    "equal(45 , 45)"
   ]
  },
  {
   "cell_type": "code",
   "execution_count": 38,
   "id": "f1e843ba-9027-4a83-8f8d-6e12c6b27f61",
   "metadata": {},
   "outputs": [
    {
     "name": "stdin",
     "output_type": "stream",
     "text": [
      "Enter first number : 34\n",
      "Enter Second number : 34\n"
     ]
    },
    {
     "name": "stdout",
     "output_type": "stream",
     "text": [
      "Numbers are Equal\n"
     ]
    }
   ],
   "source": [
    "num1= int(input('Enter first number :'))\n",
    "num2= int(input('Enter Second number :'))\n",
    "equal(num1,num2)"
   ]
  },
  {
   "cell_type": "markdown",
   "id": "ca98d81a-3789-4cfc-9240-f259ec4d1ba0",
   "metadata": {},
   "source": [
    "##### Function returnning values"
   ]
  },
  {
   "cell_type": "code",
   "execution_count": 40,
   "id": "df7c4c1b-c71a-4224-96f8-0c056e67a96b",
   "metadata": {},
   "outputs": [],
   "source": [
    "def Square(num):\n",
    "    sq = num * num\n",
    "    return sq"
   ]
  },
  {
   "cell_type": "code",
   "execution_count": 42,
   "id": "6b43007c-107f-40a1-93d0-48524e06cd40",
   "metadata": {},
   "outputs": [
    {
     "data": {
      "text/plain": [
       "16"
      ]
     },
     "execution_count": 42,
     "metadata": {},
     "output_type": "execute_result"
    }
   ],
   "source": [
    "Square(4)"
   ]
  },
  {
   "cell_type": "code",
   "execution_count": 43,
   "id": "c78cdc94-4cf4-4db3-9820-f71e5d0104e2",
   "metadata": {},
   "outputs": [],
   "source": [
    "x = Square(5)"
   ]
  },
  {
   "cell_type": "code",
   "execution_count": 44,
   "id": "b20dd87a-f37f-4f53-b17e-caed53a9f197",
   "metadata": {},
   "outputs": [
    {
     "data": {
      "text/plain": [
       "25"
      ]
     },
     "execution_count": 44,
     "metadata": {},
     "output_type": "execute_result"
    }
   ],
   "source": [
    "x"
   ]
  },
  {
   "cell_type": "code",
   "execution_count": 46,
   "id": "283855c8-1f6d-41bc-8799-0cec638e27ce",
   "metadata": {},
   "outputs": [
    {
     "name": "stdin",
     "output_type": "stream",
     "text": [
      "Enter the number: 7\n"
     ]
    },
    {
     "name": "stdout",
     "output_type": "stream",
     "text": [
      "square is: 49\n"
     ]
    }
   ],
   "source": [
    "n=int(input('Enter the number:'))\n",
    "print('square is:',Square(n))"
   ]
  },
  {
   "cell_type": "code",
   "execution_count": 48,
   "id": "a36d2d52-23b9-4429-9a89-5525904a2523",
   "metadata": {},
   "outputs": [],
   "source": [
    "def larger(num1,num2):\n",
    "    if num1>num2:\n",
    "       return num1\n",
    "    else:\n",
    "        return num2"
   ]
  },
  {
   "cell_type": "code",
   "execution_count": 49,
   "id": "1d6976af-c148-4763-974f-58f3cfb40173",
   "metadata": {},
   "outputs": [
    {
     "data": {
      "text/plain": [
       "90"
      ]
     },
     "execution_count": 49,
     "metadata": {},
     "output_type": "execute_result"
    }
   ],
   "source": [
    "larger(87 , 90)"
   ]
  },
  {
   "cell_type": "code",
   "execution_count": 50,
   "id": "07684682-1ecc-4927-99a4-217eb30b65b9",
   "metadata": {},
   "outputs": [],
   "source": [
    "r =larger(87 , 90)"
   ]
  },
  {
   "cell_type": "code",
   "execution_count": 51,
   "id": "2cd8d3fe-cbca-4aae-a1c0-04ecaad94887",
   "metadata": {},
   "outputs": [
    {
     "data": {
      "text/plain": [
       "90"
      ]
     },
     "execution_count": 51,
     "metadata": {},
     "output_type": "execute_result"
    }
   ],
   "source": [
    "r"
   ]
  },
  {
   "cell_type": "code",
   "execution_count": 52,
   "id": "613655b3-ded2-4f6e-acbd-576f70268315",
   "metadata": {},
   "outputs": [],
   "source": [
    "def equal(num1,num2):\n",
    "    if num1==num2:\n",
    "        return True\n",
    "    else:\n",
    "        return False"
   ]
  },
  {
   "cell_type": "code",
   "execution_count": 53,
   "id": "d8e6247d-6633-4170-a606-1ddbd461e66c",
   "metadata": {},
   "outputs": [
    {
     "data": {
      "text/plain": [
       "False"
      ]
     },
     "execution_count": 53,
     "metadata": {},
     "output_type": "execute_result"
    }
   ],
   "source": [
    "equal(23 , 45)"
   ]
  },
  {
   "cell_type": "code",
   "execution_count": 54,
   "id": "22d9ae37-b053-4f49-9641-7027f41b9cca",
   "metadata": {},
   "outputs": [
    {
     "data": {
      "text/plain": [
       "True"
      ]
     },
     "execution_count": 54,
     "metadata": {},
     "output_type": "execute_result"
    }
   ],
   "source": [
    "equal(23 , 23)"
   ]
  },
  {
   "cell_type": "markdown",
   "id": "72559ae8-56c2-48a4-95ac-af151014a2dc",
   "metadata": {},
   "source": [
    "##### Function can return multiple values also"
   ]
  },
  {
   "cell_type": "code",
   "execution_count": 60,
   "id": "bd564486-78fd-4e16-837b-8f75e9adb763",
   "metadata": {},
   "outputs": [],
   "source": [
    "def calc(n):\n",
    "    sq= n ** 2\n",
    "    cu=n ** 3\n",
    "    return sq,cu"
   ]
  },
  {
   "cell_type": "code",
   "execution_count": 61,
   "id": "d5ed6a07-5081-4f3a-bcfe-1a94b2b596ae",
   "metadata": {},
   "outputs": [],
   "source": [
    "x , y=calc(4)"
   ]
  },
  {
   "cell_type": "code",
   "execution_count": 62,
   "id": "778baa6a-a602-49c0-aab1-ca574e10c408",
   "metadata": {},
   "outputs": [
    {
     "data": {
      "text/plain": [
       "16"
      ]
     },
     "execution_count": 62,
     "metadata": {},
     "output_type": "execute_result"
    }
   ],
   "source": [
    "x"
   ]
  },
  {
   "cell_type": "code",
   "execution_count": 63,
   "id": "bb10d131-7b6a-4802-a37f-871d2f85c8ea",
   "metadata": {},
   "outputs": [
    {
     "data": {
      "text/plain": [
       "64"
      ]
     },
     "execution_count": 63,
     "metadata": {},
     "output_type": "execute_result"
    }
   ],
   "source": [
    "y"
   ]
  },
  {
   "cell_type": "code",
   "execution_count": 64,
   "id": "79212f9b-160f-4d6f-a6cb-bdce5185f7c4",
   "metadata": {},
   "outputs": [
    {
     "name": "stdin",
     "output_type": "stream",
     "text": [
      "Enter the Number: 4\n"
     ]
    },
    {
     "name": "stdout",
     "output_type": "stream",
     "text": [
      "Square and Cube is : (16, 64)\n"
     ]
    }
   ],
   "source": [
    "n=int(input('Enter the Number:'))\n",
    "print('Square and Cube is :',calc(n))"
   ]
  },
  {
   "cell_type": "code",
   "execution_count": 69,
   "id": "d8fe9400-6ed3-49c4-8721-99af4e6e6350",
   "metadata": {},
   "outputs": [],
   "source": [
    "num=[23,45,76,12,65,87,90]\n",
    "def minMaxSum(num):\n",
    "    return min(num),max(num),sum(num)\n",
    "\n"
   ]
  },
  {
   "cell_type": "code",
   "execution_count": 70,
   "id": "f096a322-e23f-4661-b01f-e6f0f19f8e8a",
   "metadata": {},
   "outputs": [
    {
     "data": {
      "text/plain": [
       "(12, 90, 398)"
      ]
     },
     "execution_count": 70,
     "metadata": {},
     "output_type": "execute_result"
    }
   ],
   "source": [
    "minMaxSum(num)"
   ]
  },
  {
   "cell_type": "markdown",
   "id": "bcabb772-1753-4592-ac7a-fef500287958",
   "metadata": {},
   "source": [
    "##### Recursion"
   ]
  },
  {
   "cell_type": "code",
   "execution_count": 1,
   "id": "072a8a51-a3e2-4c28-b4a8-9dd85e5d1c2d",
   "metadata": {},
   "outputs": [],
   "source": [
    "def factorial(n):\n",
    "    fact=1\n",
    "    for i in range(1,n+1):\n",
    "        fact = fact * i\n",
    "    return fact"
   ]
  },
  {
   "cell_type": "code",
   "execution_count": 2,
   "id": "33a44db5-4998-4769-98ad-1d1b8a409389",
   "metadata": {},
   "outputs": [
    {
     "data": {
      "text/plain": [
       "120"
      ]
     },
     "execution_count": 2,
     "metadata": {},
     "output_type": "execute_result"
    }
   ],
   "source": [
    "factorial(5)"
   ]
  },
  {
   "cell_type": "code",
   "execution_count": 3,
   "id": "e520d50b-e778-49b5-8ac8-b0a00080cba3",
   "metadata": {},
   "outputs": [],
   "source": [
    "# Recursive function\n",
    "def factorial(n):\n",
    "    if n<=1:\n",
    "        return 1\n",
    "    else:\n",
    "        return n * factorial(n-1)"
   ]
  },
  {
   "cell_type": "code",
   "execution_count": 4,
   "id": "8f4bdafb-4544-495a-853f-7abb079bebb1",
   "metadata": {},
   "outputs": [
    {
     "data": {
      "text/plain": [
       "25852016738884976640000"
      ]
     },
     "execution_count": 4,
     "metadata": {},
     "output_type": "execute_result"
    }
   ],
   "source": [
    "factorial(23)"
   ]
  },
  {
   "cell_type": "markdown",
   "id": "cdb6b1bf-4759-4d66-8c08-d56e9ba6486a",
   "metadata": {},
   "source": [
    "##### Variable length Arguments"
   ]
  },
  {
   "cell_type": "code",
   "execution_count": 8,
   "id": "607b455e-cf20-4e67-8433-3679edc1b74b",
   "metadata": {},
   "outputs": [],
   "source": [
    "def show(*args):\n",
    "    for i in args:\n",
    "        print(i)"
   ]
  },
  {
   "cell_type": "code",
   "execution_count": 9,
   "id": "8c34497c-31e2-4bfe-9161-727c9c1e1c87",
   "metadata": {},
   "outputs": [
    {
     "name": "stdout",
     "output_type": "stream",
     "text": [
      "1\n",
      "2\n",
      "3\n",
      "4\n",
      "5\n",
      "6\n",
      "7\n",
      "8\n",
      "9\n"
     ]
    }
   ],
   "source": [
    "show(1,2,3,4,5,6,7,8,9)"
   ]
  },
  {
   "cell_type": "code",
   "execution_count": 10,
   "id": "ea97437b-5eee-4efe-9a9b-3226a8de0a41",
   "metadata": {},
   "outputs": [
    {
     "name": "stdout",
     "output_type": "stream",
     "text": [
      "shreyaa\n",
      "a\n",
      "23.0\n",
      "67\n"
     ]
    }
   ],
   "source": [
    "show('shreyaa','a',23.00,67)"
   ]
  },
  {
   "cell_type": "code",
   "execution_count": 11,
   "id": "702ffb01-07bc-4d82-88fb-10b40d7633d1",
   "metadata": {},
   "outputs": [],
   "source": [
    "def add(*args):\n",
    "    a=0\n",
    "    for i in args:\n",
    "        a += i\n",
    "\n",
    "    return a"
   ]
  },
  {
   "cell_type": "code",
   "execution_count": 12,
   "id": "c20bcf2d-e75f-4070-baf2-26c486fa8a30",
   "metadata": {},
   "outputs": [
    {
     "data": {
      "text/plain": [
       "45"
      ]
     },
     "execution_count": 12,
     "metadata": {},
     "output_type": "execute_result"
    }
   ],
   "source": [
    "add(1,2,3,4,5,6,7,8,9)"
   ]
  },
  {
   "cell_type": "markdown",
   "id": "820424f0-93dc-4112-a082-7701ac357ab1",
   "metadata": {},
   "source": [
    "##### lambda function"
   ]
  },
  {
   "cell_type": "code",
   "execution_count": 14,
   "id": "0fef0440-bad7-42f4-b444-305cd7dbfe70",
   "metadata": {},
   "outputs": [],
   "source": [
    "square= lambda x:x**2"
   ]
  },
  {
   "cell_type": "code",
   "execution_count": 15,
   "id": "22a22327-aea1-4b3c-9c30-cf30726a9637",
   "metadata": {},
   "outputs": [
    {
     "data": {
      "text/plain": [
       "9"
      ]
     },
     "execution_count": 15,
     "metadata": {},
     "output_type": "execute_result"
    }
   ],
   "source": [
    "square(3)"
   ]
  },
  {
   "cell_type": "markdown",
   "id": "ac793a65-deb5-4cb6-beac-e9cf8db84203",
   "metadata": {},
   "source": [
    "##### filter functon"
   ]
  },
  {
   "cell_type": "code",
   "execution_count": 17,
   "id": "ec72fca3-46d4-4883-9694-d5e3cde3460b",
   "metadata": {},
   "outputs": [],
   "source": [
    "seq =[12,34,56,43,78,98,12,67]\n"
   ]
  },
  {
   "cell_type": "code",
   "execution_count": 18,
   "id": "4d4290bc-26d3-468a-96ca-760636acf782",
   "metadata": {},
   "outputs": [],
   "source": [
    "new =list(filter(lambda x:x>40,seq))"
   ]
  },
  {
   "cell_type": "code",
   "execution_count": 19,
   "id": "f03a9dcb-6a64-45df-b74c-5ced72a6b90c",
   "metadata": {},
   "outputs": [
    {
     "data": {
      "text/plain": [
       "[56, 43, 78, 98, 67]"
      ]
     },
     "execution_count": 19,
     "metadata": {},
     "output_type": "execute_result"
    }
   ],
   "source": [
    "new"
   ]
  },
  {
   "cell_type": "code",
   "execution_count": 20,
   "id": "257ded49-c49b-41e7-86d9-89c0fe74155d",
   "metadata": {},
   "outputs": [],
   "source": [
    "new=list(filter(lambda x:x%2==1,seq))"
   ]
  },
  {
   "cell_type": "code",
   "execution_count": 21,
   "id": "a16f9784-f2a4-43f9-b691-411e28aa083a",
   "metadata": {},
   "outputs": [
    {
     "data": {
      "text/plain": [
       "[43, 67]"
      ]
     },
     "execution_count": 21,
     "metadata": {},
     "output_type": "execute_result"
    }
   ],
   "source": [
    "new\n"
   ]
  },
  {
   "cell_type": "code",
   "execution_count": 22,
   "id": "9406e78a-61f9-4c06-bf3e-671c49129413",
   "metadata": {},
   "outputs": [],
   "source": [
    "new=list(filter(lambda x:x%2==0,seq))"
   ]
  },
  {
   "cell_type": "code",
   "execution_count": 23,
   "id": "f1c7e6e5-5e1c-43dd-a02d-13ecf3ab39df",
   "metadata": {},
   "outputs": [
    {
     "data": {
      "text/plain": [
       "[12, 34, 56, 78, 98, 12]"
      ]
     },
     "execution_count": 23,
     "metadata": {},
     "output_type": "execute_result"
    }
   ],
   "source": [
    "new"
   ]
  },
  {
   "cell_type": "markdown",
   "id": "c67d2e8f-00ef-4224-9945-7a13b771ac40",
   "metadata": {},
   "source": [
    "##### Map function"
   ]
  },
  {
   "cell_type": "code",
   "execution_count": 25,
   "id": "9ada4b12-3ed5-4c88-8081-e42750c7a44f",
   "metadata": {},
   "outputs": [
    {
     "data": {
      "text/plain": [
       "[12, 34, 56, 43, 78, 98, 12, 67]"
      ]
     },
     "execution_count": 25,
     "metadata": {},
     "output_type": "execute_result"
    }
   ],
   "source": [
    "seq"
   ]
  },
  {
   "cell_type": "code",
   "execution_count": 26,
   "id": "76040893-e420-49de-8e30-1afcce5066b2",
   "metadata": {},
   "outputs": [],
   "source": [
    "new=list(map(lambda x:x/2,seq))"
   ]
  },
  {
   "cell_type": "code",
   "execution_count": 27,
   "id": "44ef9348-1d49-4e77-9f06-a51cdba217e9",
   "metadata": {},
   "outputs": [
    {
     "data": {
      "text/plain": [
       "[6.0, 17.0, 28.0, 21.5, 39.0, 49.0, 6.0, 33.5]"
      ]
     },
     "execution_count": 27,
     "metadata": {},
     "output_type": "execute_result"
    }
   ],
   "source": [
    "new"
   ]
  },
  {
   "cell_type": "code",
   "execution_count": 28,
   "id": "fa293277-01fd-44fb-8fa0-0bd11973a1de",
   "metadata": {},
   "outputs": [],
   "source": [
    "new=list(map(lambda x:x**2,seq))"
   ]
  },
  {
   "cell_type": "code",
   "execution_count": 29,
   "id": "83e1e4a6-2963-4587-8a95-4392853e50e6",
   "metadata": {},
   "outputs": [
    {
     "data": {
      "text/plain": [
       "[144, 1156, 3136, 1849, 6084, 9604, 144, 4489]"
      ]
     },
     "execution_count": 29,
     "metadata": {},
     "output_type": "execute_result"
    }
   ],
   "source": [
    "new"
   ]
  },
  {
   "cell_type": "markdown",
   "id": "f7ba6ccb-5efc-4ba7-9e77-ff756ca4a2de",
   "metadata": {},
   "source": [
    "##### Reduce function"
   ]
  },
  {
   "cell_type": "code",
   "execution_count": 31,
   "id": "50e81d9b-1554-446a-ae68-a49003fef7d9",
   "metadata": {},
   "outputs": [],
   "source": [
    "from functools import reduce"
   ]
  },
  {
   "cell_type": "code",
   "execution_count": 32,
   "id": "1768bf48-5ff4-4940-b81f-dcf7fcf29ce3",
   "metadata": {},
   "outputs": [],
   "source": [
    "seq=[23,12,3,6,7]"
   ]
  },
  {
   "cell_type": "code",
   "execution_count": 33,
   "id": "5d4cb67c-1d3a-4ddd-b496-a281169a4f73",
   "metadata": {},
   "outputs": [],
   "source": [
    "multiply=reduce(lambda a,b:a*b,seq)"
   ]
  },
  {
   "cell_type": "code",
   "execution_count": 34,
   "id": "e79be5fd-acef-4173-937a-eee8c4d674e2",
   "metadata": {},
   "outputs": [
    {
     "data": {
      "text/plain": [
       "34776"
      ]
     },
     "execution_count": 34,
     "metadata": {},
     "output_type": "execute_result"
    }
   ],
   "source": [
    "multiply"
   ]
  },
  {
   "cell_type": "code",
   "execution_count": null,
   "id": "718b6dac-de1d-4829-a4ff-9af3a28522f2",
   "metadata": {},
   "outputs": [],
   "source": []
  }
 ],
 "metadata": {
  "kernelspec": {
   "display_name": "Python [conda env:base] *",
   "language": "python",
   "name": "conda-base-py"
  },
  "language_info": {
   "codemirror_mode": {
    "name": "ipython",
    "version": 3
   },
   "file_extension": ".py",
   "mimetype": "text/x-python",
   "name": "python",
   "nbconvert_exporter": "python",
   "pygments_lexer": "ipython3",
   "version": "3.12.7"
  }
 },
 "nbformat": 4,
 "nbformat_minor": 5
}
