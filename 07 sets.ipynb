{
 "cells": [
  {
   "cell_type": "code",
   "execution_count": 5,
   "id": "f5028115-25c7-4abf-8c09-eb5730dcabce",
   "metadata": {},
   "outputs": [],
   "source": [
    "s={12,23,45,65,87,98,95,23,45,76,87,24,21,67,23,12,76,48,67,34,51}"
   ]
  },
  {
   "cell_type": "code",
   "execution_count": 6,
   "id": "4e77b231-b2bb-42bd-a86b-d1669c4b9cff",
   "metadata": {},
   "outputs": [
    {
     "data": {
      "text/plain": [
       "{12, 21, 23, 24, 34, 45, 48, 51, 65, 67, 76, 87, 95, 98}"
      ]
     },
     "execution_count": 6,
     "metadata": {},
     "output_type": "execute_result"
    }
   ],
   "source": [
    "s"
   ]
  },
  {
   "cell_type": "code",
   "execution_count": 7,
   "id": "28d260f2-f1db-41ac-a627-7b4330d7b257",
   "metadata": {},
   "outputs": [
    {
     "data": {
      "text/plain": [
       "set"
      ]
     },
     "execution_count": 7,
     "metadata": {},
     "output_type": "execute_result"
    }
   ],
   "source": [
    "type(s)"
   ]
  },
  {
   "cell_type": "code",
   "execution_count": 8,
   "id": "d945f3fa-9d67-4cf3-a941-c4ba0462cb23",
   "metadata": {},
   "outputs": [
    {
     "data": {
      "text/plain": [
       "14"
      ]
     },
     "execution_count": 8,
     "metadata": {},
     "output_type": "execute_result"
    }
   ],
   "source": [
    "len(s)"
   ]
  },
  {
   "cell_type": "code",
   "execution_count": 9,
   "id": "992f5e6a-9634-4778-8d5f-8e40eecdd856",
   "metadata": {},
   "outputs": [],
   "source": [
    "s.add(10)"
   ]
  },
  {
   "cell_type": "code",
   "execution_count": 10,
   "id": "5fcf8857-ebc7-4c11-95cf-a739d486d917",
   "metadata": {},
   "outputs": [
    {
     "data": {
      "text/plain": [
       "{10, 12, 21, 23, 24, 34, 45, 48, 51, 65, 67, 76, 87, 95, 98}"
      ]
     },
     "execution_count": 10,
     "metadata": {},
     "output_type": "execute_result"
    }
   ],
   "source": [
    "s"
   ]
  },
  {
   "cell_type": "code",
   "execution_count": 11,
   "id": "a9eaf95e-5c26-47f0-a2e3-bde7af6a7181",
   "metadata": {},
   "outputs": [],
   "source": [
    "s.add(67)"
   ]
  },
  {
   "cell_type": "code",
   "execution_count": 12,
   "id": "33f8ba74-b7df-4ebe-9d18-f0af0ed35b8c",
   "metadata": {},
   "outputs": [
    {
     "data": {
      "text/plain": [
       "{10, 12, 21, 23, 24, 34, 45, 48, 51, 65, 67, 76, 87, 95, 98}"
      ]
     },
     "execution_count": 12,
     "metadata": {},
     "output_type": "execute_result"
    }
   ],
   "source": [
    "s\n"
   ]
  },
  {
   "cell_type": "code",
   "execution_count": null,
   "id": "79cbc1d0-5a36-440e-aae1-e4062b362bdb",
   "metadata": {},
   "outputs": [],
   "source": []
  }
 ],
 "metadata": {
  "kernelspec": {
   "display_name": "Python [conda env:base] *",
   "language": "python",
   "name": "conda-base-py"
  },
  "language_info": {
   "codemirror_mode": {
    "name": "ipython",
    "version": 3
   },
   "file_extension": ".py",
   "mimetype": "text/x-python",
   "name": "python",
   "nbconvert_exporter": "python",
   "pygments_lexer": "ipython3",
   "version": "3.12.7"
  }
 },
 "nbformat": 4,
 "nbformat_minor": 5
}
