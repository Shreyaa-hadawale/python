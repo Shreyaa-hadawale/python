{
 "cells": [
  {
   "cell_type": "markdown",
   "id": "6ca4cfd7-0595-41f9-b4da-0636e351dbed",
   "metadata": {},
   "source": [
    "##### if Statement"
   ]
  },
  {
   "cell_type": "code",
   "execution_count": 2,
   "id": "8e9a0a11-f22b-4e3c-826e-a1b3160cc510",
   "metadata": {},
   "outputs": [],
   "source": [
    "num =24\n",
    "if num>100:\n",
    "    print('yes')\n",
    "    "
   ]
  },
  {
   "cell_type": "code",
   "execution_count": 3,
   "id": "5e365657-1263-45e3-8e2d-fa2e1e1a202f",
   "metadata": {},
   "outputs": [
    {
     "name": "stdout",
     "output_type": "stream",
     "text": [
      "yes\n"
     ]
    }
   ],
   "source": [
    "num =124\n",
    "if num>100:\n",
    "    print('yes')\n",
    "    "
   ]
  },
  {
   "cell_type": "code",
   "execution_count": 4,
   "id": "24de512c-856e-444e-b46a-ec4f085e87eb",
   "metadata": {},
   "outputs": [
    {
     "name": "stdout",
     "output_type": "stream",
     "text": [
      "Good Bye!\n"
     ]
    }
   ],
   "source": [
    "num =24\n",
    "if num>100:\n",
    "    print('yes')\n",
    "print('Good Bye!')"
   ]
  },
  {
   "cell_type": "code",
   "execution_count": 5,
   "id": "b53345a9-02eb-491c-bebf-463f5e7a03c8",
   "metadata": {},
   "outputs": [
    {
     "name": "stdout",
     "output_type": "stream",
     "text": [
      "yes\n",
      "Good Bye!\n"
     ]
    }
   ],
   "source": [
    "num =124\n",
    "if num>100:\n",
    "    print('yes')\n",
    "print('Good Bye!')"
   ]
  },
  {
   "cell_type": "code",
   "execution_count": 6,
   "id": "80ccee9e-5a13-44ea-b69b-2c7ded3ee9b5",
   "metadata": {},
   "outputs": [
    {
     "name": "stdin",
     "output_type": "stream",
     "text": [
      "Enter the Number 78\n"
     ]
    },
    {
     "name": "stdout",
     "output_type": "stream",
     "text": [
      "Positive Number\n"
     ]
    }
   ],
   "source": [
    "# write a pgm to check number is positive or negative\n",
    "num = int(input('Enter the Number'))\n",
    "if num>0:\n",
    "    print('Positive Number')\n",
    "else:\n",
    "    print('Negative Number')"
   ]
  },
  {
   "cell_type": "code",
   "execution_count": 6,
   "id": "5c79604b-483f-4400-a60d-c8b28ffa34a1",
   "metadata": {},
   "outputs": [
    {
     "name": "stdin",
     "output_type": "stream",
     "text": [
      "Enter the Number 78\n"
     ]
    },
    {
     "name": "stdout",
     "output_type": "stream",
     "text": [
      "Positive Number\n"
     ]
    }
   ],
   "source": [
    "# write a pgm to check number is positive or negative\n",
    "num = int(input('Enter the Number'))\n",
    "if num>0:\n",
    "    print('Positive Number')\n",
    "else:\n",
    "    print('Negative Number')"
   ]
  },
  {
   "cell_type": "code",
   "execution_count": 8,
   "id": "c40cf294-9189-4c40-af5c-bb43be7f8576",
   "metadata": {},
   "outputs": [
    {
     "name": "stdin",
     "output_type": "stream",
     "text": [
      "Enter the Number 23\n"
     ]
    },
    {
     "name": "stdout",
     "output_type": "stream",
     "text": [
      "Positive Number\n",
      "Welcome!\n",
      "Done!\n"
     ]
    }
   ],
   "source": [
    "# write a pgm to check number is positive or negative\n",
    "num = int(input('Enter the Number'))\n",
    "if num>0:\n",
    "    print('Positive Number')\n",
    "    print('Welcome!')\n",
    "else:\n",
    "    print('Negative Number')\n",
    "    print('Good Bye!')\n",
    "print('Done!')"
   ]
  },
  {
   "cell_type": "code",
   "execution_count": 12,
   "id": "4623ada4-56d9-4607-87e0-81bf19a68b4d",
   "metadata": {},
   "outputs": [
    {
     "name": "stdin",
     "output_type": "stream",
     "text": [
      "Enter the Number 0\n"
     ]
    },
    {
     "name": "stdout",
     "output_type": "stream",
     "text": [
      "Even Number\n"
     ]
    }
   ],
   "source": [
    "# read the number from user and write a pgm to check number is odd or even?\n",
    "num = int(input('Enter the Number'))\n",
    "if num%2==0:\n",
    "    print('Even Number')\n",
    "else:\n",
    "    print('Odd Number')"
   ]
  },
  {
   "cell_type": "code",
   "execution_count": 14,
   "id": "88b006df-0095-485d-945e-938aeeee4740",
   "metadata": {},
   "outputs": [
    {
     "name": "stdin",
     "output_type": "stream",
     "text": [
      "Enter the Number 0\n"
     ]
    },
    {
     "name": "stdout",
     "output_type": "stream",
     "text": [
      "It is Zero\n"
     ]
    }
   ],
   "source": [
    "num = int(input('Enter the Number'))\n",
    "if num>0:                       #Compulsory , Condition ,Non-repeatable\n",
    "    print('Positive Number')\n",
    "elif num==0:                    #Optional ,Condition ,Repeatable\n",
    "    print('It is Zero')\n",
    "else:                           #Optional ,No-Condition ,Non-repeatable\n",
    "    print('Negative Number')"
   ]
  },
  {
   "cell_type": "markdown",
   "id": "55e9465e-f233-49b2-9a44-fa06dc8d2ca5",
   "metadata": {},
   "source": [
    "##### Nested If"
   ]
  },
  {
   "cell_type": "code",
   "execution_count": 16,
   "id": "b341de99-eee7-44bb-9a51-9ea58903ab2c",
   "metadata": {},
   "outputs": [
    {
     "name": "stdin",
     "output_type": "stream",
     "text": [
      "Enter the number 87\n"
     ]
    },
    {
     "name": "stdout",
     "output_type": "stream",
     "text": [
      "YES\n"
     ]
    }
   ],
   "source": [
    "#check to see if the number within 50 to 100\n",
    "num=int(input('Enter the number'))\n",
    "if num>=50:\n",
    "    if num<=100:\n",
    "        print('YES')\n",
    "    else:\n",
    "        print('NO')\n",
    "else:\n",
    "    print('NO')"
   ]
  },
  {
   "cell_type": "code",
   "execution_count": 17,
   "id": "a4d0f589-ddd5-4ea5-8aa0-6f22c975a74b",
   "metadata": {},
   "outputs": [
    {
     "name": "stdin",
     "output_type": "stream",
     "text": [
      "Enter first number 67\n",
      "Enter second number 64\n"
     ]
    },
    {
     "name": "stdout",
     "output_type": "stream",
     "text": [
      "num1 is Larger\n"
     ]
    }
   ],
   "source": [
    "#read two number from user and find which is larger (or equal)?\n",
    "num1=int(input('Enter first number'))\n",
    "num2=int(input('Enter second number'))\n",
    "if num1>num2:\n",
    "    print('num1 is Larger')\n",
    "elif num1<num2:\n",
    "    print('num2 is larger')\n",
    "else:\n",
    "    print('both number are equal')\n",
    "\n"
   ]
  },
  {
   "cell_type": "code",
   "execution_count": 28,
   "id": "be4f5dc3-a81b-4749-aff0-c645c7639d3e",
   "metadata": {},
   "outputs": [
    {
     "name": "stdin",
     "output_type": "stream",
     "text": [
      "Enter first number 23\n",
      "Enter second number 34\n",
      "Enter third number 12\n"
     ]
    },
    {
     "name": "stdout",
     "output_type": "stream",
     "text": [
      "34 is larger\n"
     ]
    }
   ],
   "source": [
    "num1=int(input('Enter first number'))\n",
    "num2=int(input('Enter second number'))\n",
    "num3=int(input('Enter third number'))\n",
    "if num1>num2:\n",
    "    if num1>num3:\n",
    "        print(num1,'is larger')\n",
    "    else:\n",
    "        print(num3,'is larger')\n",
    "elif num2>num1:\n",
    "    if num2>num3:\n",
    "        print(num2,'is larger')\n",
    "    else:\n",
    "        print(num3,'is larger')\n"
   ]
  },
  {
   "cell_type": "code",
   "execution_count": 31,
   "id": "c9f627a3-cd69-44f8-ba49-64f24a0d4e00",
   "metadata": {},
   "outputs": [
    {
     "name": "stdin",
     "output_type": "stream",
     "text": [
      "Enter first number 23\n",
      "Enter second number 45\n",
      "Enter third number 34\n"
     ]
    },
    {
     "name": "stdout",
     "output_type": "stream",
     "text": [
      "largest number is 45\n"
     ]
    }
   ],
   "source": [
    "num1=int(input('Enter first number'))\n",
    "num2=int(input('Enter second number'))\n",
    "num3=int(input('Enter third number'))\n",
    "if num1>num2 and num1>num3:\n",
    "    print('largest number is',num1)\n",
    "elif num2>num3 and num2 >num1:\n",
    "    print('largest number is',num2)\n",
    "else:\n",
    "    print('largest number is ',num3)"
   ]
  },
  {
   "cell_type": "code",
   "execution_count": 34,
   "id": "98c0e198-e02f-46ab-8f7d-7e0cb91212a2",
   "metadata": {},
   "outputs": [
    {
     "name": "stdin",
     "output_type": "stream",
     "text": [
      "Enter the year 2024\n"
     ]
    },
    {
     "name": "stdout",
     "output_type": "stream",
     "text": [
      "2024 leap year\n"
     ]
    }
   ],
   "source": [
    "year=int(input('Enter the year'))\n",
    "if year%4==0:\n",
    "    print(year,'leap year')\n",
    "\n",
    "else:\n",
    "    print(year,'Not a leap year')\n",
    "    "
   ]
  },
  {
   "cell_type": "code",
   "execution_count": 47,
   "id": "45ecb69b-9dff-495b-abfb-2f47a16ff1fc",
   "metadata": {},
   "outputs": [
    {
     "name": "stdin",
     "output_type": "stream",
     "text": [
      "Enter marks of student 89\n"
     ]
    },
    {
     "name": "stdout",
     "output_type": "stream",
     "text": [
      "Distinction\n"
     ]
    }
   ],
   "source": [
    "percentage=float(input('Enter marks of student'))\n",
    "if percentage>=75:\n",
    "    print('Distinction')\n",
    "elif percentage<75 and percentage>=60:\n",
    "    print('First class')\n",
    "elif percentage<60 and percentage>=50:\n",
    "    print('Second class')\n",
    "elif percentage<50 and percentage>=40:\n",
    "    print('Pass class')\n",
    "else:\n",
    "    print('Failed')"
   ]
  },
  {
   "cell_type": "code",
   "execution_count": 50,
   "id": "0134c772-5ad1-41ad-b3fe-a8d927e2f599",
   "metadata": {},
   "outputs": [
    {
     "name": "stdin",
     "output_type": "stream",
     "text": [
      "Enter marks of student 89\n"
     ]
    },
    {
     "name": "stdout",
     "output_type": "stream",
     "text": [
      "Distinction\n"
     ]
    }
   ],
   "source": [
    "percentage=float(input('Enter marks of student'))\n",
    "if percentage<40:\n",
    "    print('Failed')\n",
    "elif  percentage<50:\n",
    "    print('pass class')\n",
    "elif percentage<60:\n",
    "    print('Second class')\n",
    "elif percentage<75:\n",
    "    print('first class')\n",
    "else:\n",
    "    print('Distinction')"
   ]
  },
  {
   "cell_type": "code",
   "execution_count": 58,
   "id": "0a581ce9-a0fb-4f2e-9817-12640cd00e2a",
   "metadata": {},
   "outputs": [
    {
     "name": "stdout",
     "output_type": "stream",
     "text": [
      "1.Find its Square root\n",
      "2.Find its cube\n",
      "3.check even or odd\n",
      "4.check positive or negative\n"
     ]
    },
    {
     "name": "stdin",
     "output_type": "stream",
     "text": [
      "Enter the choice between 1 to 4 8\n",
      "Enter the Number 6\n"
     ]
    },
    {
     "name": "stdout",
     "output_type": "stream",
     "text": [
      "Exit...\n"
     ]
    }
   ],
   "source": [
    "print('1.Find its Square root')\n",
    "print('2.Find its cube')\n",
    "print('3.check even or odd')\n",
    "print('4.check positive or negative')\n",
    "choice=int(input('Enter the choice between 1 to 4'))\n",
    "num=int(input('Enter the Number'))\n",
    "if choice==1:\n",
    "    print(num*num)\n",
    "elif choice==2:\n",
    "    print(num*num*num)\n",
    "elif choice==3:\n",
    "    if num%2==0:\n",
    "        print(num,'is even')\n",
    "    else:\n",
    "        print(num,'is odd')\n",
    "elif choice==4:\n",
    "    if num>0:\n",
    "        print(num,'is positive')\n",
    "    elif num==0:\n",
    "        print(num,'is zero')\n",
    "    else:\n",
    "        print(num,'is negative')\n",
    "else:\n",
    "    print('Exit...')\n",
    "\n",
    "\n",
    "    \n"
   ]
  },
  {
   "cell_type": "markdown",
   "id": "1ae9aa0b-2fe0-4e21-bdad-7d5eb10359e3",
   "metadata": {},
   "source": []
  }
 ],
 "metadata": {
  "kernelspec": {
   "display_name": "Python [conda env:base] *",
   "language": "python",
   "name": "conda-base-py"
  },
  "language_info": {
   "codemirror_mode": {
    "name": "ipython",
    "version": 3
   },
   "file_extension": ".py",
   "mimetype": "text/x-python",
   "name": "python",
   "nbconvert_exporter": "python",
   "pygments_lexer": "ipython3",
   "version": "3.12.7"
  }
 },
 "nbformat": 4,
 "nbformat_minor": 5
}
