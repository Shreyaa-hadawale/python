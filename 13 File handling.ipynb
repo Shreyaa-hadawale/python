{
 "cells": [
  {
   "cell_type": "markdown",
   "id": "33a1f0c2-d43a-49fc-a6d6-d1a9df950c95",
   "metadata": {},
   "source": [
    "File is a named location disk to store related information.it is used to permentaly store data in a non volatile memory(e.g.hard disk)"
   ]
  },
  {
   "cell_type": "markdown",
   "id": "2587fc31-157c-44c1-8198-4f2ee1a2b61b",
   "metadata": {},
   "source": [
    "#### Reading a file"
   ]
  },
  {
   "cell_type": "code",
   "execution_count": 118,
   "id": "45099c09-4745-4912-8c4d-df4ea0ba2271",
   "metadata": {},
   "outputs": [],
   "source": [
    "# Filename: sample.txt\n",
    "f = open('sample.txt')"
   ]
  },
  {
   "cell_type": "code",
   "execution_count": 119,
   "id": "82ce2825-b6b7-49bb-aaac-b6c7489c37e5",
   "metadata": {},
   "outputs": [
    {
     "data": {
      "text/plain": [
       "<_io.TextIOWrapper name='sample.txt' mode='r' encoding='cp1252'>"
      ]
     },
     "execution_count": 119,
     "metadata": {},
     "output_type": "execute_result"
    }
   ],
   "source": [
    "f"
   ]
  },
  {
   "cell_type": "markdown",
   "id": "e414eb2e-a0c3-4e3a-8036-387da08b8e4e",
   "metadata": {},
   "source": [
    "In mode, we specify whether we want to read'r' ,write'w'or append 'a'to the file "
   ]
  },
  {
   "cell_type": "raw",
   "id": "7415741a-d3ae-4c22-9705-5cc44c14c973",
   "metadata": {},
   "source": [
    "'r'    Open a file for reading(default)\n",
    "'w'    Open a file for writing.Creates a new file if it does not exists or truncates the file if it is exist\n",
    "'x'    Open a file for exclusive creation.if the file already exists, the operation fails.\n",
    "'a'    Open for appending at the end of the file without truncating.Creates a new file if it does not exist"
   ]
  },
  {
   "cell_type": "markdown",
   "id": "c3aa2ade-c22b-4c2b-b2c0-3879894c26c6",
   "metadata": {},
   "source": [
    "##### readable() function"
   ]
  },
  {
   "cell_type": "code",
   "execution_count": 120,
   "id": "ec4dd441-0095-4654-a80f-c9a17451e534",
   "metadata": {},
   "outputs": [
    {
     "data": {
      "text/plain": [
       "True"
      ]
     },
     "execution_count": 120,
     "metadata": {},
     "output_type": "execute_result"
    }
   ],
   "source": [
    "f.readable()"
   ]
  },
  {
   "cell_type": "markdown",
   "id": "c17dd836-52a6-488c-839a-e426e1fc63f1",
   "metadata": {},
   "source": [
    "##### readline() function"
   ]
  },
  {
   "cell_type": "code",
   "execution_count": 121,
   "id": "e0fa2eb3-d0e6-448d-af51-25e924aa94b0",
   "metadata": {},
   "outputs": [
    {
     "data": {
      "text/plain": [
       "'Hello Friends !\\n'"
      ]
     },
     "execution_count": 121,
     "metadata": {},
     "output_type": "execute_result"
    }
   ],
   "source": [
    "f.readline()"
   ]
  },
  {
   "cell_type": "code",
   "execution_count": 122,
   "id": "c4c96e01-29d1-4226-8d2e-ee637e809ba7",
   "metadata": {},
   "outputs": [
    {
     "data": {
      "text/plain": [
       "'How are you?\\n'"
      ]
     },
     "execution_count": 122,
     "metadata": {},
     "output_type": "execute_result"
    }
   ],
   "source": [
    "f.readline()"
   ]
  },
  {
   "cell_type": "code",
   "execution_count": 123,
   "id": "735ef86a-4a9a-4057-b905-247a1d8428ec",
   "metadata": {},
   "outputs": [
    {
     "data": {
      "text/plain": [
       "'Welcome to the World of Python Programming...\\n'"
      ]
     },
     "execution_count": 123,
     "metadata": {},
     "output_type": "execute_result"
    }
   ],
   "source": [
    "f.readline()"
   ]
  },
  {
   "cell_type": "code",
   "execution_count": 124,
   "id": "f10e0808-cfdd-4455-95ac-a37d11264611",
   "metadata": {},
   "outputs": [
    {
     "data": {
      "text/plain": [
       "'Good byee..\\n'"
      ]
     },
     "execution_count": 124,
     "metadata": {},
     "output_type": "execute_result"
    }
   ],
   "source": [
    "f.readline()"
   ]
  },
  {
   "cell_type": "code",
   "execution_count": 125,
   "id": "b460c08e-370d-488c-a859-ae85df39b4e8",
   "metadata": {},
   "outputs": [],
   "source": [
    "f = open('sample.txt')\n"
   ]
  },
  {
   "cell_type": "code",
   "execution_count": 126,
   "id": "a59e57a7-c549-48fc-b4f4-6ddce8f640ed",
   "metadata": {},
   "outputs": [
    {
     "data": {
      "text/plain": [
       "'Hello Frie'"
      ]
     },
     "execution_count": 126,
     "metadata": {},
     "output_type": "execute_result"
    }
   ],
   "source": [
    "f.readline(10)"
   ]
  },
  {
   "cell_type": "code",
   "execution_count": 127,
   "id": "c6173242-6fde-47ac-b7ca-7c40fc0821ee",
   "metadata": {},
   "outputs": [
    {
     "data": {
      "text/plain": [
       "'nds !'"
      ]
     },
     "execution_count": 127,
     "metadata": {},
     "output_type": "execute_result"
    }
   ],
   "source": [
    "f.readline(5)"
   ]
  },
  {
   "cell_type": "code",
   "execution_count": 128,
   "id": "33fd87d2-39dc-4d76-8ddb-f8d5d30cdb9c",
   "metadata": {},
   "outputs": [
    {
     "data": {
      "text/plain": [
       "'\\n'"
      ]
     },
     "execution_count": 128,
     "metadata": {},
     "output_type": "execute_result"
    }
   ],
   "source": [
    "f.readline(10)"
   ]
  },
  {
   "cell_type": "markdown",
   "id": "99312add-2af3-41fc-b751-5ed8989422c1",
   "metadata": {},
   "source": [
    "##### readlines() function"
   ]
  },
  {
   "cell_type": "code",
   "execution_count": 129,
   "id": "c03139a6-71c8-4ee1-ac43-78c2a1e1ca01",
   "metadata": {},
   "outputs": [],
   "source": [
    "f = open('sample.txt')"
   ]
  },
  {
   "cell_type": "code",
   "execution_count": 130,
   "id": "d4fffc02-26de-443a-b397-a922495c296a",
   "metadata": {},
   "outputs": [],
   "source": [
    "data = f.readlines()"
   ]
  },
  {
   "cell_type": "code",
   "execution_count": 131,
   "id": "7cb67bee-ca22-46e7-b599-9ed8aca45e4d",
   "metadata": {},
   "outputs": [
    {
     "data": {
      "text/plain": [
       "['Hello Friends !\\n',\n",
       " 'How are you?\\n',\n",
       " 'Welcome to the World of Python Programming...\\n',\n",
       " 'Good byee..\\n',\n",
       " 'Good byee..']"
      ]
     },
     "execution_count": 131,
     "metadata": {},
     "output_type": "execute_result"
    }
   ],
   "source": [
    "data"
   ]
  },
  {
   "cell_type": "code",
   "execution_count": 132,
   "id": "f3fa6336-6ff4-48a9-b479-8083b5dc8d00",
   "metadata": {},
   "outputs": [
    {
     "name": "stdout",
     "output_type": "stream",
     "text": [
      "Hello Friends !\n",
      "\n",
      "How are you?\n",
      "\n",
      "Welcome to the World of Python Programming...\n",
      "\n",
      "Good byee..\n",
      "\n",
      "Good byee..\n"
     ]
    }
   ],
   "source": [
    "for line in data:\n",
    "    print(line)"
   ]
  },
  {
   "cell_type": "code",
   "execution_count": 133,
   "id": "697a00c3-31fe-4ef4-9325-e92c564c5e77",
   "metadata": {},
   "outputs": [
    {
     "name": "stdout",
     "output_type": "stream",
     "text": [
      "Hello friends !\n",
      "\n",
      "How are you?\n",
      "\n",
      "Welcome to the world of python programming...\n",
      "\n",
      "Good byee..\n",
      "\n",
      "Good byee..\n"
     ]
    }
   ],
   "source": [
    "for line in data:\n",
    "    print(line.capitalize())"
   ]
  },
  {
   "cell_type": "code",
   "execution_count": 134,
   "id": "69e52f54-b34f-4a0e-88bf-10a7ba274ec6",
   "metadata": {
    "scrolled": true
   },
   "outputs": [
    {
     "name": "stdout",
     "output_type": "stream",
     "text": [
      "Hello Friends !\n",
      "\n",
      "How Are You?\n",
      "\n",
      "Welcome To The World Of Python Programming...\n",
      "\n",
      "Good Byee..\n",
      "\n",
      "Good Byee..\n"
     ]
    }
   ],
   "source": [
    "for line in data:\n",
    "    print(line.title())"
   ]
  },
  {
   "cell_type": "markdown",
   "id": "3f4990fd-419f-454d-a3b7-959e55cb2220",
   "metadata": {},
   "source": [
    "##### read() function\n"
   ]
  },
  {
   "cell_type": "code",
   "execution_count": 135,
   "id": "3afe352f-0bbb-4561-8956-4d21c69b47ec",
   "metadata": {},
   "outputs": [],
   "source": [
    "f = open('sample.txt')"
   ]
  },
  {
   "cell_type": "code",
   "execution_count": 136,
   "id": "f5caa3a0-c660-4aa9-8c11-b46ab646e80f",
   "metadata": {},
   "outputs": [],
   "source": [
    "text =f.read()"
   ]
  },
  {
   "cell_type": "code",
   "execution_count": 137,
   "id": "5b4ae7a0-0163-411a-a29a-a1bfdbb20f7e",
   "metadata": {},
   "outputs": [
    {
     "name": "stdout",
     "output_type": "stream",
     "text": [
      "Hello Friends !\n",
      "How are you?\n",
      "Welcome to the World of Python Programming...\n",
      "Good byee..\n",
      "Good byee..\n"
     ]
    }
   ],
   "source": [
    "print(text)"
   ]
  },
  {
   "cell_type": "code",
   "execution_count": 138,
   "id": "0d7a2c30-f38c-4bea-9ad5-ee107e33833b",
   "metadata": {},
   "outputs": [
    {
     "data": {
      "text/plain": [
       "['Hello',\n",
       " 'Friends',\n",
       " '!',\n",
       " 'How',\n",
       " 'are',\n",
       " 'you?',\n",
       " 'Welcome',\n",
       " 'to',\n",
       " 'the',\n",
       " 'World',\n",
       " 'of',\n",
       " 'Python',\n",
       " 'Programming...',\n",
       " 'Good',\n",
       " 'byee..',\n",
       " 'Good',\n",
       " 'byee..']"
      ]
     },
     "execution_count": 138,
     "metadata": {},
     "output_type": "execute_result"
    }
   ],
   "source": [
    "text.split()"
   ]
  },
  {
   "cell_type": "code",
   "execution_count": 139,
   "id": "0d07b155-f503-4f2d-99a2-95af33bd792d",
   "metadata": {},
   "outputs": [
    {
     "name": "stdout",
     "output_type": "stream",
     "text": [
      "P\n",
      "P\n"
     ]
    }
   ],
   "source": [
    "for word in text :\n",
    "    if word.startswith('P') :\n",
    "        print(word)"
   ]
  },
  {
   "cell_type": "markdown",
   "id": "f2cc82bc-7561-400a-9b2a-b66f56aef19d",
   "metadata": {},
   "source": [
    "#### Writing in the file"
   ]
  },
  {
   "cell_type": "code",
   "execution_count": 140,
   "id": "0f55188b-ac71-46d7-ad61-b6a53ee1464e",
   "metadata": {},
   "outputs": [],
   "source": [
    "f = open('myfile.txt','w')"
   ]
  },
  {
   "cell_type": "code",
   "execution_count": 141,
   "id": "5045b01e-1c75-44ba-bea6-4d457dd5d914",
   "metadata": {},
   "outputs": [
    {
     "data": {
      "text/plain": [
       "<_io.TextIOWrapper name='myfile.txt' mode='w' encoding='cp1252'>"
      ]
     },
     "execution_count": 141,
     "metadata": {},
     "output_type": "execute_result"
    }
   ],
   "source": [
    "f"
   ]
  },
  {
   "cell_type": "markdown",
   "id": "c4bab1ed-22a3-4e88-85ef-c31560f6bfae",
   "metadata": {},
   "source": [
    "##### writable() function"
   ]
  },
  {
   "cell_type": "code",
   "execution_count": 142,
   "id": "7af007b0-ff9b-4251-a100-eabbef5fa963",
   "metadata": {},
   "outputs": [
    {
     "data": {
      "text/plain": [
       "True"
      ]
     },
     "execution_count": 142,
     "metadata": {},
     "output_type": "execute_result"
    }
   ],
   "source": [
    "f.writable()"
   ]
  },
  {
   "cell_type": "markdown",
   "id": "8465d394-b0eb-4dbc-b18e-fa246655ea9f",
   "metadata": {},
   "source": [
    "##### writelines() functions"
   ]
  },
  {
   "cell_type": "code",
   "execution_count": 143,
   "id": "23e23fe6-130a-4d4d-a884-42f32d3e9907",
   "metadata": {},
   "outputs": [],
   "source": [
    "lines = ['It is raining heavily.\\n','It may cause flood']"
   ]
  },
  {
   "cell_type": "code",
   "execution_count": 144,
   "id": "db2bae4f-0364-43dd-b680-e587f0639dc1",
   "metadata": {},
   "outputs": [],
   "source": [
    "f.writelines(lines)"
   ]
  },
  {
   "cell_type": "code",
   "execution_count": 145,
   "id": "1d33e7a9-f208-4314-a75f-02529fe65cae",
   "metadata": {},
   "outputs": [],
   "source": [
    "f.close()"
   ]
  },
  {
   "cell_type": "markdown",
   "id": "c899beca-bd99-4a1c-8416-9128672ceed1",
   "metadata": {},
   "source": [
    "##### write() function"
   ]
  },
  {
   "cell_type": "code",
   "execution_count": 146,
   "id": "f70d6367-7c5c-454c-99f6-359c8024ded6",
   "metadata": {},
   "outputs": [],
   "source": [
    "sent = \"Python is interpreted language.We need an interpreter to code in it.\""
   ]
  },
  {
   "cell_type": "code",
   "execution_count": 147,
   "id": "c4ad2015-9bcd-4bb0-9d3c-8eb9f46908b6",
   "metadata": {},
   "outputs": [],
   "source": [
    "f = open('myfile.txt','w')"
   ]
  },
  {
   "cell_type": "code",
   "execution_count": 148,
   "id": "2eb60086-45df-4be8-be91-3c31dcaf2d49",
   "metadata": {},
   "outputs": [
    {
     "data": {
      "text/plain": [
       "68"
      ]
     },
     "execution_count": 148,
     "metadata": {},
     "output_type": "execute_result"
    }
   ],
   "source": [
    "f.write(sent)\n"
   ]
  },
  {
   "cell_type": "code",
   "execution_count": 149,
   "id": "ce65620c-baeb-40e4-9968-4aa3e971a312",
   "metadata": {},
   "outputs": [],
   "source": [
    "f.close()"
   ]
  },
  {
   "cell_type": "code",
   "execution_count": 150,
   "id": "4abfeac5-9cad-4b02-b2d6-d970c2448f4d",
   "metadata": {},
   "outputs": [],
   "source": [
    "with open('myfile.txt','w') as f:\n",
    "    f.write(\"Hello\\n\")\n",
    "    f.write('This is second line\\n')\n",
    "    f.write('and the last line')"
   ]
  },
  {
   "cell_type": "code",
   "execution_count": 151,
   "id": "bd4ee713-3d09-4b89-9b98-7e0f0fe1d2d5",
   "metadata": {},
   "outputs": [],
   "source": [
    "# source file ->sample.txt\n",
    "# destination file->mydata.txt\n",
    "s=open('sample.txt')\n",
    "d=open('mydata.txt','w')\n",
    "contents = s.read()\n",
    "d.write(contents)\n",
    "d.close()"
   ]
  },
  {
   "cell_type": "markdown",
   "id": "bd69e600-7ed0-4ba9-b436-4407f766fff1",
   "metadata": {},
   "source": [
    "#### Apending the data to file"
   ]
  },
  {
   "cell_type": "code",
   "execution_count": 152,
   "id": "f5e2cb19-5569-44bb-850c-424929a15819",
   "metadata": {},
   "outputs": [],
   "source": [
    "s = open('sample.txt','a')"
   ]
  },
  {
   "cell_type": "code",
   "execution_count": 153,
   "id": "3e1e26ef-a359-4972-8422-19e54882dd42",
   "metadata": {},
   "outputs": [
    {
     "data": {
      "text/plain": [
       "12"
      ]
     },
     "execution_count": 153,
     "metadata": {},
     "output_type": "execute_result"
    }
   ],
   "source": [
    "s.write('\\nGood byee..')"
   ]
  },
  {
   "cell_type": "code",
   "execution_count": 154,
   "id": "b60dbd36-3b33-4f41-877d-b4779e4a4b86",
   "metadata": {},
   "outputs": [],
   "source": [
    "s.close()"
   ]
  },
  {
   "cell_type": "code",
   "execution_count": 155,
   "id": "d6cb85d4-c535-4954-9d43-5165be5e6001",
   "metadata": {},
   "outputs": [
    {
     "name": "stdout",
     "output_type": "stream",
     "text": [
      "Hello Friends !\n",
      "How are you?\n",
      "Welcome to the World of Python Programming...\n",
      "Good byee..\n",
      "Good byee..\n",
      "Good byee..\n"
     ]
    }
   ],
   "source": [
    "s=open('sample.txt')\n",
    "print(s.read())"
   ]
  },
  {
   "cell_type": "markdown",
   "id": "0ba92e5c-9e2c-4ae8-b57d-41ec15f9f764",
   "metadata": {},
   "source": [
    "#### Exclusive creation"
   ]
  },
  {
   "cell_type": "code",
   "execution_count": 156,
   "id": "6bdfeea9-d4b9-4250-a125-7ef632833011",
   "metadata": {},
   "outputs": [
    {
     "ename": "FileExistsError",
     "evalue": "[Errno 17] File exists: 'sample.txt'",
     "output_type": "error",
     "traceback": [
      "\u001b[1;31m---------------------------------------------------------------------------\u001b[0m",
      "\u001b[1;31mFileExistsError\u001b[0m                           Traceback (most recent call last)",
      "Cell \u001b[1;32mIn[156], line 1\u001b[0m\n\u001b[1;32m----> 1\u001b[0m f \u001b[38;5;241m=\u001b[39m \u001b[38;5;28mopen\u001b[39m(\u001b[38;5;124m'\u001b[39m\u001b[38;5;124msample.txt\u001b[39m\u001b[38;5;124m'\u001b[39m,\u001b[38;5;124m'\u001b[39m\u001b[38;5;124mx\u001b[39m\u001b[38;5;124m'\u001b[39m)\n",
      "File \u001b[1;32m~\\anaconda3\\Lib\\site-packages\\IPython\\core\\interactiveshell.py:324\u001b[0m, in \u001b[0;36m_modified_open\u001b[1;34m(file, *args, **kwargs)\u001b[0m\n\u001b[0;32m    317\u001b[0m \u001b[38;5;28;01mif\u001b[39;00m file \u001b[38;5;129;01min\u001b[39;00m {\u001b[38;5;241m0\u001b[39m, \u001b[38;5;241m1\u001b[39m, \u001b[38;5;241m2\u001b[39m}:\n\u001b[0;32m    318\u001b[0m     \u001b[38;5;28;01mraise\u001b[39;00m \u001b[38;5;167;01mValueError\u001b[39;00m(\n\u001b[0;32m    319\u001b[0m         \u001b[38;5;124mf\u001b[39m\u001b[38;5;124m\"\u001b[39m\u001b[38;5;124mIPython won\u001b[39m\u001b[38;5;124m'\u001b[39m\u001b[38;5;124mt let you open fd=\u001b[39m\u001b[38;5;132;01m{\u001b[39;00mfile\u001b[38;5;132;01m}\u001b[39;00m\u001b[38;5;124m by default \u001b[39m\u001b[38;5;124m\"\u001b[39m\n\u001b[0;32m    320\u001b[0m         \u001b[38;5;124m\"\u001b[39m\u001b[38;5;124mas it is likely to crash IPython. If you know what you are doing, \u001b[39m\u001b[38;5;124m\"\u001b[39m\n\u001b[0;32m    321\u001b[0m         \u001b[38;5;124m\"\u001b[39m\u001b[38;5;124myou can use builtins\u001b[39m\u001b[38;5;124m'\u001b[39m\u001b[38;5;124m open.\u001b[39m\u001b[38;5;124m\"\u001b[39m\n\u001b[0;32m    322\u001b[0m     )\n\u001b[1;32m--> 324\u001b[0m \u001b[38;5;28;01mreturn\u001b[39;00m io_open(file, \u001b[38;5;241m*\u001b[39margs, \u001b[38;5;241m*\u001b[39m\u001b[38;5;241m*\u001b[39mkwargs)\n",
      "\u001b[1;31mFileExistsError\u001b[0m: [Errno 17] File exists: 'sample.txt'"
     ]
    }
   ],
   "source": [
    "f = open('sample.txt','x')"
   ]
  },
  {
   "cell_type": "code",
   "execution_count": 157,
   "id": "49d46a24-a761-499d-8d00-0e36b3b6dab2",
   "metadata": {},
   "outputs": [],
   "source": [
    "f = open('num1.txt','r')"
   ]
  },
  {
   "cell_type": "code",
   "execution_count": 158,
   "id": "3aff3989-a1fd-409e-850a-20e8727ec650",
   "metadata": {},
   "outputs": [],
   "source": [
    "data =f.read()"
   ]
  },
  {
   "cell_type": "code",
   "execution_count": 159,
   "id": "a10d5de4-5af8-40ad-a4fa-9533ed7baab6",
   "metadata": {},
   "outputs": [
    {
     "data": {
      "text/plain": [
       "'23\\n54\\n12\\n67\\n39\\n81\\n50\\n88\\n97\\n33\\n51\\n48'"
      ]
     },
     "execution_count": 159,
     "metadata": {},
     "output_type": "execute_result"
    }
   ],
   "source": [
    "data"
   ]
  },
  {
   "cell_type": "code",
   "execution_count": 160,
   "id": "c44171ad-5bc8-4a20-904a-9b083b5d2196",
   "metadata": {},
   "outputs": [],
   "source": [
    "nums= data.split()"
   ]
  },
  {
   "cell_type": "code",
   "execution_count": 161,
   "id": "3dbce867-b9fa-4d00-956c-6fdaff7e3cb5",
   "metadata": {},
   "outputs": [
    {
     "data": {
      "text/plain": [
       "['23', '54', '12', '67', '39', '81', '50', '88', '97', '33', '51', '48']"
      ]
     },
     "execution_count": 161,
     "metadata": {},
     "output_type": "execute_result"
    }
   ],
   "source": [
    "nums"
   ]
  },
  {
   "cell_type": "code",
   "execution_count": 162,
   "id": "1f953d7d-661a-4b8a-af2b-ed853cd4fc7c",
   "metadata": {},
   "outputs": [],
   "source": [
    "nums= [int(n) for n in nums]"
   ]
  },
  {
   "cell_type": "code",
   "execution_count": 163,
   "id": "e999a3d5-0ed9-49bf-a5c1-08b158da9be7",
   "metadata": {},
   "outputs": [
    {
     "data": {
      "text/plain": [
       "[23, 54, 12, 67, 39, 81, 50, 88, 97, 33, 51, 48]"
      ]
     },
     "execution_count": 163,
     "metadata": {},
     "output_type": "execute_result"
    }
   ],
   "source": [
    "nums"
   ]
  },
  {
   "cell_type": "code",
   "execution_count": 164,
   "id": "e6148f8d-fcb4-47fd-84c1-25c3737c58a9",
   "metadata": {},
   "outputs": [
    {
     "data": {
      "text/plain": [
       "643"
      ]
     },
     "execution_count": 164,
     "metadata": {},
     "output_type": "execute_result"
    }
   ],
   "source": [
    "sum(nums)"
   ]
  },
  {
   "cell_type": "code",
   "execution_count": 165,
   "id": "d9614339-28bf-4a36-b1d0-9c215b1c5ef8",
   "metadata": {},
   "outputs": [],
   "source": [
    "n = open('num2.txt','r')"
   ]
  },
  {
   "cell_type": "code",
   "execution_count": 166,
   "id": "59f6fb3b-d506-4cd9-91f1-fcc2025f8168",
   "metadata": {},
   "outputs": [],
   "source": [
    "data =n.read()"
   ]
  },
  {
   "cell_type": "code",
   "execution_count": 167,
   "id": "15c1f1ad-3bcd-4785-933b-6341845a75a1",
   "metadata": {},
   "outputs": [
    {
     "data": {
      "text/plain": [
       "'45 abc\\n67 78 12\\nfcdf 34 11\\ngh edt hy\\n56\\n34 56 7f\\n12 64 eeee \\n4\\n56 67 78 dr\\n12 f34 63'"
      ]
     },
     "execution_count": 167,
     "metadata": {},
     "output_type": "execute_result"
    }
   ],
   "source": [
    "data"
   ]
  },
  {
   "cell_type": "code",
   "execution_count": 168,
   "id": "b30f31c9-16b7-4a8e-8ea3-b5f9396da41e",
   "metadata": {},
   "outputs": [
    {
     "data": {
      "text/plain": [
       "['45',\n",
       " 'abc',\n",
       " '67',\n",
       " '78',\n",
       " '12',\n",
       " 'fcdf',\n",
       " '34',\n",
       " '11',\n",
       " 'gh',\n",
       " 'edt',\n",
       " 'hy',\n",
       " '56',\n",
       " '34',\n",
       " '56',\n",
       " '7f',\n",
       " '12',\n",
       " '64',\n",
       " 'eeee',\n",
       " '4',\n",
       " '56',\n",
       " '67',\n",
       " '78',\n",
       " 'dr',\n",
       " '12',\n",
       " 'f34',\n",
       " '63']"
      ]
     },
     "execution_count": 168,
     "metadata": {},
     "output_type": "execute_result"
    }
   ],
   "source": [
    "data.split()"
   ]
  },
  {
   "cell_type": "code",
   "execution_count": 169,
   "id": "e3fb02f1-b3ef-4d8d-8c3a-fe5e32aa5a92",
   "metadata": {},
   "outputs": [],
   "source": [
    "nums;"
   ]
  },
  {
   "cell_type": "code",
   "execution_count": 171,
   "id": "53052042-905f-4633-a79e-efd153b94e54",
   "metadata": {},
   "outputs": [
    {
     "data": {
      "text/plain": [
       "643"
      ]
     },
     "execution_count": 171,
     "metadata": {},
     "output_type": "execute_result"
    }
   ],
   "source": [
    "sum(nums)"
   ]
  },
  {
   "cell_type": "markdown",
   "id": "9fc025d1-62f5-4f75-8f2b-203f160cb6f2",
   "metadata": {},
   "source": [
    "##### File position"
   ]
  },
  {
   "cell_type": "code",
   "execution_count": 198,
   "id": "4e6fad51-8f7f-4b34-aa65-759414b8a6be",
   "metadata": {},
   "outputs": [],
   "source": [
    "f = open('sample.txt')"
   ]
  },
  {
   "cell_type": "code",
   "execution_count": 191,
   "id": "f7b364ea-b6f8-4d0d-a516-fa7e9fb36a34",
   "metadata": {},
   "outputs": [
    {
     "data": {
      "text/plain": [
       "0"
      ]
     },
     "execution_count": 191,
     "metadata": {},
     "output_type": "execute_result"
    }
   ],
   "source": [
    "f.tell()"
   ]
  },
  {
   "cell_type": "code",
   "execution_count": 192,
   "id": "2bca457d-e70a-4574-b78a-b2bc22ab538d",
   "metadata": {},
   "outputs": [
    {
     "data": {
      "text/plain": [
       "'Hello Friends !\\n'"
      ]
     },
     "execution_count": 192,
     "metadata": {},
     "output_type": "execute_result"
    }
   ],
   "source": [
    "f.readline()"
   ]
  },
  {
   "cell_type": "code",
   "execution_count": 193,
   "id": "ceb7eb1e-7c40-4974-94ac-529e696ee1ae",
   "metadata": {},
   "outputs": [
    {
     "data": {
      "text/plain": [
       "17"
      ]
     },
     "execution_count": 193,
     "metadata": {},
     "output_type": "execute_result"
    }
   ],
   "source": [
    "f.tell()"
   ]
  },
  {
   "cell_type": "code",
   "execution_count": 194,
   "id": "5dbd6d4b-e98e-43a2-8f65-519ae4675db6",
   "metadata": {},
   "outputs": [
    {
     "data": {
      "text/plain": [
       "'How are you?\\n'"
      ]
     },
     "execution_count": 194,
     "metadata": {},
     "output_type": "execute_result"
    }
   ],
   "source": [
    "f.readline()"
   ]
  },
  {
   "cell_type": "code",
   "execution_count": 195,
   "id": "165b4c55-c21d-47c8-bc50-266e19636784",
   "metadata": {},
   "outputs": [
    {
     "data": {
      "text/plain": [
       "31"
      ]
     },
     "execution_count": 195,
     "metadata": {},
     "output_type": "execute_result"
    }
   ],
   "source": [
    "f.tell()"
   ]
  },
  {
   "cell_type": "code",
   "execution_count": 196,
   "id": "c3028e63-3657-484a-8fd7-2e70d99876ff",
   "metadata": {},
   "outputs": [
    {
     "data": {
      "text/plain": [
       "'Welcome to the World of Python Programming...\\n'"
      ]
     },
     "execution_count": 196,
     "metadata": {},
     "output_type": "execute_result"
    }
   ],
   "source": [
    "f.readline()"
   ]
  },
  {
   "cell_type": "code",
   "execution_count": 197,
   "id": "2f700442-36df-43e1-9c15-400408a6a549",
   "metadata": {},
   "outputs": [
    {
     "data": {
      "text/plain": [
       "78"
      ]
     },
     "execution_count": 197,
     "metadata": {},
     "output_type": "execute_result"
    }
   ],
   "source": [
    "f.tell()"
   ]
  },
  {
   "cell_type": "code",
   "execution_count": 200,
   "id": "525420ab-aa7f-4758-a3c5-e82d0594e94e",
   "metadata": {},
   "outputs": [
    {
     "data": {
      "text/plain": [
       "50"
      ]
     },
     "execution_count": 200,
     "metadata": {},
     "output_type": "execute_result"
    }
   ],
   "source": [
    "f.seek(50)"
   ]
  },
  {
   "cell_type": "code",
   "execution_count": 201,
   "id": "cd77dee0-e2bb-4071-8fa7-96910ea73159",
   "metadata": {},
   "outputs": [
    {
     "data": {
      "text/plain": [
       "'d of Python Programming...\\n'"
      ]
     },
     "execution_count": 201,
     "metadata": {},
     "output_type": "execute_result"
    }
   ],
   "source": [
    "f.readline()"
   ]
  },
  {
   "cell_type": "markdown",
   "id": "508d1a16-0484-48ce-bb70-f1f3991b8f23",
   "metadata": {},
   "source": [
    "#### Binary mode"
   ]
  },
  {
   "cell_type": "markdown",
   "id": "17e7c78f-3e93-4ea3-8a12-8d5cc2a33dd9",
   "metadata": {},
   "source": [
    "opening the file in the binary mode means you are telling the interupts to treat the file content as a sequence\n",
    "sequence of raw bytes,rather than trying to interupt it as"
   ]
  },
  {
   "cell_type": "code",
   "execution_count": 203,
   "id": "552c25d4-bc31-46b3-8292-e6f5f9093092",
   "metadata": {},
   "outputs": [],
   "source": [
    "with open('mydata.bin','wb')as f:\n",
    "    f.write(b'Hello world!')"
   ]
  },
  {
   "cell_type": "code",
   "execution_count": 204,
   "id": "e2661a7d-dceb-49ee-ab85-6b5433bc8e2f",
   "metadata": {},
   "outputs": [
    {
     "name": "stdout",
     "output_type": "stream",
     "text": [
      "b'Hello world!'\n"
     ]
    }
   ],
   "source": [
    "with open('mydata.bin','rb')as f:\n",
    "    print(f.read())\n",
    "\n"
   ]
  },
  {
   "cell_type": "code",
   "execution_count": 207,
   "id": "6c2655e6-179b-424f-8ffb-66cc6d049704",
   "metadata": {},
   "outputs": [
    {
     "name": "stdout",
     "output_type": "stream",
     "text": [
      "Data in file b'Hello world!'\n"
     ]
    }
   ],
   "source": [
    "with open('mydata.bin','rb')as f:\n",
    "    contents=f.read()\n",
    "    print(f'Data in file {contents}')\n"
   ]
  },
  {
   "cell_type": "code",
   "execution_count": null,
   "id": "10e2cb07-3077-4128-b150-1deb82c85ae3",
   "metadata": {},
   "outputs": [],
   "source": []
  }
 ],
 "metadata": {
  "kernelspec": {
   "display_name": "Python [conda env:base] *",
   "language": "python",
   "name": "conda-base-py"
  },
  "language_info": {
   "codemirror_mode": {
    "name": "ipython",
    "version": 3
   },
   "file_extension": ".py",
   "mimetype": "text/x-python",
   "name": "python",
   "nbconvert_exporter": "python",
   "pygments_lexer": "ipython3",
   "version": "3.12.7"
  }
 },
 "nbformat": 4,
 "nbformat_minor": 5
}
